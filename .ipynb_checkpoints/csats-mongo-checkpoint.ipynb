{
 "metadata": {
  "name": "",
  "signature": "sha256:c076fec3502a8b745620435ebc0f092d31842180f7dc5da7bdaa022ef4bf3922"
 },
 "nbformat": 3,
 "nbformat_minor": 0,
 "worksheets": [
  {
   "cells": [
    {
     "cell_type": "markdown",
     "metadata": {},
     "source": [
      "##By the Numbers\n",
      "* Number of total assignments completed\n",
      "* Average time spend answering all questions\n",
      "* Number of dropoffs at each stage -\n",
      "  * Dropoffs before submitting survey default form\n",
      "  * Dropoffs before submitting thank-you\n",
      "* HITs returned\n",
      "* Number of users who provided email contact\n",
      "* Tag cloud from a couple key questions\n",
      "\n",
      "\n",
      "Total Unique Visitors --\t105\n",
      "\n",
      "Completed Default Surveys --\t59\n",
      "\n",
      "Completed ThankYou Surveys --\t49\n",
      "\n",
      "Dropoffs During Default --\t46\n",
      "\n",
      "Dropoffs During ThankYou --\t10\n",
      "\n",
      "##Takeaways\n",
      "\n",
      "\n",
      "\n",
      "##Random bits of info\n",
      "\n",
      "* One user who has done 45 hits for us before forgot to click on 'Thank You' page and receive their completion code, but submitted a blank code anyways. Meh.\n",
      "* Many of the 10 who completed the Default survey but not the ThankYou survey simply waited too long to begin (xvZshFLgSAofKNrHc is a good example). In other words, they hoarded. They accepted the assignment, didn't fill in any questions for 11 of 15 minutes, then took longer than the remaining 4 to answer the default questions. Our app has no concept of time limits, so they were able to continue but then were unable to input our code into Turk (as that page would have timed out). Add timer to App moving forward? Would require some kind of Turk API query.\n",
      "* 66 users with assignments labeled \"Complete\", but only 49 people who completed the ThankYou survey. HOW?"
     ]
    },
    {
     "cell_type": "code",
     "collapsed": false,
     "input": [
      "from pymongo import MongoClient\n",
      "import pprint\n",
      "from collections import OrderedDict\n",
      "\n",
      "pp = pprint.PrettyPrinter(indent=4).pprint\n",
      "\n",
      "client = MongoClient()\n",
      "db = client.test01"
     ],
     "language": "python",
     "metadata": {},
     "outputs": [],
     "prompt_number": 30
    },
    {
     "cell_type": "code",
     "collapsed": false,
     "input": [
      "studyId = 'FKZsvL9sWpm8qNnZm'\n",
      "\n",
      "surveyId = db.surveys.find_one({'studyId':studyId, 'purpose':'Default'})['_id']\n",
      "surveyId_thankyou = db.surveys.find_one({'studyId':studyId, 'purpose':'ThankYou'})['_id']\n",
      "\n",
      "assignments = list(db.assignments.find({'studyId':studyId}))\n",
      "\n",
      "responses = list(db.responses.find({'surveyId':surveyId}))\n",
      "responses_complete = list(db.responses.find({'surveyId':surveyId, 'isComplete':True}))\n",
      "responses_incomplete = list(db.responses.find({'surveyId':surveyId, 'isComplete':{'$exists':False}}))\n",
      "responses_thankyou = list(db.responses.find({'surveyId':surveyId_thankyou, 'isComplete':True}))\n"
     ],
     "language": "python",
     "metadata": {},
     "outputs": [],
     "prompt_number": 316
    },
    {
     "cell_type": "code",
     "collapsed": false,
     "input": [
      "len(list(db.responses.find({'surveyId':surveyId, 'isComplete':{'$exists':True}})))"
     ],
     "language": "python",
     "metadata": {},
     "outputs": [
      {
       "metadata": {},
       "output_type": "pyout",
       "prompt_number": 325,
       "text": [
        "59"
       ]
      }
     ],
     "prompt_number": 325
    },
    {
     "cell_type": "code",
     "collapsed": false,
     "input": [
      "# General Stats\n",
      "stats = OrderedDict()\n",
      "\n",
      "stats['Total Unique Visitors'] = len(responses)\n",
      "stats['Completed Default Surveys'] = len(responses_complete)\n",
      "stats['Completed ThankYou Surveys'] = len(responses_thankyou)\n",
      "stats['Dropoffs During Default'] = len(responses) - len(responses_complete)\n",
      "stats['Dropoffs During ThankYou'] = len(responses_complete) - len(responses_thankyou)\n",
      "\n",
      "for k, v in stats.iteritems():\n",
      "    print k, '--\\t', v"
     ],
     "language": "python",
     "metadata": {},
     "outputs": [
      {
       "output_type": "stream",
       "stream": "stdout",
       "text": [
        "Total Unique Visitors --\t105\n",
        "Completed Default Surveys --\t59\n",
        "Completed ThankYou Surveys --\t49\n",
        "Dropoffs During Default --\t46\n",
        "Dropoffs During ThankYou --\t10\n"
       ]
      }
     ],
     "prompt_number": 317
    },
    {
     "cell_type": "code",
     "collapsed": false,
     "input": [
      "# Write out to csv\n",
      "import csv \n",
      "\n",
      "survey = db.surveys.find_one({'_id': surveyId})\n",
      "question_names = [db.questions.find_one(questionId)['title'] for questionId in survey['questions']]\n",
      "question_ids = [db.questions.find_one(questionId)['_id'] for questionId in survey['questions']]\n",
      "\n",
      "with open('/home/tyleha/Study_Data_%s.csv'%studyId, 'w') as csvfile:\n",
      "    spamwriter = csv.writer(csvfile, delimiter=',')\n",
      "    keys = ['_id', 'userId', 'updatedAt', 'isComplete']\n",
      "    \n",
      "    # Write headers\n",
      "    spamwriter.writerow(keys + ['isWholeHitComplete'] + question_names )\n",
      "    for response in responses_complete:\n",
      "        s = []\n",
      "        for key in keys: \n",
      "            s.append(response[key])\n",
      "            \n",
      "        # Check for finishing whole HIT (if you did thankyou)\n",
      "        s.append(db.responses.find_one({'userId': response['userId'], 'surveyId':surveyId_thankyou}) != None)\n",
      "                 \n",
      "        for qId in question_ids:\n",
      "            try:\n",
      "                s.append(response['answers'][qId]['comment'])\n",
      "            except KeyError:\n",
      "                # No answer for this question\n",
      "                s.append('')\n",
      "            \n",
      "        spamwriter.writerow(s)\n",
      "    "
     ],
     "language": "python",
     "metadata": {},
     "outputs": [],
     "prompt_number": 231
    },
    {
     "cell_type": "code",
     "collapsed": false,
     "input": [
      "# Create Word Clouds of answers\n",
      "for idx, qId in enumerate(question_ids):\n",
      "    text = ''\n",
      "    for response in responses_complete:\n",
      "        try:\n",
      "            text += response['answers'][qId]['comment'] + ' '\n",
      "        except:\n",
      "            pass\n",
      "\n",
      "    from wordcloud import WordCloud\n",
      "    wordcloud = WordCloud(width=1000, height=600, max_words=50, max_font_size=500).generate(text)\n",
      "    wordcloud.to_file('Wordcloud_%s.png'%question_names[idx])"
     ],
     "language": "python",
     "metadata": {},
     "outputs": [],
     "prompt_number": 279
    },
    {
     "cell_type": "code",
     "collapsed": false,
     "input": [
      "# Plots:\n",
      "import matplotlib.pyplot as plt\n",
      "\n",
      "\n",
      "# Plot of completions vs time \n",
      "# Great opportunity for map/reduce, next time\n",
      "complete_dates = [db.assignments.find_one({'_id':response['assignmentId']})['createdAt'] for response in responses_complete]\n",
      "complete_dates = sorted(complete_dates)\n",
      "\n",
      "fig, ax = plt.subplots(figsize=(8,6))\n",
      "ax.plot_date(complete_dates, range(len(complete_dates)), 'b-')\n",
      "# Dropoffs\n",
      "incomplete_dates = [db.assignments.find_one({'_id':response['assignmentId']})['createdAt'] for response in responses_incomplete]\n",
      "incomplete_dates = sorted(incomplete_dates)\n",
      "ax.plot_date(incomplete_dates, range(len(incomplete_dates)), 'r-')\n",
      "\n",
      "ax.legend(['Completed', 'Dropoffs'], loc='lower right')\n",
      "ax.set_title('Assignments over Time')\n",
      "ax.set_ylabel('# Assignments')\n",
      "ax.set_xlabel('Time')\n",
      "\n",
      "# fig.autofmt_xdate()\n",
      "import matplotlib.dates as dates\n",
      "ax.xaxis.set_major_formatter(dates.DateFormatter('%H:%M'))\n",
      "fig.autofmt_xdate()\n",
      "\n",
      "\n",
      "\n"
     ],
     "language": "python",
     "metadata": {},
     "outputs": [
      {
       "metadata": {},
       "output_type": "display_data",
       "png": "[encoded data removed]",
       "text": [
        "<matplotlib.figure.Figure at 0x7f389205ea90>"
       ]
      }
     ],
     "prompt_number": 392
    },
    {
     "cell_type": "code",
     "collapsed": false,
     "input": [
      "# Why are there more assignments marked isComplete than there are ThankYou surveys?\n",
      "\n",
      "# xx = db.assignments.find({'studyId':studyId, 'isComplete':True})\n",
      "xx = db.assignments.find({'studyId':studyId, 'isComplete':False})\n",
      "# for x in xx:\n",
      "#     print db.responses.find_one({'assignmentId':x['_id'], 'surveyId': surveyId})\n",
      "#     print x\n",
      "#     print"
     ],
     "language": "python",
     "metadata": {},
     "outputs": [],
     "prompt_number": 393
    },
    {
     "cell_type": "code",
     "collapsed": false,
     "input": [],
     "language": "python",
     "metadata": {},
     "outputs": []
    }
   ],
   "metadata": {}
  }
 ]
}