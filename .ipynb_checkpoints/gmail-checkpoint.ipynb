{
 "cells": [
  {
   "cell_type": "code",
   "execution_count": 1,
   "metadata": {
    "collapsed": false
   },
   "outputs": [],
   "source": [
    "%load_ext autoreload\n",
    "%autoreload 2"
   ]
  },
  {
   "cell_type": "code",
   "execution_count": 2,
   "metadata": {
    "collapsed": false
   },
   "outputs": [],
   "source": [
    "import os\n",
    "import email as em\n",
    "\n",
    "from datetime import date, timedelta, datetime\n",
    "from time import mktime\n",
    "from email.utils import parsedate, parsedate_tz, mktime_tz\n",
    "from email.parser import HeaderParser\n",
    "\n",
    "from classes.gmail import GmailAccount"
   ]
  },
  {
   "cell_type": "code",
   "execution_count": 3,
   "metadata": {
    "collapsed": true
   },
   "outputs": [],
   "source": [
    "password = open(os.path.expanduser('~/.ssh/pw'), 'r').read().strip()"
   ]
  },
  {
   "cell_type": "code",
   "execution_count": 5,
   "metadata": {
    "collapsed": false
   },
   "outputs": [
    {
     "data": {
      "text/plain": [
       "('OK', [b'tyleha@gmail.com authenticated (Success)'])"
      ]
     },
     "execution_count": 5,
     "metadata": {},
     "output_type": "execute_result"
    }
   ],
   "source": [
    "tyler = GmailAccount(username='tyleha@gmail.com', password=password)\n",
    "tyler.login()"
   ]
  },
  {
   "cell_type": "code",
   "execution_count": 6,
   "metadata": {
    "collapsed": false
   },
   "outputs": [],
   "source": [
    "daysback = 70\n",
    "notsince = 0\n",
    "since = (date.today() - timedelta(daysback)).strftime(\"%d-%b-%Y\")\n",
    "before = (date.today() - timedelta(notsince)).strftime(\"%d-%b-%Y\")\n",
    "\n",
    "SEARCH = '(SENTSINCE {si} SENTBEFORE {bf})'.format(si=since, bf=before)\n",
    "BODY = '(BODY.PEEK[TEXT])'\n",
    "ALL_HEADERS = '(BODY.PEEK[HEADER.FIELDS (DATE TO CC FROM SUBJECT)])'\n",
    "DATE = '(BODY.PEEK[HEADER.FIELDS (DATE)])'"
   ]
  },
  {
   "cell_type": "code",
   "execution_count": 12,
   "metadata": {
    "collapsed": false
   },
   "outputs": [],
   "source": [
    "#LOAD GMAIL EMAILS\n",
    "received = tyler.load_parse_query(SEARCH, ALL_HEADERS, '\"[Gmail]/All Mail\"')\n",
    "# sent = tyler.load_parse_query(SEARCH, ALL_HEADERS, '\"[Gmail]/Sent Mail\"')"
   ]
  },
  {
   "cell_type": "code",
   "execution_count": 6,
   "metadata": {
    "collapsed": true
   },
   "outputs": [],
   "source": [
    "def load_pickle(filepath, ftype='r'):\n",
    "    \"\"\"opens and closes pickled file and returns contained pickleobj\"\"\"\n",
    "    f = open(filepath, ftype)\n",
    "    contents = pickle.load(f)\n",
    "    f.close()\n",
    "    return contents    \n",
    "\n",
    "def save_pickle(content, filepath, ftype='w'):\n",
    "    \"\"\"\n",
    "    :return: pickle's weird dump output. not useful\n",
    "    :content: the object to be saved (can be any type)\n",
    "    :filepath: the string path, relative or not, at which to save\n",
    "    :ftype: 'w' to write, 'wb' to write binary\n",
    "    \"\"\"\n",
    "    f = open(filepath, ftype)\n",
    "    xx = pickle.dump(content, f)\n",
    "    f.close()\n",
    "    return xx"
   ]
  },
  {
   "cell_type": "markdown",
   "metadata": {},
   "source": [
    "# Do the pandas thing"
   ]
  },
  {
   "cell_type": "code",
   "execution_count": 3,
   "metadata": {
    "collapsed": true
   },
   "outputs": [],
   "source": [
    "import pandas as pd\n",
    "import numpy as np\n",
    "import pickle"
   ]
  },
  {
   "cell_type": "code",
   "execution_count": 10,
   "metadata": {
    "collapsed": true
   },
   "outputs": [],
   "source": [
    "def scrub_email(headers):   \n",
    "    # IMAP sometimes returns fields with varying capitalization. Lowercase each header name.\n",
    "    return dict([(title.lower(), value) for title, value in headers])\n",
    "\n",
    "def try_parse_date(d):\n",
    "    try:\n",
    "        ts = pd.Timestamp(d)\n",
    "\n",
    "        # IMAP is very much not perfect...some of my emails have no timezone\n",
    "        # in their date string. ¯\\_(ツ)_/¯\n",
    "        if ts.tz is None: \n",
    "            ts = ts.tz_localize('UTC')\n",
    "\n",
    "        # I moved from east coast to west coast in fall 2010, so automatically assume EST/PST \n",
    "        # before/after that date.\n",
    "        if ts < pd.Timestamp('2010-09-04', tz='US/Eastern'):\n",
    "            ts = ts.tz_convert('US/Eastern')\n",
    "        else:\n",
    "            ts = ts.tz_convert('US/Pacific')\n",
    "        # I would have liked to avoid this whole parse_date method altogether and instead just\n",
    "        # use pd.Timestamp(df.date), however Pandas is _really_ not built to handle DatetimeIndex\n",
    "        # or PeriodIndex of anything other than a single timezone (see http://stackoverflow.com/a/17027507/1766755)\n",
    "        # Because we care about timezone-naive datestamps and Pandas forces us to be timezone aware, \n",
    "        # we have to fall back to the datetime library and strip timezone from all our dates\n",
    "        # using tzinfo=None.\n",
    "        return pd.Timestamp(ts.to_datetime().replace(tzinfo=None))\n",
    "    \n",
    "    except:\n",
    "        # Sometimes, IMAP just has dates formatted in a totally improper \n",
    "        # way...see 'Thursday , 10 Dec 2009 16:28:55, PST'. These are so few and far between and so\n",
    "        # irregular that we'll just remove them from our dataset.\n",
    "        return np.nan"
   ]
  },
  {
   "cell_type": "code",
   "execution_count": 11,
   "metadata": {
    "collapsed": false
   },
   "outputs": [],
   "source": [
    "email_dataset = load_pickle('/home/tyleha/git/all_sent', 'rb')"
   ]
  },
  {
   "cell_type": "code",
   "execution_count": 13,
   "metadata": {
    "collapsed": false,
    "scrolled": false
   },
   "outputs": [],
   "source": [
    "# Frequency\n",
    "freq = 'M'\n",
    "df = pd.DataFrame([scrub_email(email._headers) for email in email_dataset])\n",
    " \n",
    "# This might take a minute...\n",
    "df['timestamp'] = df.date.map(try_parse_date)\n",
    "df = df.dropna(subset=['timestamp'])\n"
   ]
  },
  {
   "cell_type": "code",
   "execution_count": 310,
   "metadata": {
    "collapsed": false
   },
   "outputs": [],
   "source": [
    "# Now we're off to the races\n",
    "df['hour'] = df.timestamp.map(lambda x: x.hour)\n",
    "df = df.set_index('timestamp', drop=False)\n",
    "df.index = df.index.to_period(freq)\n"
   ]
  },
  {
   "cell_type": "code",
   "execution_count": 311,
   "metadata": {
    "collapsed": false
   },
   "outputs": [
    {
     "name": "stdout",
     "output_type": "stream",
     "text": [
      " 117 of 117    [##################### 100% #####################]    Time: 0:00:00    ETA: ..."
     ]
    }
   ],
   "source": [
    "# Scale our heatmap to the min/max range of our email data.\n",
    "mindate = df.timestamp.min()\n",
    "maxdate = df.timestamp.max()\n",
    "pr = pd.period_range(mindate, maxdate, freq=freq)\n",
    "\n",
    "# Initialize a new HeatMap dataframe where the indicies are actually Periods of time!\n",
    "# Size the frame anticipating the correct number of rows (periods) and columns (hours in a day)\n",
    "hm = pd.DataFrame(np.zeros([len(pr), 24]) , index=pr)\n",
    "\n",
    "from classes.progress import ProgressBar\n",
    "\n",
    "prog = ProgressBar(len(pr))\n",
    "for i, period in enumerate(pr):\n",
    "    # HERE'S where the magic happens...with pandas, when you structure your data correctly, it can be so terse that\n",
    "    # you almost aren't sure the program does what it says it does...\n",
    "    # For this period (month), find all emails within this month and count how many emails were received\n",
    "    # within each hour of the day in that month. Wow. Takes more words to explain than to code.\n",
    "    # Normally that would take you 3 or 4 for loops, constantly trying to catch edge cases and fencepost\n",
    "    # problems. But here, it's as simple as you please.\n",
    "    if period in df.index:\n",
    "        hm.ix[period] = df.loc[[period]].hour.value_counts()\n",
    "    prog.animate(i)\n",
    "    \n",
    "# If for some weird reason there was ever an hour period where you had no email,\n",
    "# fill those NaNs with zeros.\n",
    "hm.fillna(0, inplace=True)"
   ]
  },
  {
   "cell_type": "markdown",
   "metadata": {},
   "source": [
    "# Heatmap Plot"
   ]
  },
  {
   "cell_type": "code",
   "execution_count": 295,
   "metadata": {
    "collapsed": false
   },
   "outputs": [],
   "source": [
    "# Hide that time I sent a bajillion wedding save the date emails\n",
    "hm.ix[pd.Period('2013-04', 'M')][18] = 20"
   ]
  },
  {
   "cell_type": "code",
   "execution_count": 303,
   "metadata": {
    "collapsed": true
   },
   "outputs": [],
   "source": [
    "import matplotlib.pyplot as plt\n",
    "import matplotlib.dates as dates\n",
    "from datetime import time\n",
    "import matplotlib.gridspec as gridspec\n",
    "%matplotlib inline"
   ]
  },
  {
   "cell_type": "code",
   "execution_count": 304,
   "metadata": {
    "collapsed": false,
    "scrolled": false
   },
   "outputs": [
    {
     "data": {
      "text/plain": [
       "<matplotlib.text.Text at 0x7f9263980128>"
      ]
     },
     "execution_count": 304,
     "metadata": {},
     "output_type": "execute_result"
    },
    {
     "name": "stderr",
     "output_type": "stream",
     "text": [
      "/home/tyleha/anaconda3/lib/python3.5/site-packages/matplotlib/collections.py:590: FutureWarning: elementwise comparison failed; returning scalar instead, but in the future will perform elementwise comparison\n",
      "  if self._edgecolors == str('face'):\n"
     ]
    },
    {
     "data": {
      "image/png": "[encoded data removed]",
      "text/plain": [
       "<matplotlib.figure.Figure at 0x7f9263aca160>"
      ]
     },
     "metadata": {},
     "output_type": "display_data"
    }
   ],
   "source": [
    "# Set up figure\n",
    "fig = plt.figure(figsize=(12,8))\n",
    "gs = gridspec.GridSpec(2, 2, height_ratios=[4,1], width_ratios=[20,1])\n",
    "gs.update(wspace=0.05)\n",
    "\n",
    "\n",
    "### Plot our heatmap\n",
    "ax = plt.subplot(gs[0])\n",
    "x = dates.date2num([p.start_time for p in pr])\n",
    "t = [datetime(2000, 1, 1, h, 0, 0) for h in range(24)]\n",
    "t.append(datetime(2000, 1, 2, 0, 0, 0))\n",
    "y = dates.date2num(t)\n",
    "cm = plt.get_cmap('Oranges')\n",
    "plt.pcolor(x, y, hm.transpose().as_matrix(), cmap=cm)\n",
    "\n",
    "ax.xaxis.set_major_formatter(dates.DateFormatter('%b %Y'))\n",
    "ax.yaxis.set_major_formatter(dates.DateFormatter('%H:%M'))\n",
    "ax.set_yticks(t[::2])\n",
    "ax.set_xticks(x[::12])\n",
    "ax.tick_params(axis='x', pad=14, length=10, direction='inout')\n",
    "ax.set_xlim([x[0], x[-1]])\n",
    "ax.set_ylim([t[0], t[-1]])\n",
    "\n",
    "# Add a colorbar!\n",
    "plt.colorbar(cax=plt.subplot(gs[1]))\n",
    "\n",
    "#### Plot total emails over time \n",
    "ax2 = plt.subplot(gs[2])\n",
    "total_email = df.groupby(level=0).hour.count()\n",
    "plt.plot_date(total_email.index, total_email, '-', linewidth=1.5, color=cm(0.999))\n",
    "ax2.fill_between(total_email.index, 0, total_email, color=cm(0.5))\n",
    "\n",
    "ax2.xaxis.tick_top()\n",
    "out = ax2.set_xticks(total_email.index[::12])\n",
    "out = ax2.xaxis.set_ticklabels([])\n",
    "ax2.tick_params(axis='x', pad=14, length=10, direction='inout')\n",
    "\n",
    "ax.set_title(\"Sent Emails by Month and Time-of-day, 2006-2016\", fontdict={'size':20}, y=1.04)\n",
    "ax.text(1.0, -0.45, \"BeneathData.com\", color='#555555', fontsize=16, ha='right', transform=ax.transAxes)\n"
   ]
  },
  {
   "cell_type": "code",
   "execution_count": 305,
   "metadata": {
    "collapsed": false
   },
   "outputs": [
    {
     "name": "stderr",
     "output_type": "stream",
     "text": [
      "/home/tyleha/anaconda3/lib/python3.5/site-packages/matplotlib/collections.py:590: FutureWarning: elementwise comparison failed; returning scalar instead, but in the future will perform elementwise comparison\n",
      "  if self._edgecolors == str('face'):\n"
     ]
    }
   ],
   "source": [
    "fig.savefig('received_emails_heatmap.png')"
   ]
  },
  {
   "cell_type": "markdown",
   "metadata": {},
   "source": [
    "# Scratch City"
   ]
  },
  {
   "cell_type": "code",
   "execution_count": 193,
   "metadata": {
    "collapsed": false,
    "scrolled": false
   },
   "outputs": [
    {
     "data": {
      "text/plain": [
       "Tyler Hartley         11828\n",
       "Tyler and Jen            66\n",
       "tyleha@gmail.com         65\n",
       "tlh2k@virginia.edu        8\n",
       "Tyler                     3\n",
       "Ty and Jen                2\n",
       "TYLER.L HARTLEY           1\n",
       "Name: from_name, dtype: int64"
      ]
     },
     "execution_count": 193,
     "metadata": {},
     "output_type": "execute_result"
    }
   ],
   "source": [
    "def clean_name(fromstr):\n",
    "    return fromstr.split('<')[0].strip().replace('\"', '').replace('\\n', '')\n",
    "\n",
    "df['from_name'] = df['from'].map(clean_name)\n",
    "df['from_name'].value_counts()[:7]"
   ]
  },
  {
   "cell_type": "code",
   "execution_count": 329,
   "metadata": {
    "collapsed": false
   },
   "outputs": [
    {
     "data": {
      "text/plain": [
       "['Leslie Alpert', 'Li Probies', 'Brent Via', 'Leah S. Goldman']"
      ]
     },
     "execution_count": 329,
     "metadata": {},
     "output_type": "execute_result"
    }
   ],
   "source": [
    "[clean_name(x) for x in .split('>,')]"
   ]
  },
  {
   "cell_type": "code",
   "execution_count": 339,
   "metadata": {
    "collapsed": false
   },
   "outputs": [
    {
     "data": {
      "text/plain": [
       "['Leslie Alpert',\n",
       " 'Li Probies',\n",
       " 'Brent Via',\n",
       " 'Leah S. Goldman',\n",
       " 'Kyle Mihalcoe']"
      ]
     },
     "execution_count": 339,
     "metadata": {},
     "output_type": "execute_result"
    }
   ],
   "source": [
    "xx = df[df.cc != ''].ix[180]\n",
    "xx\n",
    "[clean_name(item) for item in xx.cc.split('>,')] + [clean_name(xx.to)]"
   ]
  },
  {
   "cell_type": "code",
   "execution_count": 368,
   "metadata": {
    "collapsed": false
   },
   "outputs": [],
   "source": [
    "df['ccsplit'] = df.cc.str.split('>,')"
   ]
  },
  {
   "cell_type": "code",
   "execution_count": 371,
   "metadata": {
    "collapsed": false
   },
   "outputs": [
    {
     "data": {
      "text/plain": [
       "''"
      ]
     },
     "execution_count": 371,
     "metadata": {},
     "output_type": "execute_result"
    }
   ],
   "source": [
    "s = df.ccsplit.apply(lambda x: pd.Series(x)).unstack()\n"
   ]
  },
  {
   "cell_type": "code",
   "execution_count": 379,
   "metadata": {
    "collapsed": false
   },
   "outputs": [
    {
     "data": {
      "text/plain": [
       "'Yousaf Sajid <yms4y@virginia.edu'"
      ]
     },
     "execution_count": 379,
     "metadata": {},
     "output_type": "execute_result"
    }
   ],
   "source": [
    "s.ix[8179]"
   ]
  },
  {
   "cell_type": "code",
   "execution_count": 357,
   "metadata": {
    "collapsed": false,
    "scrolled": true
   },
   "outputs": [],
   "source": [
    "df.fillna('', inplace=True)\n",
    "\n",
    "def get_all_recipients(item):\n",
    "    ccs = [clean_name(item) for item in item.cc.split('>,')]\n",
    "    to = [clean_name(item.to)]\n",
    "    return to if ccs == [''] else to + ccs\n",
    "\n",
    "all_names = []\n",
    "for x in df.iterrows():\n",
    "    all_names.append(get_all_recipients(x[1]))\n",
    "    "
   ]
  },
  {
   "cell_type": "code",
   "execution_count": 365,
   "metadata": {
    "collapsed": false
   },
   "outputs": [
    {
     "data": {
      "text/plain": [
       "    timestamp\n",
       "0   2006-04          \n",
       "    2006-04          \n",
       "    2006-04          \n",
       "    2006-04          \n",
       "    2006-04          \n",
       "    2006-04          \n",
       "    2006-04          \n",
       "    2006-04          \n",
       "    2006-04          \n",
       "    2006-04          \n",
       "    2006-04          \n",
       "    2006-04          \n",
       "    2006-04          \n",
       "    2006-06          \n",
       "    2006-06          \n",
       "    2006-06          \n",
       "    2006-07          \n",
       "    2006-08          \n",
       "    2006-08          \n",
       "    2006-08          \n",
       "    2006-08          \n",
       "    2006-08          \n",
       "    2006-08          \n",
       "    2006-08          \n",
       "    2006-08          \n",
       "    2006-08          \n",
       "    2006-08          \n",
       "    2006-08          \n",
       "    2006-08          \n",
       "    2006-08          \n",
       "                 ... \n",
       "46  2015-12      None\n",
       "    2015-12      None\n",
       "    2015-12      None\n",
       "    2015-12      None\n",
       "    2015-12      None\n",
       "    2015-12      None\n",
       "    2015-12      None\n",
       "    2015-12      None\n",
       "    2015-12      None\n",
       "    2015-12      None\n",
       "    2015-12      None\n",
       "    2015-12      None\n",
       "    2015-12      None\n",
       "    2015-12      None\n",
       "    2015-12      None\n",
       "    2015-12      None\n",
       "    2015-12      None\n",
       "    2015-12      None\n",
       "    2015-12      None\n",
       "    2015-12      None\n",
       "    2015-12      None\n",
       "    2015-12      None\n",
       "    2015-12      None\n",
       "    2015-12      None\n",
       "    2015-12      None\n",
       "    2015-12      None\n",
       "    2015-12      None\n",
       "    2015-12      None\n",
       "    2015-12      None\n",
       "    2015-12      None\n",
       "dtype: object"
      ]
     },
     "execution_count": 365,
     "metadata": {},
     "output_type": "execute_result"
    }
   ],
   "source": [
    "pd.DataFrame(df.cc.str.split('>,').tolist(), index=df.index).unstack()\n",
    "\n",
    "# s = df.cc.apply(lambda x: pandas.Series(x)).unstack();\n"
   ]
  },
  {
   "cell_type": "code",
   "execution_count": 364,
   "metadata": {
    "collapsed": false
   },
   "outputs": [
    {
     "data": {
      "text/plain": [
       "timestamp    \n",
       "2006-04    0                                                  \n",
       "           0                                                  \n",
       "           0                                                  \n",
       "           0                                                  \n",
       "           0                                                  \n",
       "           0                                                  \n",
       "           0                                                  \n",
       "           0                                                  \n",
       "           0                                                  \n",
       "           0                                                  \n",
       "           0                                                  \n",
       "           0                                                  \n",
       "           0                                                  \n",
       "2006-06    0                                                  \n",
       "           0                                                  \n",
       "           0                                                  \n",
       "2006-07    0                                                  \n",
       "2006-08    0                                                  \n",
       "           0                                                  \n",
       "           0                                                  \n",
       "           0                                                  \n",
       "           0                                                  \n",
       "           0                                                  \n",
       "           0                                                  \n",
       "           0                                                  \n",
       "           0                                                  \n",
       "           0                                                  \n",
       "           0                                                  \n",
       "           0                                                  \n",
       "           0                                                  \n",
       "                                     ...                      \n",
       "2015-12    7                  Eric Hall <eric.hall87@gmail.com\n",
       "           8              Patrick\\n Miller <trickmil@gmail.com\n",
       "           9               Minsoo Kim <minsookim2006@gmail.com\n",
       "           10     Allison\\n Elliott <allisonaelliott@gmail.com\n",
       "           11       Matthew Hanna\\n <matthew.a.hanna@gmail.com\n",
       "           12        Minsoo Kim <minsoo.greensmurf30@gmail.com\n",
       "           13      \\n Allison Fratto <allison.fratto@gmail.com\n",
       "           14       Erica Sperduto\\n <sperduto.erica@gmail.com\n",
       "           15      Deborah Perling <deborah.perling@gmail.com>\n",
       "           0                                                  \n",
       "           0                                                  \n",
       "           0                                                  \n",
       "           0                                                  \n",
       "           0                                                  \n",
       "           0                                                  \n",
       "           0                                                  \n",
       "           0                                                  \n",
       "           0                  Dal Burton <dal.burton@gmail.com\n",
       "           1                   Wade Askew <wadeaskew@gmail.com\n",
       "           2            \\n Minsoo Kim <minsookim2006@gmail.com\n",
       "           3        Chris Caughman\\n <chris.caughman@gmail.com\n",
       "           4               Scott Askew <askew.saskew@gmail.com\n",
       "           5              Paul\\n Sperduto <psperduto@gmail.com\n",
       "           6                  Eric Hall <eric.hall87@gmail.com\n",
       "           7      Keegan\\n Coleman <j.keegan.coleman@gmail.com\n",
       "           8                Patrick Miller <trickmil@gmail.com\n",
       "           9     \\n Diederik Minkhorst <dbminkhorst@gmail.com>\n",
       "           0                                                  \n",
       "           0                                                  \n",
       "           0                                                  \n",
       "dtype: object"
      ]
     },
     "execution_count": 364,
     "metadata": {},
     "output_type": "execute_result"
    }
   ],
   "source": [
    "df2 = df.join(pd.DataFrame(s.reset_index(level=0, drop=True))); df2"
   ]
  },
  {
   "cell_type": "code",
   "execution_count": 358,
   "metadata": {
    "collapsed": false
   },
   "outputs": [
    {
     "data": {
      "text/plain": [
       "[['sdg3m@virginia.edu'],\n",
       " ['hag8g@virginia.edu'],\n",
       " ['dme2j@virginia.edu'],\n",
       " ['Michael Hartley'],\n",
       " ['tylerhartley@westminster.net'],\n",
       " ['Dana M. Elzey'],\n",
       " ['tyleha@gmail.com'],\n",
       " ['tyleha@gmail.com'],\n",
       " ['bi_line@yahoo.com'],\n",
       " ['tyleha@gmail.com']]"
      ]
     },
     "execution_count": 358,
     "metadata": {},
     "output_type": "execute_result"
    }
   ],
   "source": [
    "all_names[:10]"
   ]
  },
  {
   "cell_type": "code",
   "execution_count": 216,
   "metadata": {
    "collapsed": false
   },
   "outputs": [
    {
     "data": {
      "text/plain": [
       "Tyler Hartley         11866\n",
       "Jennifer Lundstrem     2165\n",
       "Aaron Chevalier        1872\n",
       "Michael Hartley        1708\n",
       "jeremiah wander        1697\n",
       "Judy Hartley           1188\n",
       "Bryan Nichols           913\n",
       "Jon Miller              806\n",
       "Patrick McGettigan      793\n",
       "Iris Jiang              723\n",
       "Emily Whalen            663\n",
       "Name: from_name, dtype: int64"
      ]
     },
     "execution_count": 216,
     "metadata": {},
     "output_type": "execute_result"
    }
   ],
   "source": [
    "def clean_name(fromstr):\n",
    "    return fromstr.split('<')[0].strip().replace('\"', '').replace('\\n', '')\n",
    "\n",
    "rec['from_name'] = rec['from'].map(clean_name)\n",
    "rec['from_name'].value_counts()[:11]"
   ]
  },
  {
   "cell_type": "code",
   "execution_count": 268,
   "metadata": {
    "collapsed": true
   },
   "outputs": [],
   "source": [
    "cm = plt.get_cmap('Oranges')\n"
   ]
  },
  {
   "cell_type": "code",
   "execution_count": 282,
   "metadata": {
    "collapsed": false
   },
   "outputs": [
    {
     "data": {
      "image/png": "[encoded data removed]",
      "text/plain": [
       "<matplotlib.figure.Figure at 0x7f9272595208>"
      ]
     },
     "metadata": {},
     "output_type": "display_data"
    }
   ],
   "source": [
    "fig = plt.figure(figsize=(8,5))\n",
    "g = rec.groupby(level=0)\n",
    "ax = g['from'].nunique().plot(color=plt.get_cmap('Oranges')(0.999), label='From')\n",
    "g = df.groupby(level=0)\n",
    "ax = g['to'].nunique().plot(color=plt.get_cmap('Blues')(0.999), label='Sent')\n",
    "plt.title('Number of unique email contacts by month')\n",
    "plt.legend()\n",
    "fig.savefig('asdf.png')"
   ]
  },
  {
   "cell_type": "code",
   "execution_count": null,
   "metadata": {
    "collapsed": true
   },
   "outputs": [],
   "source": [
    "xx.plot()"
   ]
  },
  {
   "cell_type": "code",
   "execution_count": 251,
   "metadata": {
    "collapsed": false
   },
   "outputs": [
    {
     "data": {
      "text/plain": [
       "timestamp\n",
       "2006-04      7\n",
       "2006-05      3\n",
       "2006-06      6\n",
       "2006-07      5\n",
       "2006-08    100\n",
       "2006-09    103\n",
       "2006-10    114\n",
       "2006-11     90\n",
       "2006-12     73\n",
       "2007-01    102\n",
       "2007-02    111\n",
       "2007-03    101\n",
       "2007-04    124\n",
       "2007-05     71\n",
       "2007-06     31\n",
       "2007-07     47\n",
       "2007-08     81\n",
       "2007-09    157\n",
       "2007-10    186\n",
       "2007-11    197\n",
       "2007-12    187\n",
       "2008-01    230\n",
       "2008-02    277\n",
       "2008-03    262\n",
       "2008-04    306\n",
       "2008-05    176\n",
       "2008-06     90\n",
       "2008-07     80\n",
       "2008-08    171\n",
       "2008-09    299\n",
       "          ... \n",
       "2013-07    239\n",
       "2013-08    262\n",
       "2013-09    256\n",
       "2013-10    252\n",
       "2013-11    251\n",
       "2013-12    188\n",
       "2014-01    218\n",
       "2014-02    210\n",
       "2014-03    223\n",
       "2014-04    226\n",
       "2014-05    226\n",
       "2014-06    218\n",
       "2014-07    221\n",
       "2014-08    210\n",
       "2014-09    220\n",
       "2014-10    259\n",
       "2014-11    239\n",
       "2014-12    264\n",
       "2015-01    199\n",
       "2015-02    206\n",
       "2015-03    234\n",
       "2015-04    227\n",
       "2015-05    230\n",
       "2015-06    224\n",
       "2015-07    204\n",
       "2015-08    214\n",
       "2015-09    214\n",
       "2015-10    210\n",
       "2015-11    188\n",
       "2015-12    189\n",
       "Freq: M, Name: from, dtype: int64"
      ]
     },
     "execution_count": 251,
     "metadata": {},
     "output_type": "execute_result"
    }
   ],
   "source": []
  },
  {
   "cell_type": "code",
   "execution_count": 255,
   "metadata": {
    "collapsed": false
   },
   "outputs": [],
   "source": [
    "\n",
    "rec = df"
   ]
  },
  {
   "cell_type": "code",
   "execution_count": null,
   "metadata": {
    "collapsed": true
   },
   "outputs": [],
   "source": []
  }
 ],
 "metadata": {
  "kernelspec": {
   "display_name": "Python 3",
   "language": "python",
   "name": "python3"
  },
  "language_info": {
   "codemirror_mode": {
    "name": "ipython",
    "version": 3
   },
   "file_extension": ".py",
   "mimetype": "text/x-python",
   "name": "python",
   "nbconvert_exporter": "python",
   "pygments_lexer": "ipython3",
   "version": "3.5.1"
  }
 },
 "nbformat": 4,
 "nbformat_minor": 0
}
