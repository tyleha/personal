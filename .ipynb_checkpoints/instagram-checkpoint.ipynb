{
 "metadata": {
  "name": "",
  "signature": "sha256:c53422bf695b47d5b5c6b8170db27b5c7061547ec9fcdbba748fca62708f0602"
 },
 "nbformat": 3,
 "nbformat_minor": 0,
 "worksheets": [
  {
   "cells": [
    {
     "cell_type": "code",
     "collapsed": false,
     "input": [
      "import instagram as ig\n",
      "import numpy as np\n",
      "import matplotlib.pyplot as plt\n",
      "import json \n",
      "from IPython.core.display import HTML\n",
      "\n",
      "import helpers"
     ],
     "language": "python",
     "metadata": {},
     "outputs": [],
     "prompt_number": 13
    },
    {
     "cell_type": "code",
     "collapsed": false,
     "input": [
      "# Get your key/secret from http://instagram.com/developer/\n",
      "with open(helpers.user_path('instagram_client_keys.txt'),'r') as fh:\n",
      "    keys = json.load(fh)\n",
      "\n",
      "# plop those babies in!\n",
      "api = ig.client.InstagramAPI(client_id=keys['INSTAGRAM_CLIENT_ID'],\n",
      "                   client_secret=keys['INSTAGRAM_CLIENT_SECRET'])\n",
      "\n",
      "html_big = '<img src=%s width=\"600\" />'\n",
      "html_small = '<img src=%s width=\"200\" />'"
     ],
     "language": "python",
     "metadata": {},
     "outputs": [],
     "prompt_number": 46
    },
    {
     "cell_type": "code",
     "collapsed": false,
     "input": [
      "tag_search, next_tag = api.tag_search(q='nose', count=40)\n",
      "tag_recent_media, next = api.tag_recent_media(tag_name=tag_search[0].name)\n",
      "print 'found %s results'%len(tag_recent_media)"
     ],
     "language": "python",
     "metadata": {},
     "outputs": [
      {
       "output_type": "stream",
       "stream": "stdout",
       "text": [
        "found 20 results\n"
       ]
      }
     ],
     "prompt_number": 53
    },
    {
     "cell_type": "code",
     "collapsed": false,
     "input": [
      "cap, next = api.tag_recent_media(tag_name=tag_search[0].name, with_next_url=next)"
     ],
     "language": "python",
     "metadata": {},
     "outputs": [],
     "prompt_number": 58
    },
    {
     "cell_type": "code",
     "collapsed": true,
     "input": [
      "html = ''\n",
      "for media in tag_recent_media:\n",
      "    html += html_small%media.images['standard_resolution'].url\n",
      "    html += \"<li>Caption: %s</li>\"%media.caption\n",
      "HTML(html)\n"
     ],
     "language": "python",
     "metadata": {},
     "outputs": [
      {
       "html": [
        "<img src=http://scontent-b.cdninstagram.com/hphotos-xaf1/t51.2885-15/10597249_1393392660899967_1543715992_n.jpg width=\"200\" /><li>Caption: Comment: estapegao said \"Este #viernes @djpanamusica nos pondra a bailar y nos contara todo sobre sus nuevo proyecto IMPELABLE #Ma\u00f1ana a las 6:30pm por @tves_aldia #prerumba #rumba #sabor #merengue #dancers ##estratonautico #estudio #estratonautico #atencion #talentonacional #venezolano #caracas #apoyo #amistad #tves #estudio #estapegao #luces #grabando #staff #produccion #programa #numero1 #Urbano #entretenimiento #entrevista #curiosidades #nose #impelable\"</li><img src=http://scontent-b.cdninstagram.com/hphotos-xaf1/t51.2885-15/10598397_755772007820088_1234543607_n.jpg width=\"200\" /><li>Caption: Comment: vamach said \"#somebodyiswatchingme #dog #pet #yorky #door #nose #alien\"</li><img src=http://scontent-b.cdninstagram.com/hphotos-xfp1/t51.2885-15/10520331_365300113620956_1570522074_n.jpg width=\"200\" /><li>Caption: Comment: milagrosbellydance said \"Foto vieja #Nose :3\"</li><img src=http://scontent-a.cdninstagram.com/hphotos-xfp1/t51.2885-15/1389345_754573937934783_1104567235_n.jpg width=\"200\" /><li>Caption: Comment: brandonswarren said \"Why the long face  #greyhound #greys #nose #eyes #longface #dogsofinstagram #greyhoundsofinstagram #fasthound #crosseyed\"</li><img src=http://scontent-b.cdninstagram.com/hphotos-xaf1/t51.2885-15/10608166_1475194349396232_115483063_n.jpg width=\"200\" /><li>Caption: Comment: maddyhaston7 said \"lion mane #loin #mane #blonde #brunette #blueeyes #dramatic #curls #pink #nose #piercing #pretty selfie #summer #f4f #l4l #dayoff #instagramthatshit\"</li><img src=http://scontent-b.cdninstagram.com/hphotos-xaf1/t51.2885-15/10617063_778372702183940_1169824192_n.jpg width=\"200\" /><li>Caption: Comment: mariasorkhabi said \"I'm in #love with his #eyes they're so #beautiful I'm in #love with his #nose he's so #cute I'm in #love with his #mouth he's making me so #happy I'm in #love with #him 'cause he's the #best #men of the #world and with #him, I will #stay #forever \ud83d\udc95\"</li><img src=http://scontent-b.cdninstagram.com/hphotos-xaf1/t51.2885-15/10616812_696578643764530_1549261775_n.jpg width=\"200\" /><li>Caption: Comment: daniela_012m said \"#ugly#me#photo#nigth#plant#xd#black#selfie#lips#hair#nose\"</li><img src=http://scontent-a.cdninstagram.com/hphotos-xaf1/t51.2885-15/10601899_737123369682517_874796363_n.jpg width=\"200\" /><li>Caption: Comment: cateeeeeeeeeeta said \"Feliiiiiiiiiiiz :o\n",
        "#instayo #casapapa #nose #me #aburro #unpocogorda #siguemeytesigo\"</li><img src=http://scontent-b.cdninstagram.com/hphotos-xfa1/t51.2885-15/10584710_1523509421217540_925901930_n.jpg width=\"200\" /><li>Caption: Comment: alexius6769 said \"#pads #tomorrow #lessgo #defense #nose #ready #kchs #chs #chargers\"</li><img src=http://scontent-a.cdninstagram.com/hphotos-xfa1/t51.2885-15/10598393_312524372259953_1997115154_n.jpg width=\"200\" /><li>Caption: Comment: michaelkathleen_ said \"<3 love #nose #eyes #eyelashes #lovelovelove\"</li><img src=http://scontent-a.cdninstagram.com/hphotos-xaf1/t51.2885-15/10597255_255997461191086_1315202255_n.jpg width=\"200\" /><li>Caption: Comment: katiddv_ said \"#musulmanas #lula #me #mescla #pachamama #moriacasan #omusulman #nose #alpedo #si #boludas\"</li><img src=http://scontent-b.cdninstagram.com/hphotos-xaf1/t51.2885-15/10598350_255156678006633_2050986765_n.jpg width=\"200\" /><li>Caption: Comment: heyangel_bagley said \"finally changed my nose piercing to a hoop \ud83d\udc4c #loveit #selfie #hoop #nosehoop #nosering #piercing #smile #eh #tags #brunette #nose #jewelry #ayee #finally  #squared\"</li><img src=http://scontent-a.cdninstagram.com/hphotos-xpa1/t51.2885-15/10387873_1542639332624694_1075085818_n.jpg width=\"200\" /><li>Caption: Comment: l3monst4ckz said \"I didn't see this coming #photobomb #mygirl #nose #shot\"</li><img src=http://scontent-b.cdninstagram.com/hphotos-xaf1/t51.2885-15/10617100_1525076247704145_1482702415_n.jpg width=\"200\" /><li>Caption: Comment: candelaameghino said \"#InstaBox #Me#crazy#hey#instapic #picoftheday#instafollow #instalikes #nose @tagsforlikes\n",
        "#l4f#instamoment#instagood#girl #night #nice#pretty#nightout#love#hair  #likeforlike\n",
        "#likeforlikes#likeforlikes#privi #saturday #selfie\"</li><img src=http://scontent-b.cdninstagram.com/hphotos-xaf1/t51.2885-15/10584609_888681571160435_67397054_n.jpg width=\"200\" /><li>Caption: Comment: mario__aaron said \"D\u00e9jame morderte \ud83d\ude1e#camilo #nose #yolo #suaj\"</li><img src=http://scontent-a.cdninstagram.com/hphotos-xaf1/t51.2885-15/10616791_344793505671035_69572703_n.jpg width=\"200\" /><li>Caption: Comment: alyson_gallardo said \"#Nose #Queveo #Lol #Selfie\"</li><img src=http://scontent-a.cdninstagram.com/hphotos-xap1/t51.2885-15/925584_617468081702963_1043282584_n.jpg width=\"200\" /><li>Caption: Comment: muhlinduhx3 said \"Look what I did.  #nose #piercing #myboyfriendsgonnakillme #beautiful #gorgeous #vacation\"</li><img src=http://scontent-a.cdninstagram.com/hphotos-xfa1/t51.2885-15/10611146_556130191158074_1248371043_n.jpg width=\"200\" /><li>Caption: Comment: redwrists3 said \"Nerdy and sturdy  #pretty #piercing #adorbs #adorable #scene #sweater #funny #fuckit #girl #hot #hawt #hilarious #kiss #lip #lol #love #loving #lipring #lippiercing #cute #comedy #boyfriend #taken #nose #nosering #nosepiercing #nerd #me #myself\"</li><img src=http://scontent-b.cdninstagram.com/hphotos-xpa1/t51.2885-15/10522217_265963566931636_2088156857_n.jpg width=\"200\" /><li>Caption: Comment: eofiveoh said \"Behind my boy's jeep lol @donald.r.jonas #superduty #nose #lifted #from #factory\"</li><img src=http://scontent-b.cdninstagram.com/hphotos-xfa1/t51.2885-15/10597325_814149855295735_400000427_n.jpg width=\"200\" /><li>Caption: Comment: bieberinbelieve said \"#Torta #Joda )? #Eh #Nose #RashForevah #CuthManda #NashAndRuth #CamAndRuth #Joda #Nicolas #Enojo #Problema #NoMasMejorAmigo #Jum #Cool #Divertido #Muchos #Hashtags #Me #Aburri #LOL #Bai #ZerrieIsFake #GoodLuckingPerra\"</li>"
       ],
       "metadata": {},
       "output_type": "pyout",
       "prompt_number": 52,
       "text": [
        "<IPython.core.display.HTML at 0x51ff4d0>"
       ]
      }
     ],
     "prompt_number": 52
    },
    {
     "cell_type": "code",
     "collapsed": false,
     "input": [
      "html = ''\n",
      "for media in cap[1:]: #first element is same as last of prev???\n",
      "    html += html_small%media.images['standard_resolution'].url\n",
      "    html += \"<li>Caption: %s</li>\"%media.caption\n",
      "HTML(html)"
     ],
     "language": "python",
     "metadata": {},
     "outputs": [
      {
       "html": [
        "<img src=http://scontent-b.cdninstagram.com/hphotos-xfa1/t51.2885-15/10597325_814149855295735_400000427_n.jpg width=\"200\" /><li>Caption: Comment: bieberinbelieve said \"#Torta #Joda )? #Eh #Nose #RashForevah #CuthManda #NashAndRuth #CamAndRuth #Joda #Nicolas #Enojo #Problema #NoMasMejorAmigo #Jum #Cool #Divertido #Muchos #Hashtags #Me #Aburri #LOL #Bai #ZerrieIsFake #GoodLuckingPerra\"</li><img src=http://scontent-b.cdninstagram.com/hphotos-xaf1/t51.2885-15/10598647_608914849225097_260313985_n.jpg width=\"200\" /><li>Caption: Comment: victoria.wells said \"Throwback Thursday \ud83d\ude29 I so miss last summer so much. #longhair #bff #loveyou #bushybrowsgoindown #insidejoke #favesummer \ud83d\udc8b\u2764\ufe0f @megannicole11_\"</li><img src=http://scontent-a.cdninstagram.com/hphotos-xpf1/t51.2885-15/10520257_1581700378724331_261293133_n.jpg width=\"200\" /><li>Caption: Comment: devdev12 said \"Part of me. #blackandwhite #blonde #lips #nose #simplicity #selfportrait #washedout\"</li><img src=http://scontent-a.cdninstagram.com/hphotos-xaf1/t51.2885-15/10608145_687765671298315_1143690602_n.jpg width=\"200\" /><li>Caption: Comment: lauren_mcguinness123 said \"#nose #pierced \u270c\ufe0f\u270c\ufe0f\"</li><img src=http://scontent-b.cdninstagram.com/hphotos-xap1/t51.2885-15/928350_292343150950124_1097347569_n.jpg width=\"200\" /><li>Caption: Comment: fernandabelencespedesgutierrez said \"Algo me gusto de esta foto salgo bien \n",
        "#megusta #foto #hermosa #nose #qe #le #encontre #ese #dia #me #quiero #como #soy #FernandaBelen\"</li><img src=http://scontent-a.cdninstagram.com/hphotos-xfa1/t51.2885-15/10576040_680003765401778_902047857_n.jpg width=\"200\" /><li>Caption: Comment: alexachacon21 said \"Tu Coraz\u00f3n Dice #Si, Tu Cabeza Dice #No Y T\u00fa Dices #NoSe :D !!\"</li><img src=http://scontent-a.cdninstagram.com/hphotos-xfa1/t51.2885-15/915689_910155299001779_62790369_n.jpg width=\"200\" /><li>Caption: Comment: pia_like_you said \"#mouse#nose#nutella#mille#funny#night\ud83d\udc96\"</li><img src=http://scontent-a.cdninstagram.com/hphotos-xpf1/t51.2885-15/10483555_744430415622781_461991413_n.jpg width=\"200\" /><li>Caption: Comment: chilazar said \"\ud83d\ude0d\ud83d\udc36\ud83d\udc29 #thebest #welcome #after #work #pet #dog #maltese #lola #black #nose #love #selfie #half #eyes #hug #retrica #white #red\"</li><img src=http://scontent-b.cdninstagram.com/hphotos-xpa1/t51.2885-15/928339_688716527870170_299577937_n.jpg width=\"200\" /><li>Caption: Comment: golden_bruno said \"#dog#bruno#animal#animals#park#follow#parc#golden#retriver#l#o#v#e#hart#eyes#nose#tree#flowers#frends#fff#lfl#tft#sfs#cfc#best\"</li><img src=http://scontent-a.cdninstagram.com/hphotos-xaf1/t51.2885-15/10554222_575249182587199_7268763_n.jpg width=\"200\" /><li>Caption: Comment: tdaaawg240 said \"New look perhaps? #metal #makeup #metalhead #metalupyourass #cute #chick #followback #girl #irish #lip #labret #labretpiercings #nose #piercing #rocker lol\"</li><img src=http://scontent-a.cdninstagram.com/hphotos-xaf1/t51.2885-15/10617160_594663280645048_49284538_n.jpg width=\"200\" /><li>Caption: Comment: thewolfpack94 said \"It my owner birthday\ud83c\udf89\ud83c\udf89\ud83c\udf89\ud83c\udf89\ud83c\udf8a\ud83c\udf89\ud83c\udf89\ud83c\udf8a #wolf #wolves #ears #eyes #instacute #instadaily #instahusky #instagramofpuppiesdogs #instagramofdogs #pet #puppies #picoftheday #siberainhusky #dog #dogsoninstagram #husky #huskylife #cute #cutedog #cutehusky #buleeyes #nose\"</li><img src=http://scontent-b.cdninstagram.com/hphotos-xaf1/t51.2885-15/10598337_1440692069484682_697693668_n.jpg width=\"200\" /><li>Caption: Comment: fetitoss said \"#me#pic#eye#mouth#nose#nice\"</li><img src=http://scontent-b.cdninstagram.com/hphotos-xaf1/t51.2885-15/10597368_1542748072612951_358429262_n.jpg width=\"200\" /><li>Caption: Comment: sulleythegolden said \"Stop! I gotta fluff on my nose! #concentration #fluff #fluffy #nose  #puppy #puppiesofinstagram #pet #petsofinstagram #dog #dogsofinstagram #animalsofinstagram #golden #goldenretriever #goldenretrieverpuppy #goldenretrieversofinstagram #gloriousgoldens #instapet #instadog #instapuppy #instasulley #sulleythegolden partner: @goldenretriever_tj\"</li><img src=http://scontent-b.cdninstagram.com/hphotos-xfa1/t51.2885-15/10601672_316804558496691_87529883_n.jpg width=\"200\" /><li>Caption: Comment: _princesstoota_ said \"#me #nose\"</li><img src=http://scontent-b.cdninstagram.com/hphotos-xfa1/t51.2885-15/10593323_622080467905973_618680856_n.jpg width=\"200\" /><li>Caption: Comment: anawanawei said \"#nose\"</li><img src=http://scontent-b.cdninstagram.com/hphotos-xfa1/t51.2885-15/10597421_785161038192663_986722916_n.jpg width=\"200\" /><li>Caption: Comment: melissadigiuseppe said \"Nose pierced \ud83d\ude0d #nose #pierced #duckface \ud83d\udc43\ud83d\udc89\ud83d\udc8e\"</li><img src=http://scontent-b.cdninstagram.com/hphotos-prn/t51.2885-15/929175_793624180658612_1957436448_n.jpg width=\"200\" /><li>Caption: Comment: julieta.olmedo said \"Nuevo bebito <3 #piercing #nose #me\"</li><img src=http://scontent-b.cdninstagram.com/hphotos-xaf1/t51.2885-15/10576129_360384900778848_1832204192_n.jpg width=\"200\" /><li>Caption: Comment: lilmissyuri said \"Si pipi gk bisa biasa banget se embemnya #me #gainingweight #girl #hijab #black #face #nose #eyes #lips #instamood #instamood #photooftheday #tagsforlikes #likeforlike #like4like\"</li><img src=http://scontent-b.cdninstagram.com/hphotos-xaf1/t51.2885-15/10616787_278328559038434_1757587403_n.jpg width=\"200\" /><li>Caption: Comment: jadeshilling said \"How am I going to university when I got a doing stuck in my nose hoop?! #me #self #selfie #girl #jade #face #spring #nose #nosepiercing #nosering #nosehoop #stuck #university #how\"</li><img src=http://scontent-b.cdninstagram.com/hphotos-xaf1/t51.2885-15/10593295_727289030666271_1050222184_n.jpg width=\"200\" /><li>Caption: Comment: picante333 said \"#meandthebigbaby #daps #boydog #puplove #blackandwhite #kisses #Carina #eyes #nose #cuddles #chillenwitmahdog #love #womansbestfriend #wearingadapshat\"</li>"
       ],
       "metadata": {},
       "output_type": "pyout",
       "prompt_number": 59,
       "text": [
        "<IPython.core.display.HTML at 0x522ffb0>"
       ]
      }
     ],
     "prompt_number": 59
    },
    {
     "cell_type": "code",
     "collapsed": false,
     "input": [
      "cap"
     ],
     "language": "python",
     "metadata": {},
     "outputs": [
      {
       "metadata": {},
       "output_type": "pyout",
       "prompt_number": 57,
       "text": [
        "([Media: 787191698591626862_1273888116,\n",
        "  Media: 787190748664289207_815056780,\n",
        "  Media: 787189897119609346_25566483,\n",
        "  Media: 787190337273355385_856524886,\n",
        "  Media: 787189634782577016_1197086391,\n",
        "  Media: 787189410773430137_1440916626,\n",
        "  Media: 787188296255634879_967567654,\n",
        "  Media: 787184449878904797_18293986,\n",
        "  Media: 787183992581117912_1403677804,\n",
        "  Media: 787183947198371505_961747436,\n",
        "  Media: 787183752801892170_1125668532,\n",
        "  Media: 787183696949440148_880382458,\n",
        "  Media: 787183089580169727_1389501973,\n",
        "  Media: 787182985451972033_499796576,\n",
        "  Media: 787182898882190366_16927214,\n",
        "  Media: 787182592864266855_205035745,\n",
        "  Media: 787182231483937790_1411206627,\n",
        "  Media: 787182170757359002_40580216,\n",
        "  Media: 787182026527900111_40394383,\n",
        "  Media: 787181795115579607_233925301],\n",
        " 'https://api.instagram.com/v1/tags/nose/media/recent?client_id=2c1a44e58bfe44548653ab7305496b1a&max_tag_id=1408059395515041')"
       ]
      }
     ],
     "prompt_number": 57
    },
    {
     "cell_type": "code",
     "collapsed": false,
     "input": [],
     "language": "python",
     "metadata": {},
     "outputs": []
    },
    {
     "cell_type": "code",
     "collapsed": false,
     "input": [
      "popular_media[0].tags\n",
      "popular_media[0].link\n",
      "popular_media[0].user.username"
     ],
     "language": "python",
     "metadata": {},
     "outputs": [
      {
       "output_type": "stream",
       "stream": "stdout",
       "text": [
        "Object `user` not found.\n"
       ]
      }
     ],
     "prompt_number": 18
    },
    {
     "cell_type": "code",
     "collapsed": false,
     "input": [
      "\n",
      "#get popular images feed\n",
      "popular_media = api.media_popular(count=40)\n",
      "\n",
      "#extract urls of popular images to a list\n",
      "photolist = []\n",
      "for media in popular_media:\n",
      "    photolist.append(media.images['standard_resolution'].url)\n",
      "\n",
      "print 'Top photos from Instagram'\n",
      "html = ''\n",
      "\n",
      "#show the original image thumbnail\n",
      "for p in photolist:\n",
      "    html = html + '<img src=' + p + ' width=\"150\" />'\n",
      "from IPython.core.display import HTML\n",
      "HTML(html)  "
     ],
     "language": "python",
     "metadata": {},
     "outputs": []
    },
    {
     "cell_type": "code",
     "collapsed": false,
     "input": [
      "type(popular_media[0].user)"
     ],
     "language": "python",
     "metadata": {},
     "outputs": [
      {
       "metadata": {},
       "output_type": "pyout",
       "prompt_number": 19,
       "text": [
        "instagram.models.User"
       ]
      }
     ],
     "prompt_number": 19
    },
    {
     "cell_type": "code",
     "collapsed": false,
     "input": [
      "xx = popular_media[0].link"
     ],
     "language": "python",
     "metadata": {},
     "outputs": [],
     "prompt_number": 27
    },
    {
     "cell_type": "code",
     "collapsed": false,
     "input": [
      "xx"
     ],
     "language": "python",
     "metadata": {},
     "outputs": [
      {
       "metadata": {},
       "output_type": "pyout",
       "prompt_number": 28,
       "text": [
        "'http://instagram.com/p/rsWGkair59/'"
       ]
      }
     ],
     "prompt_number": 28
    },
    {
     "cell_type": "code",
     "collapsed": false,
     "input": [
      "popular_media[2].images['standard_resolution'].url"
     ],
     "language": "python",
     "metadata": {},
     "outputs": [
      {
       "metadata": {},
       "output_type": "pyout",
       "prompt_number": 33,
       "text": [
        "'http://scontent-a.cdninstagram.com/hphotos-xap1/t51.2885-15/925359_300634780119745_43555722_n.jpg'"
       ]
      }
     ],
     "prompt_number": 33
    },
    {
     "cell_type": "code",
     "collapsed": false,
     "input": [],
     "language": "python",
     "metadata": {},
     "outputs": []
    }
   ],
   "metadata": {}
  }
 ]
}