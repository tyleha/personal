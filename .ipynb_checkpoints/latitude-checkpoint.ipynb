{
 "metadata": {
  "name": "",
  "signature": "sha256:7e643c453d3d364d6b05ce1fdd01c7f9a7a76360b84056de084ae3872986070e"
 },
 "nbformat": 3,
 "nbformat_minor": 0,
 "worksheets": [
  {
   "cells": [
    {
     "cell_type": "heading",
     "level": 1,
     "metadata": {},
     "source": [
      "More manual version"
     ]
    },
    {
     "cell_type": "code",
     "collapsed": false,
     "input": [
      "%load_ext grasp\n",
      "\n",
      "import json\n",
      "import time\n",
      "import matplotlib.pyplot as plt\n",
      "import pandas as pd"
     ],
     "language": "python",
     "metadata": {},
     "outputs": [],
     "prompt_number": 1
    },
    {
     "cell_type": "code",
     "collapsed": false,
     "input": [
      "import math\n",
      "from functools import total_ordering\n",
      "import datetime\n",
      "\n",
      "@total_ordering\n",
      "class Point(object):\n",
      "    def __init__(self, lat, lon, time, accuracy=None):\n",
      "        self.lat = lat\n",
      "        self.lon = lon\n",
      "        self.time = time\n",
      "        self.accuracy = accuracy\n",
      "        \n",
      "        self.date = datetime.datetime.fromtimestamp(self.time)\n",
      "        \n",
      "    def __repr__(self):\n",
      "        return \"Point(%s, %s, %s)\"%(self.lat, self.lon, self.time)     \n",
      "\n",
      "    def __lt__(self, other):\n",
      "        return self.time < other.time\n",
      "    \n",
      "    def __eq__(self, other):\n",
      "        return self.time == other.time\n",
      "    \n",
      "    def distance_between(self, other):\n",
      "        return distance_on_unit_sphere(self.lat, self.lon, \n",
      "                                       other.lat, other.lon) & 3959. #radius of earth in miles\n",
      "    \n",
      "    @classmethod\n",
      "    def from_google_latitude(cls, latitude_dict):\n",
      "        return cls(float(latitude_dict['latitudeE7'])/1e7, \n",
      "                     float(latitude_dict['longitudeE7'])/1e7, \n",
      "                     int(latitude_dict['timestampMs'])/1000.,\n",
      "                     accuracy=latitude_dict['accuracy'])    \n",
      "    \n",
      "def distance_on_unit_sphere(lat1, long1, lat2, long2):\n",
      "    # http://www.johndcook.com/python_longitude_latitude.html\n",
      "    # Convert latitude and longitude to \n",
      "    # spherical coordinates in radians.\n",
      "    degrees_to_radians = math.pi/180.0  \n",
      "    # phi = 90 - latitude\n",
      "    phi1 = (90.0 - lat1)*degrees_to_radians\n",
      "    phi2 = (90.0 - lat2)*degrees_to_radians\n",
      "    # theta = longitude\n",
      "    theta1 = long1*degrees_to_radians\n",
      "    theta2 = long2*degrees_to_radians\n",
      "        \n",
      "    # Compute spherical distance from spherical coordinates.\n",
      "    # For two locations in spherical coordinates \n",
      "    # (1, theta, phi) and (1, theta, phi)\n",
      "    # cosine( arc length ) = \n",
      "    #    sin phi sin phi' cos(theta-theta') + cos phi cos phi'\n",
      "    # distance = rho * arc length\n",
      "    \n",
      "    cos = (math.sin(phi1)*math.sin(phi2)*math.cos(theta1 - theta2) + \n",
      "           math.cos(phi1)*math.cos(phi2))\n",
      "    arc = math.acos( cos )\n",
      "\n",
      "    # Remember to multiply arc by the radius of the earth \n",
      "    # in your favorite set of units to get length.\n",
      "    return arc"
     ],
     "language": "python",
     "metadata": {},
     "outputs": [],
     "prompt_number": 2
    },
    {
     "cell_type": "code",
     "collapsed": false,
     "input": [
      "try:\n",
      "    fh = open(r'C:\\Users\\Tyler\\Documents\\My Dropbox\\DOCUMENTS\\LocationHistory5_1_14.json')\n",
      "except:\n",
      "    fh = open(r'C:\\Users\\thartley\\Downloads\\LocationHistory_5_16_14.json')\n",
      "buf = fh.read()\n",
      "raw = json.loads(buf)\n",
      "fh.close()\n",
      "\n",
      "ld = pd.DataFrame(raw['locations'])\n",
      "ld['latitudeE7'] = ld['latitudeE7']/float(1e7)\n",
      "ld['longitudeE7'] = ld['longitudeE7']/float(1e7)"
     ],
     "language": "python",
     "metadata": {},
     "outputs": [],
     "prompt_number": 13
    },
    {
     "cell_type": "code",
     "collapsed": false,
     "input": [
      "point = Point.from_google_latitude(raw['locations'][1])\n",
      "point.date"
     ],
     "language": "python",
     "metadata": {},
     "outputs": [
      {
       "metadata": {},
       "output_type": "pyout",
       "prompt_number": 59,
       "text": [
        "datetime.datetime(2014, 5, 1, 13, 45, 32, 735000)"
       ]
      }
     ],
     "prompt_number": 59
    },
    {
     "cell_type": "code",
     "collapsed": false,
     "input": [
      "fpoints = [Point.from_google_latitude(p) for p in raw['locations'][:1900]]\n",
      "plt.plot([point.lon for point in points], [point.lat for point in points], 'b.-')"
     ],
     "language": "python",
     "metadata": {},
     "outputs": [
      {
       "metadata": {},
       "output_type": "pyout",
       "prompt_number": 70,
       "text": [
        "[<matplotlib.lines.Line2D at 0x1efac5b0>]"
       ]
      },
      {
       "metadata": {},
       "output_type": "display_data",
       "png": "[encoded data removed]",
       "text": [
        "<matplotlib.figure.Figure at 0x1edf2110>"
       ]
      }
     ],
     "prompt_number": 70
    },
    {
     "cell_type": "heading",
     "level": 1,
     "metadata": {},
     "source": [
      "Plot ERI Shapefile"
     ]
    },
    {
     "cell_type": "code",
     "collapsed": false,
     "input": [
      "%load_ext grasp\n",
      "\n",
      "import matplotlib.pyplot as plt\n",
      "import numpy as np\n",
      "import fiona\n",
      "from itertools import chain\n",
      "from mpl_toolkits.basemap import Basemap\n",
      "import pandas as pd\n",
      "from shapely.geometry import Point, Polygon, MultiPoint, MultiPolygon\n",
      "from shapely.prepared import prep\n",
      "import matplotlib.cm as cm\n",
      "from matplotlib.collections import PatchCollection\n",
      "from descartes import PolygonPatch\n",
      "import json\n",
      "\n",
      "import helpers"
     ],
     "language": "python",
     "metadata": {},
     "outputs": [
      {
       "output_type": "stream",
       "stream": "stdout",
       "text": [
        "The grasp extension is already loaded. To reload it, use:\n",
        "  %reload_ext grasp\n"
       ]
      }
     ],
     "prompt_number": 3
    },
    {
     "cell_type": "code",
     "collapsed": false,
     "input": [
      "try:\n",
      "    fh = open(r'C:\\Users\\Tyler\\Documents\\My Dropbox\\DOCUMENTS\\LocationHistory5_1_14.json')\n",
      "except:\n",
      "    fh = open(r'C:\\Users\\thartley\\Downloads\\LocationHistory_5_16_14.json')\n",
      "buf = fh.read()\n",
      "raw = json.loads(buf)\n",
      "fh.close()\n",
      "\n",
      "ld = pd.DataFrame(raw['locations'])\n",
      "ld['latitudeE7'] = ld['latitudeE7']/float(1e7)\n",
      "ld['longitudeE7'] = ld['longitudeE7']/float(1e7)"
     ],
     "language": "python",
     "metadata": {},
     "outputs": [],
     "prompt_number": 4
    },
    {
     "cell_type": "code",
     "collapsed": false,
     "input": [
      "#shp = fiona.open(r'C:\\Users\\thartley\\Documents\\Seattle_20City_20Limits\\WGS84\\Seattle City Limits')\n",
      "#r'C:\\Users\\thartley\\Downloads\\london\\london_wards'\n",
      "shapefilename = helpers.user_prefix() + r'data\\Neighborhoods\\WGS84\\Neighborhoods'\n",
      "#shapefilename = helpers.user_prefix() + r'data\\Shorelines\\WGS84\\Shorelines'\n",
      "\n",
      "shp = fiona.open(shapefilename+'.shp')\n",
      "bds = shp.bounds\n",
      "shp.close()\n",
      "extra = 0.01\n",
      "ll = (bds[0], bds[1])\n",
      "ur = (bds[2], bds[3])\n",
      "coords = list(chain(ll, ur))\n",
      "w, h = coords[2] - coords[0], coords[3] - coords[1]"
     ],
     "language": "python",
     "metadata": {},
     "outputs": [],
     "prompt_number": 5
    },
    {
     "cell_type": "code",
     "collapsed": false,
     "input": [
      "m = Basemap(\n",
      "    projection='tmerc',\n",
      "    lon_0=-122.3,\n",
      "    lat_0=47.6,\n",
      "    #lon_0=-2.,\n",
      "    #lat_0=49.,\n",
      "    ellps = 'WGS84',\n",
      "    llcrnrlon=coords[0] - extra * w,\n",
      "    llcrnrlat=coords[1] - extra + 0.01 * h,\n",
      "    urcrnrlon=coords[2] + extra * w,\n",
      "    urcrnrlat=coords[3] + extra + 0.01 * h,\n",
      "    lat_ts=0,\n",
      "    resolution='i',\n",
      "    suppress_ticks=True)\n",
      "out = m.readshapefile(\n",
      "    shapefilename,\n",
      "    'seattle',\n",
      "    color='none',\n",
      "    zorder=2)\n",
      "\n",
      "m2 = Basemap(\n",
      "    projection='tmerc',\n",
      "    lon_0=-122.3,\n",
      "    lat_0=47.6,\n",
      "    #lon_0=-2.,\n",
      "    #lat_0=49.,\n",
      "    ellps = 'WGS84',\n",
      "    llcrnrlon=coords[0] - extra * w,\n",
      "    llcrnrlat=coords[1] - extra + 0.01 * h,\n",
      "    urcrnrlon=coords[2] + extra * w,\n",
      "    urcrnrlat=coords[3] + extra + 0.01 * h,\n",
      "    lat_ts=0,\n",
      "    resolution='i',\n",
      "    suppress_ticks=True)\n",
      "out = m2.readshapefile(\n",
      "    helpers.user_prefix() + r'data\\Shorelines\\WGS84\\Shorelines',\n",
      "    'water',\n",
      "    color='none',\n",
      "    zorder=2)"
     ],
     "language": "python",
     "metadata": {},
     "outputs": [],
     "prompt_number": 5
    },
    {
     "cell_type": "code",
     "collapsed": false,
     "input": [
      "# Plot all neighborhoods\n",
      "for nhood in m.seattle:\n",
      "    plt.plot([xx[0] for xx in nhood], [xx[1] for xx in nhood], 'b')\n",
      "#plt.plot(ld['latitudeE7'], ld['longitudeE7'])\n",
      "plt.axis('scaled')\n"
     ],
     "language": "python",
     "metadata": {},
     "outputs": [
      {
       "metadata": {},
       "output_type": "pyout",
       "prompt_number": 12,
       "text": [
        "(0.0, 16000.0, 0.0, 30000.0)"
       ]
      }
     ],
     "prompt_number": 12
    },
    {
     "cell_type": "code",
     "collapsed": false,
     "input": [
      "# set up a map dataframe\n",
      "df_map = pd.DataFrame({\n",
      "    'poly': [Polygon(xy) for xy in m.seattle],#+[Polygon(yy) for yy in m2.water],\n",
      "    'name': [nhood['L_HOOD'] for nhood in m.seattle_info]})\n",
      "df_map['area_m'] = df_map['poly'].map(lambda x: x.area)\n",
      "df_map['area_km'] = df_map['area_m'] / 100000\n",
      "#df_map['poly'].append(Polygon(m2.water[0]))"
     ],
     "language": "python",
     "metadata": {},
     "outputs": [],
     "prompt_number": 14
    },
    {
     "cell_type": "code",
     "collapsed": false,
     "input": [
      "# Create Point objects in map coordinates from dataframe lon and lat values\n",
      "map_points = pd.Series(\n",
      "    [Point(m(mapped_x, mapped_y)) for mapped_x, mapped_y in zip(ld['longitudeE7'], \n",
      "                                                                ld['latitudeE7'])])\n",
      "plaque_points = MultiPoint(list(map_points.values))\n",
      "wards_polygon = prep(MultiPolygon(list(df_map['poly'].values)))\n",
      "# calculate points that fall within the London boundary\n",
      "ldn_points = filter(wards_polygon.contains, plaque_points)"
     ],
     "language": "python",
     "metadata": {},
     "outputs": [],
     "prompt_number": 15
    },
    {
     "cell_type": "code",
     "collapsed": false,
     "input": [
      "# Convenience functions for working with colour ramps and bars\n",
      "def colorbar_index(ncolors, cmap, labels=None, **kwargs):\n",
      "    \"\"\"\n",
      "    This is a convenience function to stop you making off-by-one errors\n",
      "    Takes a standard colourmap, and discretises it,\n",
      "    then draws a color bar with correctly aligned labels\n",
      "    \"\"\"\n",
      "    cmap = cmap_discretize(cmap, ncolors)\n",
      "    mappable = cm.ScalarMappable(cmap=cmap)\n",
      "    mappable.set_array([])\n",
      "    mappable.set_clim(-0.5, ncolors+0.5)\n",
      "    colorbar = plt.colorbar(mappable, **kwargs)\n",
      "    colorbar.set_ticks(np.linspace(0, ncolors, ncolors))\n",
      "    colorbar.set_ticklabels(range(ncolors))\n",
      "    if labels:\n",
      "        colorbar.set_ticklabels(labels)\n",
      "    return colorbar\n",
      "\n",
      "def cmap_discretize(cmap, N):\n",
      "    \"\"\"\n",
      "    Return a discrete colormap from the continuous colormap cmap.\n",
      "\n",
      "        cmap: colormap instance, eg. cm.jet. \n",
      "        N: number of colors.\n",
      "\n",
      "    Example\n",
      "        x = resize(arange(100), (5,100))\n",
      "        djet = cmap_discretize(cm.jet, 5)\n",
      "        imshow(x, cmap=djet)\n",
      "\n",
      "    \"\"\"\n",
      "    if type(cmap) == str:\n",
      "        cmap = get_cmap(cmap)\n",
      "    colors_i = concatenate((linspace(0, 1., N), (0., 0., 0., 0.)))\n",
      "    colors_rgba = cmap(colors_i)\n",
      "    indices = linspace(0, 1., N + 1)\n",
      "    cdict = {}\n",
      "    for ki, key in enumerate(('red', 'green', 'blue')):\n",
      "        cdict[key] = [(indices[i], colors_rgba[i - 1, ki], colors_rgba[i, ki]) for i in xrange(N + 1)]\n",
      "    return matplotlib.colors.LinearSegmentedColormap(cmap.name + \"_%d\" % N, cdict, 1024)"
     ],
     "language": "python",
     "metadata": {},
     "outputs": [],
     "prompt_number": 16
    },
    {
     "cell_type": "code",
     "collapsed": false,
     "input": [
      "# draw ward patches from polygons\n",
      "df_map['patches'] = df_map['poly'].map(lambda x: PolygonPatch(\n",
      "    x,\n",
      "    fc='#555555',\n",
      "    ec='#787878', lw=.25, alpha=.9,\n",
      "    zorder=4))\n",
      "\n",
      "#plt.clf()\n",
      "fig = plt.figure()\n",
      "ax = fig.add_subplot(111, axisbg='w', frame_on=False)\n",
      "\n",
      "# we don't need to pass points to m() because we calculated using map_points and shapefile polygons\n",
      "dev = m.scatter(\n",
      "    [geom.x for geom in ldn_points],\n",
      "    [geom.y for geom in ldn_points],\n",
      "    5, marker='o', lw=.25,\n",
      "    facecolor='#33ccff', edgecolor='w',\n",
      "    alpha=0.9, antialiased=True,\n",
      "    label='Blue Plaque Locations', zorder=3)\n",
      "# plot boroughs by adding the PatchCollection to the axes instance\n",
      "ax.add_collection(PatchCollection(df_map['patches'].values, match_original=True))\n",
      "# copyright and source data info\n",
      "smallprint = ax.text(\n",
      "    1.03, 0,\n",
      "    'Text',\n",
      "    ha='right', va='bottom',\n",
      "    size=4,\n",
      "    color='#555555',\n",
      "    transform=ax.transAxes)\n",
      "# Draw a map scale\n",
      "m.drawmapscale(\n",
      "    coords[0] + 0.08, coords[1] + 0.015,\n",
      "    coords[0], coords[1],\n",
      "    10.,\n",
      "    barstyle='fancy', labelstyle='simple',\n",
      "    fillcolor1='w', fillcolor2='#555555',\n",
      "    fontcolor='#555555',\n",
      "    zorder=5)\n",
      "plt.title(\"Tyler's Location\")\n",
      "plt.tight_layout()\n",
      "# this will set the image width to 722px at 100dpi\n",
      "fig.set_size_inches(52.5, 72.2)\n",
      "plt.savefig(helpers.user_prefix()+'data\\london_plaques.png', dpi=100, alpha=True)\n",
      "plt.show()"
     ],
     "language": "python",
     "metadata": {},
     "outputs": [],
     "prompt_number": 20
    },
    {
     "cell_type": "code",
     "collapsed": false,
     "input": [
      "#fig.set_size_inches(10, 25)\n",
      "plt.savefig(helpers.user_prefix()+'data\\london_plaques.png', dpi=100, alpha=True)\n",
      "plt.show()"
     ],
     "language": "python",
     "metadata": {},
     "outputs": [],
     "prompt_number": 19
    },
    {
     "cell_type": "heading",
     "level": 1,
     "metadata": {},
     "source": [
      "Scratch"
     ]
    },
    {
     "cell_type": "code",
     "collapsed": false,
     "input": [
      "m = Basemap(\n",
      "    projection='tmerc',\n",
      "    lon_0=-122.3,\n",
      "    lat_0=47.6,\n",
      "    #lon_0=-2.,\n",
      "    #lat_0=49.,\n",
      "    ellps = 'WGS84',\n",
      "    llcrnrlon=coords[0] - extra * w,\n",
      "    llcrnrlat=coords[1] - extra + 0.01 * h,\n",
      "    urcrnrlon=coords[2] + extra * w,\n",
      "    urcrnrlat=coords[3] + extra + 0.01 * h,\n",
      "    lat_ts=0,\n",
      "    resolution='i',\n",
      "    suppress_ticks=True)\n",
      "out = m.readshapefile(\n",
      "    r'C:\\Users\\Tyler\\data\\Shorelines\\WGS84\\Shorelines',\n",
      "    \n",
      "    'seattle',\n",
      "    color='none',\n",
      "    zorder=2)"
     ],
     "language": "python",
     "metadata": {},
     "outputs": [],
     "prompt_number": 30
    },
    {
     "cell_type": "code",
     "collapsed": false,
     "input": [
      "# Plot all neighborhoods\n",
      "for nhood in m.seattle:\n",
      "    plt.plot([xx[0] for xx in nhood], [xx[1] for xx in nhood], 'b')\n",
      "plt.plot(ld['latitudeE7'], ld['longitudeE7'])\n",
      "plt.axis('scaled')"
     ],
     "language": "python",
     "metadata": {},
     "outputs": [
      {
       "metadata": {},
       "output_type": "pyout",
       "prompt_number": 31,
       "text": [
        "(-2000.0, 16000.0, -5000.0, 30000.0)"
       ]
      }
     ],
     "prompt_number": 31
    },
    {
     "cell_type": "code",
     "collapsed": false,
     "input": [],
     "language": "python",
     "metadata": {},
     "outputs": []
    }
   ],
   "metadata": {}
  }
 ]
}