{
 "metadata": {
  "name": "",
  "signature": "sha256:2ad3c4b0f9f355b5a17e7cd696bfd63c7b09219050a408946037444a65014927"
 },
 "nbformat": 3,
 "nbformat_minor": 0,
 "worksheets": [
  {
   "cells": [
    {
     "cell_type": "code",
     "collapsed": false,
     "input": [
      "import pandas as pd\n",
      "import numpy as np\n",
      "import matplotlib.pyplot as plt\n",
      "import json\n",
      "\n",
      "import helpers"
     ],
     "language": "python",
     "metadata": {},
     "outputs": [],
     "prompt_number": 2
    },
    {
     "cell_type": "code",
     "collapsed": false,
     "input": [
      "fn = 'usagov_bitly_data2013-05-17-1368832207'\n",
      "fpath = helpers.user_prefix()+'Downloads\\\\'+fn\n"
     ],
     "language": "python",
     "metadata": {},
     "outputs": [],
     "prompt_number": 7
    },
    {
     "cell_type": "code",
     "collapsed": false,
     "input": [
      "print fpath"
     ],
     "language": "python",
     "metadata": {},
     "outputs": [
      {
       "output_type": "stream",
       "stream": "stdout",
       "text": [
        "C:\\Users\\thartley\\Downloads\\usagov_bitly_data2013-05-17-1368832207\n"
       ]
      }
     ],
     "prompt_number": 13
    },
    {
     "cell_type": "code",
     "collapsed": false,
     "input": [
      "buf = open(fpath, 'rb')\n",
      "data = [json.loads(line) for line in buf]\n"
     ],
     "language": "python",
     "metadata": {},
     "outputs": [],
     "prompt_number": 36
    },
    {
     "cell_type": "code",
     "collapsed": false,
     "input": [
      "frame = pd.DataFrame(data)"
     ],
     "language": "python",
     "metadata": {},
     "outputs": [],
     "prompt_number": 40
    },
    {
     "cell_type": "code",
     "collapsed": false,
     "input": [
      "cframe = frame[frame['a'].notnull()]"
     ],
     "language": "python",
     "metadata": {},
     "outputs": [],
     "prompt_number": 45
    },
    {
     "cell_type": "code",
     "collapsed": false,
     "input": [
      "['Android' in cf for cf in cframe['a'][:20]]\n",
      "np.where(cframe['a'])"
     ],
     "language": "python",
     "metadata": {},
     "outputs": [
      {
       "metadata": {},
       "output_type": "pyout",
       "prompt_number": 52,
       "text": [
        "0     Mozilla/5.0 (Linux; U; Android 4.1.2; en-us; H...\n",
        "1     Mozilla/4.0 (compatible; MSIE 7.0; Windows NT ...\n",
        "2     Mozilla/5.0 (Windows NT 6.1; rv:21.0) Gecko/20...\n",
        "3     Mozilla/5.0 (Linux; U; Android 4.1.2; en-us; S...\n",
        "4     Opera/9.80 (Android; Opera Mini/7.5.33286/29.3...\n",
        "5     Mozilla/5.0 (compatible; MSIE 10.0; Windows NT...\n",
        "6     Mozilla/5.0 (Windows NT 6.1; WOW64; rv:20.0) G...\n",
        "7     Mozilla/5.0 (iPhone; U; CPU iPhone OS 4_3_5 li...\n",
        "8     Mozilla/5.0 (iPhone; CPU iPhone OS 6_1_3 like ...\n",
        "9     Mozilla/5.0 (Windows NT 6.1; WOW64) AppleWebKi...\n",
        "10    Mozilla/5.0 (iPhone; CPU iPhone OS 6_1_3 like ...\n",
        "11    Mozilla/5.0 (iPhone; CPU iPhone OS 6_1_3 like ...\n",
        "12    Mozilla/5.0 (iPad; CPU OS 6_1_2 like Mac OS X)...\n",
        "13    Mozilla/5.0 (Windows NT 5.1; rv:20.0) Gecko/20...\n",
        "14    Mozilla/4.0 (compatible; MSIE 7.0; Windows NT ...\n",
        "15    Mozilla/5.0 (Macintosh; Intel Mac OS X 10.6; r...\n",
        "16    Mozilla/5.0 (Windows NT 6.1; WOW64) AppleWebKi...\n",
        "17    Mozilla/5.0 (Macintosh; Intel Mac OS X 10_6_8)...\n",
        "18    Mozilla/5.0 (Macintosh; Intel Mac OS X 10_8_3)...\n",
        "19    Mozilla/5.0 (Windows NT 6.1; WOW64; rv:20.0) G...\n",
        "Name: a, dtype: object"
       ]
      }
     ],
     "prompt_number": 52
    },
    {
     "cell_type": "code",
     "collapsed": false,
     "input": [
      "np.where(cframe['a'].str.contains('Android'), 'Android', 'Other')"
     ],
     "language": "python",
     "metadata": {},
     "outputs": [
      {
       "metadata": {},
       "output_type": "pyout",
       "prompt_number": 60,
       "text": [
        "0     Android\n",
        "1         Not\n",
        "2         Not\n",
        "3     Android\n",
        "4     Android\n",
        "5         Not\n",
        "6         Not\n",
        "7         Not\n",
        "8         Not\n",
        "9         Not\n",
        "10        Not\n",
        "11        Not\n",
        "12        Not\n",
        "13        Not\n",
        "14        Not\n",
        "...\n",
        "3943        Not\n",
        "3944    Android\n",
        "3945        Not\n",
        "3946        Not\n",
        "3947        Not\n",
        "3948    Android\n",
        "3949        Not\n",
        "3950        Not\n",
        "3951        Not\n",
        "3952        Not\n",
        "3954    Android\n",
        "3955        Not\n",
        "3956        Not\n",
        "3957        Not\n",
        "3958        Not\n",
        "Name: a, Length: 3839, dtype: string56"
       ]
      }
     ],
     "prompt_number": 60
    },
    {
     "cell_type": "code",
     "collapsed": false,
     "input": [],
     "language": "python",
     "metadata": {},
     "outputs": []
    }
   ],
   "metadata": {}
  }
 ]
}