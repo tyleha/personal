{
 "metadata": {
  "name": "",
  "signature": "sha256:676269e2ce19c5cf84d1b9c3523c03309482a662fa6791453a0d6c78beb9f12d"
 },
 "nbformat": 3,
 "nbformat_minor": 0,
 "worksheets": [
  {
   "cells": [
    {
     "cell_type": "code",
     "collapsed": false,
     "input": [
      "import pandas as pd\n",
      "import numpy as np\n",
      "import json"
     ],
     "language": "python",
     "metadata": {},
     "outputs": [],
     "prompt_number": 1
    },
    {
     "cell_type": "code",
     "collapsed": false,
     "input": [
      "import json"
     ],
     "language": "python",
     "metadata": {},
     "outputs": [],
     "prompt_number": 1
    },
    {
     "cell_type": "code",
     "collapsed": false,
     "input": [
      "json.load(open(r'C:\\Users\\thartley\\Desktop\\abc.txt', 'r'))"
     ],
     "language": "python",
     "metadata": {},
     "outputs": [
      {
       "metadata": {},
       "output_type": "pyout",
       "prompt_number": 5,
       "text": [
        "[{},\n",
        " {u'id': 1, u'nombre': u'AMNET', u'tipo': u'SMS'},\n",
        " {u'id': 3, u'nombre': u'BIZNET- Celumanix', u'tipo': u'SMS'}]"
       ]
      }
     ],
     "prompt_number": 5
    }
   ],
   "metadata": {}
  }
 ]
}