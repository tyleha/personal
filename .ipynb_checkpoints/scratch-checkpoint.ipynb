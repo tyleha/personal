{
 "metadata": {
  "name": "",
  "signature": "sha256:c1b060898ca08a2058c7988d742df761bc1e4c5d46d0fb5c4f50603971282260"
 },
 "nbformat": 3,
 "nbformat_minor": 0,
 "worksheets": [
  {
   "cells": [
    {
     "cell_type": "code",
     "collapsed": false,
     "input": [
      "import praw\n",
      "import time \n",
      "\n"
     ],
     "language": "python",
     "metadata": {},
     "outputs": [],
     "prompt_number": 4
    },
    {
     "cell_type": "code",
     "collapsed": false,
     "input": [
      "lookbackTime = time.mktime(time.gmtime()) - 60*60*48# should be sys.argv[1] at some point\n",
      "r = praw.Reddit(user_agent='some_kind_of_bot')\n",
      "\n",
      "subredditName = 'python'\n",
      "sub = r.get_subreddit(subredditName)\n",
      "\n",
      "posts = [p for p in sub.get_new(limit=25)]\n",
      "while posts[-1].created_utc > lookbackTime:\n",
      "    posts += [p for p in sub.get_new(params={\"after\":posts[-1].name})]\n",
      "\n",
      "for p in posts:\n",
      "    print p.score, p.title"
     ],
     "language": "python",
     "metadata": {},
     "outputs": [
      {
       "output_type": "stream",
       "stream": "stdout",
       "text": [
        "1 Anyone have experience running Python from their NAS?\n",
        "5 Show Reddit : One click subtitle downloader for any movie/TV series using Python\n",
        "5 A python template to fully automate common development tasks\n",
        "0 Is there a right way to __init__.py into a thrift gen-py directory?\n",
        "0 New to Python, need advice\n",
        "2 Make interactive graphs from MySQL using Python\n",
        "0 Preparing to write a new book about python development (with a focus on packaging). Should we \"support\" windows?\n",
        "7 This has dogged me for years: why is it so hard to parse binary file formats in Python? What's the \"proper\" way to do this?\n",
        "0 Help in developing a game called ouril\n",
        "0 For Jobs, Which to Learn is Better: Python 2 or Python 3?\n",
        "0 Where do I start?\n",
        "89 Big Data with Python: What to avoid\n",
        "11 I implemented the Cut-Up Method\u2014a poetry technique pioneered by William S. Burroughs\u2014as a Python script\n",
        "9 I'm creating a python youtube channel, could I get some early feedback, so I can adjust my style if required.\n",
        "0 Hey guys! Question about a website.\n",
        "1 Remodel, the Python ODM for RethinkDB has just received its first update!\n",
        "0 I made a static site generator in python. Kindly provide me with some feed back on the code and it's organization.\n",
        "14 Followup: Real-time barcode detection in video\n",
        "13 How expired root certificates broke my Python app build\n",
        "5 Pycharm vs. Visual Studio with Python tools\n",
        "0 Python re inline flags\n",
        "66 Simulation and visualization of the Alcatraz escape using python (vtk, matplotlib)\n",
        "44 I made PlogBook - a simple console application for personal logging (think diary but cooler) that builds out a local html \"website\" for easy reading. Any feedback is welcome!\n",
        "0 Python write a function which takes as a parameter the last promgram variable,return a string containing all the letters that no be guessed\n",
        "5 Do you think that CodeAcademy is an effective way of introducing yourself/learning Python?\n",
        "2 Improving my solution to find a representative color from an image.\n",
        "13 A WayBack machine time-lapse generator!\n",
        "0 Looking for an IDE for Python 3.4.2 on Windows.\n",
        "2 What should and shouldn't be in an app's setup.py?\n",
        "1 Inserting data to database with multiprocessing. Won't there be an issue with the amount of connections a database can accept and also performance?\n",
        "9 How to extract docstrings from Python files with ast\n",
        "0 Who else has been invited to google.com/foobar?\n",
        "4 Replay network requests on your tests: VCR.py\n",
        "241 Mochi: a new programming language for Python\n",
        "10 Embeddable, composable command line interface parsing. I found this on HN, looks interesting, feels like a verbose click. What you guys think\n",
        "13 Python(x,y) 2.7.9.0 available for download\n",
        "39 Porting a C++ Driver to Python (without rewriting/just wrapping)\n",
        "4 rpy2\n",
        "7 Problem with Cursors on Twitter API - Function to unfollow only non-followers, unfollows SOME followers\n",
        "34 Py Rollers Casino - a collaborative Pygame project. We are looking for contributors - come make, test or code review a game!\n",
        "1 We all know `a, b = b, a`, but how is ROT_TWO implemented?\n",
        "0 I've been learning Python/Django for 4 months please criticize my site so far. (Some advice or tips would be appriciated)\n",
        "9 Magics to use brython in IPython notebook\n",
        "12 Plainstream: Get an \"infinite\" plain text stream of Wikipedia articles in any available language.\n",
        "12 restful-todo: A RESTful Todo management in Python Flask\n",
        "2 Is there any good non-GPL-licensed Python wrapper for reddit API?\n",
        "2 my first program\n",
        "86 addict - a Python dict whos values can be get and set using attributes\n",
        "0 How can I work out the dotted import name for a function?\n",
        "0 Plotting motion of magnetically coupled rotors - works fine with velocity damping, gives this error for velocity square damping. Anyone know what this means?\n"
       ]
      }
     ],
     "prompt_number": 12
    },
    {
     "cell_type": "code",
     "collapsed": false,
     "input": [],
     "language": "python",
     "metadata": {},
     "outputs": []
    }
   ],
   "metadata": {}
  }
 ]
}