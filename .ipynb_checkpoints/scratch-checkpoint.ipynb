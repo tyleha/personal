{
 "metadata": {
  "name": "",
  "signature": "sha256:033ffeddf0d6ffc88cd850198790b2fc29076251ce621b8ab8e25ba14ed988f1"
 },
 "nbformat": 3,
 "nbformat_minor": 0,
 "worksheets": [
  {
   "cells": [
    {
     "cell_type": "code",
     "collapsed": false,
     "input": [
      "def msort3(x):\n",
      "    result = []\n",
      "    if len(x) < 2:\n",
      "        return x\n",
      "    mid = int(len(x)/2)\n",
      "    y = msort3(x[:mid])\n",
      "    z = msort3(x[mid:])\n",
      "    i = 0\n",
      "    j = 0\n",
      "    import pdb;pdb.set_trace()\n",
      "    while i < len(y) and j < len(z):\n",
      "            if y[i] > z[j]:\n",
      "                result.append(z[j])\n",
      "                j += 1\n",
      "            else:\n",
      "                result.append(y[i])\n",
      "                i += 1\n",
      "    result += y[i:]\n",
      "    result += z[j:]\n",
      "    return result"
     ],
     "language": "python",
     "metadata": {},
     "outputs": [],
     "prompt_number": 8
    },
    {
     "cell_type": "code",
     "collapsed": false,
     "input": [
      "x = [5,3,6,7,1,2,3,9,8,0]"
     ],
     "language": "python",
     "metadata": {},
     "outputs": [],
     "prompt_number": 9
    },
    {
     "cell_type": "code",
     "collapsed": false,
     "input": [
      "msort3(x)c"
     ],
     "language": "python",
     "metadata": {},
     "outputs": [
      {
       "output_type": "stream",
       "stream": "stdout",
       "text": [
        "> <ipython-input-8-db94deab0398>(11)msort3()\n",
        "-> while i < len(y) and j < len(z):\n"
       ]
      },
      {
       "name": "stdout",
       "output_type": "stream",
       "stream": "stdout",
       "text": [
        "(Pdb) l\n"
       ]
      },
      {
       "output_type": "stream",
       "stream": "stdout",
       "text": [
        "  6  \t    y = msort3(x[:mid])\n",
        "  7  \t    z = msort3(x[mid:])\n",
        "  8  \t    i = 0\n",
        "  9  \t    j = 0\n",
        " 10  \t    import pdb;pdb.set_trace()\n",
        " 11  ->\t    while i < len(y) and j < len(z):\n",
        " 12  \t            if y[i] > z[j]:\n",
        " 13  \t                result.append(z[j])\n",
        " 14  \t                j += 1\n",
        " 15  \t            else:\n",
        " 16  \t                result.append(y[i])\n"
       ]
      },
      {
       "name": "stdout",
       "output_type": "stream",
       "stream": "stdout",
       "text": [
        "(Pdb) y\n"
       ]
      },
      {
       "output_type": "stream",
       "stream": "stdout",
       "text": [
        "[5]\n"
       ]
      },
      {
       "name": "stdout",
       "output_type": "stream",
       "stream": "stdout",
       "text": [
        "(Pdb) z\n"
       ]
      },
      {
       "output_type": "stream",
       "stream": "stdout",
       "text": [
        "[3]\n"
       ]
      },
      {
       "name": "stdout",
       "output_type": "stream",
       "stream": "stdout",
       "text": [
        "(Pdb) c\n"
       ]
      },
      {
       "output_type": "stream",
       "stream": "stdout",
       "text": [
        "> <ipython-input-8-db94deab0398>(11)msort3()\n",
        "-> while i < len(y) and j < len(z):\n"
       ]
      },
      {
       "name": "stdout",
       "output_type": "stream",
       "stream": "stdout",
       "text": [
        "(Pdb) l\n"
       ]
      },
      {
       "output_type": "stream",
       "stream": "stdout",
       "text": [
        "  6  \t    y = msort3(x[:mid])\n",
        "  7  \t    z = msort3(x[mid:])\n",
        "  8  \t    i = 0\n",
        "  9  \t    j = 0\n",
        " 10  \t    import pdb;pdb.set_trace()\n",
        " 11  ->\t    while i < len(y) and j < len(z):\n",
        " 12  \t            if y[i] > z[j]:\n",
        " 13  \t                result.append(z[j])\n",
        " 14  \t                j += 1\n",
        " 15  \t            else:\n",
        " 16  \t                result.append(y[i])\n"
       ]
      },
      {
       "name": "stdout",
       "output_type": "stream",
       "stream": "stdout",
       "text": [
        "(Pdb) result\n"
       ]
      },
      {
       "output_type": "stream",
       "stream": "stdout",
       "text": [
        "[]\n"
       ]
      },
      {
       "name": "stdout",
       "output_type": "stream",
       "stream": "stdout",
       "text": [
        "(Pdb) i\n"
       ]
      },
      {
       "output_type": "stream",
       "stream": "stdout",
       "text": [
        "0\n"
       ]
      },
      {
       "name": "stdout",
       "output_type": "stream",
       "stream": "stdout",
       "text": [
        "(Pdb) j\n"
       ]
      },
      {
       "output_type": "stream",
       "stream": "stdout",
       "text": [
        "*** The 'jump' command requires a line number.\n"
       ]
      },
      {
       "name": "stdout",
       "output_type": "stream",
       "stream": "stdout",
       "text": [
        "(Pdb) print j\n"
       ]
      },
      {
       "output_type": "stream",
       "stream": "stdout",
       "text": [
        "0\n"
       ]
      },
      {
       "name": "stdout",
       "output_type": "stream",
       "stream": "stdout",
       "text": [
        "(Pdb) n\n"
       ]
      },
      {
       "output_type": "stream",
       "stream": "stdout",
       "text": [
        "> <ipython-input-8-db94deab0398>(12)msort3()\n",
        "-> if y[i] > z[j]:\n"
       ]
      },
      {
       "name": "stdout",
       "output_type": "stream",
       "stream": "stdout",
       "text": [
        "(Pdb) c\n"
       ]
      },
      {
       "output_type": "stream",
       "stream": "stdout",
       "text": [
        "> <ipython-input-8-db94deab0398>(11)msort3()\n",
        "-> while i < len(y) and j < len(z):\n"
       ]
      },
      {
       "name": "stdout",
       "output_type": "stream",
       "stream": "stdout",
       "text": [
        "(Pdb) result\n"
       ]
      },
      {
       "output_type": "stream",
       "stream": "stdout",
       "text": [
        "[]\n"
       ]
      },
      {
       "name": "stdout",
       "output_type": "stream",
       "stream": "stdout",
       "text": [
        "(Pdb) l\n"
       ]
      },
      {
       "output_type": "stream",
       "stream": "stdout",
       "text": [
        "  6  \t    y = msort3(x[:mid])\n",
        "  7  \t    z = msort3(x[mid:])\n",
        "  8  \t    i = 0\n",
        "  9  \t    j = 0\n",
        " 10  \t    import pdb;pdb.set_trace()\n",
        " 11  ->\t    while i < len(y) and j < len(z):\n",
        " 12  \t            if y[i] > z[j]:\n",
        " 13  \t                result.append(z[j])\n",
        " 14  \t                j += 1\n",
        " 15  \t            else:\n",
        " 16  \t                result.append(y[i])\n"
       ]
      },
      {
       "name": "stdout",
       "output_type": "stream",
       "stream": "stdout",
       "text": [
        "(Pdb) n\n"
       ]
      },
      {
       "output_type": "stream",
       "stream": "stdout",
       "text": [
        "> <ipython-input-8-db94deab0398>(12)msort3()\n",
        "-> if y[i] > z[j]:\n"
       ]
      },
      {
       "name": "stdout",
       "output_type": "stream",
       "stream": "stdout",
       "text": [
        "(Pdb) n\n"
       ]
      },
      {
       "output_type": "stream",
       "stream": "stdout",
       "text": [
        "> <ipython-input-8-db94deab0398>(13)msort3()\n",
        "-> result.append(z[j])\n"
       ]
      },
      {
       "name": "stdout",
       "output_type": "stream",
       "stream": "stdout",
       "text": [
        "(Pdb) z\n"
       ]
      },
      {
       "output_type": "stream",
       "stream": "stdout",
       "text": [
        "[1, 7]\n"
       ]
      },
      {
       "name": "stdout",
       "output_type": "stream",
       "stream": "stdout",
       "text": [
        "(Pdb) y\n"
       ]
      },
      {
       "output_type": "stream",
       "stream": "stdout",
       "text": [
        "[6]\n"
       ]
      },
      {
       "name": "stdout",
       "output_type": "stream",
       "stream": "stdout",
       "text": [
        "(Pdb) print result\n"
       ]
      },
      {
       "output_type": "stream",
       "stream": "stdout",
       "text": [
        "[]\n"
       ]
      },
      {
       "name": "stdout",
       "output_type": "stream",
       "stream": "stdout",
       "text": [
        "(Pdb) n\n"
       ]
      },
      {
       "output_type": "stream",
       "stream": "stdout",
       "text": [
        "> <ipython-input-8-db94deab0398>(14)msort3()\n",
        "-> j += 1\n"
       ]
      },
      {
       "name": "stdout",
       "output_type": "stream",
       "stream": "stdout",
       "text": [
        "(Pdb) c\n"
       ]
      },
      {
       "output_type": "stream",
       "stream": "stdout",
       "text": [
        "> <ipython-input-8-db94deab0398>(11)msort3()\n",
        "-> while i < len(y) and j < len(z):\n"
       ]
      },
      {
       "name": "stdout",
       "output_type": "stream",
       "stream": "stdout",
       "text": [
        "(Pdb) c\n"
       ]
      },
      {
       "output_type": "stream",
       "stream": "stdout",
       "text": [
        "> <ipython-input-8-db94deab0398>(11)msort3()\n",
        "-> while i < len(y) and j < len(z):\n"
       ]
      },
      {
       "name": "stdout",
       "output_type": "stream",
       "stream": "stdout",
       "text": [
        "(Pdb) c\n"
       ]
      },
      {
       "output_type": "stream",
       "stream": "stdout",
       "text": [
        "> <ipython-input-8-db94deab0398>(11)msort3()\n",
        "-> while i < len(y) and j < len(z):\n"
       ]
      },
      {
       "name": "stdout",
       "output_type": "stream",
       "stream": "stdout",
       "text": [
        "(Pdb) c\n"
       ]
      },
      {
       "output_type": "stream",
       "stream": "stdout",
       "text": [
        "> <ipython-input-8-db94deab0398>(11)msort3()\n",
        "-> while i < len(y) and j < len(z):\n"
       ]
      },
      {
       "name": "stdout",
       "output_type": "stream",
       "stream": "stdout",
       "text": [
        "(Pdb) c\n"
       ]
      },
      {
       "output_type": "stream",
       "stream": "stdout",
       "text": [
        "> <ipython-input-8-db94deab0398>(11)msort3()\n",
        "-> while i < len(y) and j < len(z):\n"
       ]
      },
      {
       "name": "stdout",
       "output_type": "stream",
       "stream": "stdout",
       "text": [
        "(Pdb) c\n"
       ]
      },
      {
       "output_type": "stream",
       "stream": "stdout",
       "text": [
        "> <ipython-input-8-db94deab0398>(11)msort3()\n",
        "-> while i < len(y) and j < len(z):\n"
       ]
      },
      {
       "name": "stdout",
       "output_type": "stream",
       "stream": "stdout",
       "text": [
        "(Pdb) c\n"
       ]
      },
      {
       "metadata": {},
       "output_type": "pyout",
       "prompt_number": 10,
       "text": [
        "[0, 1, 2, 3, 3, 5, 6, 7, 8, 9]"
       ]
      }
     ],
     "prompt_number": 10
    },
    {
     "cell_type": "code",
     "collapsed": false,
     "input": [],
     "language": "python",
     "metadata": {},
     "outputs": []
    }
   ],
   "metadata": {}
  }
 ]
}