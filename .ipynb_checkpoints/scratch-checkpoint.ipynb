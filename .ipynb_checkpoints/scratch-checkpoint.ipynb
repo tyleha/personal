{
 "metadata": {
  "name": "",
  "signature": "sha256:209221a33c06ce9fd403cb9381e5371ff5c29c4b96fa97ce18d0769c3127ce42"
 },
 "nbformat": 3,
 "nbformat_minor": 0,
 "worksheets": [
  {
   "cells": [
    {
     "cell_type": "code",
     "collapsed": false,
     "input": [
      "import pandas as pd\n",
      "import numpy as np\n",
      "import json"
     ],
     "language": "python",
     "metadata": {},
     "outputs": [],
     "prompt_number": 1
    },
    {
     "cell_type": "code",
     "collapsed": false,
     "input": [
      "xxx = \"\"\"\n",
      "Int64 hash (String s) {\n",
      "        Int64 h = 7\n",
      "        String letters = \"acdegilmnoprstuw\"\n",
      "        for(Int32 i = 0; i < s.length; i++) {\n",
      "            h = (h * 37 + letters.indexOf(s[i]))\n",
      "        }\n",
      "        return h\n",
      "    }\n",
      "\"\"\""
     ],
     "language": "python",
     "metadata": {},
     "outputs": [],
     "prompt_number": 2
    },
    {
     "cell_type": "code",
     "collapsed": false,
     "input": [
      "Find a 9 letter string of characters that contains only letters from\n",
      "\n",
      "acdegilmnoprstuw\n",
      "\n",
      "such that the hash(the_string) is\n",
      "\n",
      "945924806726376\n",
      "\n",
      "ex: leepadg = 680131659347"
     ],
     "language": "python",
     "metadata": {},
     "outputs": []
    },
    {
     "cell_type": "code",
     "collapsed": false,
     "input": [
      "def myhash(astr):\n",
      "    h = 7\n",
      "    the_chars = 'acdegilmnoprstuw'\n",
      "    for letter in astr:\n",
      "        h = (h*37 + the_chars.index(letter))\n",
      "    return h\n",
      "\n",
      "the_chars = 'acdegilmnoprstuw'\n",
      "the_hash = 945924806726376\n",
      "\n",
      "def reverse_hash(anum):\n",
      "    the_word = ''\n",
      "    possible_indices = range(len(the_chars))\n",
      "    \n",
      "    while anum != 7:\n",
      "    for idx in possible_indices:\n",
      "        hashbit = does_it_hash(anum, idx)\n",
      "        if hashbit is not None:\n",
      "            anum = hashbit\n",
      "            the_word += the_chars[idx]\n",
      "            break\n",
      "    \n",
      "    return reverse_str\n",
      "\n",
      "def does_it_hash(number, an_index):\n",
      "    hashbit = (int(number) - int(an_index))/37\n",
      "    if isinstance(hashbit, int):\n",
      "        return hashbit\n",
      "    else:\n",
      "        return None"
     ],
     "language": "python",
     "metadata": {},
     "outputs": [],
     "prompt_number": 8
    },
    {
     "cell_type": "code",
     "collapsed": false,
     "input": [
      "# step 0: h is 7\n",
      "# step 1: multiply h by 37\n",
      "# step 2: add the index of the character\n",
      "# step 3: repeat..."
     ],
     "language": "python",
     "metadata": {},
     "outputs": []
    },
    {
     "cell_type": "code",
     "collapsed": false,
     "input": [
      "4.3%1"
     ],
     "language": "python",
     "metadata": {},
     "outputs": [
      {
       "metadata": {},
       "output_type": "pyout",
       "prompt_number": 9,
       "text": [
        "0.2999999999999998"
       ]
      }
     ],
     "prompt_number": 9
    },
    {
     "cell_type": "code",
     "collapsed": false,
     "input": [],
     "language": "python",
     "metadata": {},
     "outputs": []
    }
   ],
   "metadata": {}
  }
 ]
}