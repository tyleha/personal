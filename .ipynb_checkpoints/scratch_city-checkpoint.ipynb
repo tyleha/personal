{
 "cells": [
  {
   "cell_type": "code",
   "execution_count": 1,
   "metadata": {
    "collapsed": true
   },
   "outputs": [],
   "source": [
    "import numpy as np\n",
    "import re"
   ]
  },
  {
   "cell_type": "code",
   "execution_count": 3,
   "metadata": {
    "collapsed": false
   },
   "outputs": [
    {
     "name": "stdout",
     "output_type": "stream",
     "text": [
      "total 58412544\n"
     ]
    }
   ],
   "source": [
    "start = 1000000\n",
    "total = start\n",
    "for num in reversed(range(2, start)):\n",
    "    total = total * num\n",
    "    \n",
    "    word = str(total)\n",
    "    if len(word) > 8:\n",
    "        word = re.sub('(0+)$', '', word)\n",
    "        total = int(word[-8:])\n",
    "        \n",
    "#     print (word)\n",
    "    \n",
    "print('total', total)"
   ]
  },
  {
   "cell_type": "code",
   "execution_count": null,
   "metadata": {
    "collapsed": true
   },
   "outputs": [],
   "source": [
    "start = 1000000\n",
    "total = start\n",
    "for num in reversed(range(2, start)):\n",
    "    total = total * num\n",
    "    \n",
    "    word = str(total)\n",
    "    if len(word) > 8:\n",
    "        word = re.sub('(0+)$', '', word)\n",
    "        total = int(word[-8:])\n",
    "        \n",
    "    print (word)\n",
    "    \n",
    "print('total', total)"
   ]
  }
 ],
 "metadata": {
  "kernelspec": {
   "display_name": "Python 3",
   "language": "python",
   "name": "python3"
  },
  "language_info": {
   "codemirror_mode": {
    "name": "ipython",
    "version": 3
   },
   "file_extension": ".py",
   "mimetype": "text/x-python",
   "name": "python",
   "nbconvert_exporter": "python",
   "pygments_lexer": "ipython3",
   "version": "3.5.1"
  }
 },
 "nbformat": 4,
 "nbformat_minor": 0
}
