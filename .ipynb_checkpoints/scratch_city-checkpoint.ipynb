{
 "metadata": {
  "name": "",
  "signature": "sha256:f29e2c7c427bd59b0025cc72d61b44980ffc5f6c5c906c9a655b3af93be8f197"
 },
 "nbformat": 3,
 "nbformat_minor": 0,
 "worksheets": [
  {
   "cells": [
    {
     "cell_type": "heading",
     "level": 1,
     "metadata": {
      "heading_collapsed": false
     },
     "source": [
      "1. Stuff"
     ]
    },
    {
     "cell_type": "code",
     "collapsed": false,
     "input": [
      "from imaplib import IMAP4_SSL\n",
      "from datetime import date,timedelta,datetime\n",
      "from time import mktime\n",
      "from email.utils import parsedate, parsedate_tz\n",
      "import email\n",
      "from pylab import plot_date,show,xticks,date2num\n",
      "from pylab import figure,hist,num2date\n",
      "from matplotlib.dates import DateFormatter"
     ],
     "language": "python",
     "metadata": {},
     "outputs": [],
     "prompt_number": 4
    },
    {
     "cell_type": "code",
     "collapsed": false,
     "input": [
      "class GmailAccount(IMAP4_SSL):\n",
      "    def __init__(self, username=None, password=None, folder=None):\n",
      "        self.username = username\n",
      "        self.password = password\n",
      "        self.folder = folder\n",
      "        \n",
      "    def login(self):\n",
      "        self.conn = IMAP4_SSL('imap.gmail.com')\n",
      "        response = self.conn.login(self.username, self.password)\n",
      "        return response\n",
      "    \n",
      "    def search(self, folder, query, readonly=False):\n",
      "        self.conn.select(folder, readonly)\n",
      "        resp, data = self.conn.uid('search', None, query)\n",
      "        return data\n",
      "    \n",
      "    def fetch(self, ids, query):\n",
      "        resp, data = self.conn.uid('fetch', ids[0].replace(' ',','), query)\n",
      "        return data"
     ],
     "language": "python",
     "metadata": {},
     "outputs": [],
     "prompt_number": 5
    },
    {
     "cell_type": "code",
     "collapsed": false,
     "input": [
      "tyler = GmailAccount(username='tyleha@gmail.com',password='56741Tlh')\n",
      "out = tyler.login()"
     ],
     "language": "python",
     "metadata": {},
     "outputs": [],
     "prompt_number": 6
    },
    {
     "cell_type": "code",
     "collapsed": false,
     "input": [
      "interval = (date.today() - timedelta(2)).strftime(\"%d-%b-%Y\")\n",
      "ids = tyler.search(\"inbox\", '(SENTSINCE {date})'.format(date=interval), True)"
     ],
     "language": "python",
     "metadata": {},
     "outputs": [],
     "prompt_number": 33
    },
    {
     "cell_type": "code",
     "collapsed": false,
     "input": [
      "body = '(BODY.PEEK[TEXT])'\n",
      "headers = '(BODY.PEEK[HEADER.FIELDS (SUBJECT FROM DATE TO CC)])'\n",
      "data = tyler.fetch(ids, headers)"
     ],
     "language": "python",
     "metadata": {},
     "outputs": [],
     "prompt_number": 69
    },
    {
     "cell_type": "code",
     "collapsed": false,
     "input": [
      "from email.parser import HeaderParser\n",
      "parser = HeaderParser()\n",
      "msg = parser.parsestr(data[0][1])\n",
      "print type(msg)"
     ],
     "language": "python",
     "metadata": {},
     "outputs": [
      {
       "output_type": "stream",
       "stream": "stdout",
       "text": [
        "<type 'instance'>\n"
       ]
      }
     ],
     "prompt_number": 71
    },
    {
     "cell_type": "code",
     "collapsed": false,
     "input": [
      "msg.keys()"
     ],
     "language": "python",
     "metadata": {},
     "outputs": [
      {
       "metadata": {},
       "output_type": "pyout",
       "prompt_number": 72,
       "text": [
        "['From', 'To', 'CC', 'Subject', 'Date']"
       ]
      }
     ],
     "prompt_number": 72
    },
    {
     "cell_type": "code",
     "collapsed": false,
     "input": [],
     "language": "python",
     "metadata": {},
     "outputs": []
    }
   ],
   "metadata": {}
  }
 ]
}