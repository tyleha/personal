{
 "cells": [
  {
   "cell_type": "markdown",
   "metadata": {
    "collapsed": false
   },
   "source": [
    "# Todo\n",
    "\n",
    "* Match colorbar size to graph size\n",
    "* Add standard beneathdata ownership tag\n",
    "* make numbers currency\n",
    "* Make a second triangle graph?\n",
    "* Add isopotential lines with dollar values on them"
   ]
  },
  {
   "cell_type": "code",
   "execution_count": 40,
   "metadata": {
    "collapsed": false
   },
   "outputs": [
    {
     "name": "stderr",
     "output_type": "stream",
     "text": [
      "/home/tyleha/anaconda3/lib/python3.5/site-packages/matplotlib/collections.py:590: FutureWarning: elementwise comparison failed; returning scalar instead, but in the future will perform elementwise comparison\n",
      "  if self._edgecolors == str('face'):\n"
     ]
    }
   ],
   "source": [
    "import matplotlib.pyplot as plt\n",
    "import numpy as np\n",
    "%matplotlib inline\n"
   ]
  },
  {
   "cell_type": "code",
   "execution_count": 2,
   "metadata": {
    "collapsed": false
   },
   "outputs": [],
   "source": [
    "single = {2013: [(0.0, 0),\n",
    "    (0.1, 8295),\n",
    "    (0.15, 36250),\n",
    "    (0.25, 87850),\n",
    "    (0.28, 183250),\n",
    "    (0.33, 398350),\n",
    "    (0.35, 400000),\n",
    "    (0.396, 1000000000),\n",
    "    ],\n",
    "    2014: [(0.0, 0),\n",
    "    (0.1, 9075),\n",
    "    (0.15, 36900),\n",
    "    (0.25, 89350),\n",
    "    (0.28, 186350),\n",
    "    (0.33, 405100),\n",
    "    (0.35, 406750),\n",
    "    (0.396, 1000000000),\n",
    "    ],\n",
    "    2017: [(0.0, 0),\n",
    "    (0.1, 9325),\n",
    "    (0.15, 37950),\n",
    "    (0.25, 91900),\n",
    "    (0.28, 191650),\n",
    "    (0.33, 416700),\n",
    "    (0.35, 418400),\n",
    "    (0.396, 1000000000),\n",
    "    ]\n",
    "    }\n",
    "standard_deduction = {2013:6100, 2014:6200, 2017:6350}\n",
    "personal_ex = {2013:3900, 2014:3950, 2017:4050}\n",
    "\n",
    "married = {2013: [(0.0, 0),\n",
    "    (0.1, 17850), \n",
    "    (0.15, 72500), \n",
    "    (0.25, 146400), \n",
    "    (0.28, 223050), \n",
    "    (0.33, 398350),\n",
    "    (0.35, 400000),\n",
    "    (0.396, 1000000000),\n",
    "    ],\n",
    "    2014:[(0.0, 0),\n",
    "    (0.1, 18150), \n",
    "    (0.15, 73800), \n",
    "    (0.25, 148850), \n",
    "    (0.28, 226850), \n",
    "    (0.33, 405100),\n",
    "    (0.35, 457600),\n",
    "    (0.396, 1000000000),\n",
    "    ],\n",
    "    2017: [(0.0, 0),\n",
    "    (0.1, 18650),\n",
    "    (0.15, 75900),\n",
    "    (0.25, 153100),\n",
    "    (0.28, 233350),\n",
    "    (0.33, 416700),\n",
    "    (0.35, 470700),\n",
    "    (0.396, 1000000000),\n",
    "    ]\n",
    "}\n",
    "\n",
    "def marginal_tax(income, cutoffs):\n",
    "    taxes = 0\n",
    "    rmd = income\n",
    "    for i in range(1, len(cutoffs)):\n",
    "        rate, cutoff = cutoffs[i]\n",
    "        prev_cutoff = cutoffs[i-1][1]\n",
    "        if rmd <= cutoff-prev_cutoff:\n",
    "            taxes += rmd*rate\n",
    "            break\n",
    "            \n",
    "        taxes += (cutoff - prev_cutoff)*rate\n",
    "        rmd = rmd - (cutoff - prev_cutoff)\n",
    "\n",
    "    return taxes \n",
    "\n",
    "def income_tax(income, joint=False, deduction=None, year=2017):\n",
    "    \n",
    "    if deduction is None and joint is False:\n",
    "        deduction = standard_deduction[year] + personal_ex[year]\n",
    "    elif deduction is None and joint is True:\n",
    "        deduction = (standard_deduction[year] + personal_ex[year])*2\n",
    "    \n",
    "    if joint:\n",
    "        tax = marginal_tax(income-deduction, married[year])\n",
    "    else:\n",
    "        tax = marginal_tax(income-deduction, single[year])\n",
    "    \n",
    "    return tax\n",
    "\n",
    "def income_and_fica(income, joint=False, deduction=None, year=2017):\n",
    "    tax = income_tax(income, joint, deduction, year)\n",
    "    tax += 0.0765*income\n",
    "    return tax\n"
   ]
  },
  {
   "cell_type": "code",
   "execution_count": 59,
   "metadata": {
    "collapsed": false,
    "scrolled": false
   },
   "outputs": [
    {
     "data": {
      "text/plain": [
       "<matplotlib.colorbar.Colorbar at 0x7fa4c9d55860>"
      ]
     },
     "execution_count": 59,
     "metadata": {},
     "output_type": "execute_result"
    },
    {
     "name": "stderr",
     "output_type": "stream",
     "text": [
      "/home/tyleha/anaconda3/lib/python3.5/site-packages/matplotlib/collections.py:590: FutureWarning: elementwise comparison failed; returning scalar instead, but in the future will perform elementwise comparison\n",
      "  if self._edgecolors == str('face'):\n"
     ]
    },
    {
     "data": {
      "image/png": "[encoded data removed]",
      "text/plain": [
       "<matplotlib.figure.Figure at 0x7fa4c9de0fd0>"
      ]
     },
     "metadata": {},
     "output_type": "display_data"
    }
   ],
   "source": [
    "import matplotlib.cm as cm\n",
    "from mpl_toolkits.axes_grid1 import make_axes_locatable\n",
    "import matplotlib.ticker as tkr\n",
    "\n",
    "incomes = np.array(range(0, 201, 2))*1000 \n",
    "grid = np.zeros([len(incomes)]*2)\n",
    "for i in range(len(incomes)):\n",
    "    for j in range(len(incomes)):\n",
    "        inci, incj = incomes[i], incomes[j]\n",
    "        taxi = income_tax(inci, False)\n",
    "        taxj = income_tax(incj, False)\n",
    "        taxtot = income_tax(inci+incj, True)\n",
    "        #raw dollar sum \n",
    "        grid[len(incomes)-i-1,j] = taxtot - taxi - taxj\n",
    "        #grid[len(incomes)-i-1,j] = ((taxi+taxj)/(inci + incj) - taxtot/(inci+incj))*100\n",
    "\n",
    "\n",
    "extent = [incomes[0], incomes[-1], incomes[0], incomes[-1]]\n",
    "fig = plt.figure(figsize=(12,12))\n",
    "ax = fig.add_subplot(111)\n",
    "cmap_range = np.max([np.nanmax(grid), np.abs(np.nanmin(grid))])\n",
    "col = ax.imshow(grid, extent=extent, cmap=cm.seismic, interpolation='none', vmin=-cmap_range, vmax=cmap_range)\n",
    "plt.grid(b=True, which='major', color='gray', linestyle='-')\n",
    "\n",
    "\n",
    "ax.xaxis.set_major_formatter(tkr.FuncFormatter(lambda x, p: format(int(x), ',')))\n",
    "ax.yaxis.set_major_formatter(tkr.FuncFormatter(lambda x, p: format(int(x), ',')))\n",
    "ax.set_yticks([50000, 100000, 150000, 200000])\n",
    "ax.set_xticks([50000, 100000, 150000, 200000])\n",
    "\n",
    "# create an axes on the right side of ax. The width of cax will be 5%\n",
    "# of ax and the padding between cax and ax will be fixed at 0.05 inch.\n",
    "divider = make_axes_locatable(ax)\n",
    "cax = divider.append_axes(\"right\", size=\"5%\", pad=0.1)\n",
    "plt.colorbar(col, cax=cax)"
   ]
  },
  {
   "cell_type": "code",
   "execution_count": 8,
   "metadata": {
    "collapsed": false
   },
   "outputs": [],
   "source": [
    "# Make triangular graph\n"
   ]
  },
  {
   "cell_type": "code",
   "execution_count": null,
   "metadata": {
    "collapsed": true
   },
   "outputs": [],
   "source": [
    "# Make graph with isopotential lines?"
   ]
  }
 ],
 "metadata": {
  "kernelspec": {
   "display_name": "Python 3",
   "language": "python",
   "name": "python3"
  },
  "language_info": {
   "codemirror_mode": {
    "name": "ipython",
    "version": 3
   },
   "file_extension": ".py",
   "mimetype": "text/x-python",
   "name": "python",
   "nbconvert_exporter": "python",
   "pygments_lexer": "ipython3",
   "version": "3.5.2"
  }
 },
 "nbformat": 4,
 "nbformat_minor": 0
}
