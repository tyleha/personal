{
 "metadata": {
  "name": "Chapter 16"
 },
 "nbformat": 3,
 "nbformat_minor": 0,
 "worksheets": [
  {
   "cells": [
    {
     "cell_type": "code",
     "collapsed": false,
     "input": [
      "class Time(object):\n",
      "    \"\"\"represents the time of day.\n",
      "       attributes: hour, minute, second\"\"\"\n",
      "    \n",
      "    def __init__(self, hour=0, minute=0, second=0):\n",
      "        self.hour = hour\n",
      "        self.minute = minute\n",
      "        self.second = second\n",
      "\n",
      "    def __str__(self):\n",
      "        return '%d:%.2d:%.2d' %(self.hour, self.minute, self.second)\n",
      "        \n",
      "    def in_seconds(self):\n",
      "        return self.hour*3600+self.minute*60+self.second\n",
      "        \n",
      "    def __add__(self, other):\n",
      "        return in_24hr_time(self.in_seconds()+other.in_seconds())\n",
      "\n",
      "def valid_time(time):\n",
      "    if time.hour < 0 or time.minute < 0 or time.second < 0:\n",
      "        return False\n",
      "    if time.minute >= 60 or time.second >= 60:\n",
      "        return False\n",
      "    return True\n",
      "\n",
      "def in_24hr_time(seconds):\n",
      "    time = Time()\n",
      "    seconds = int(seconds)\n",
      "    \n",
      "    time.hour = seconds/3600\n",
      "    time.minute = (seconds - time.hour*3600)/60\n",
      "    time.second = (seconds - time.hour*3600 - time.minute*60)\n",
      "    \n",
      "    return time\n",
      "    \n",
      "def is_after(t1, t2):\n",
      "    return in_seconds(t1) > in_seconds(t2)\n",
      "\n",
      "def increment(time, seconds):\n",
      "    assert valid_time(time)\n",
      "    ts = in_seconds(time)\n",
      "    ts += seconds\n",
      "    return in_24hr_time(ts)\n",
      "\n",
      "def add_time(t1,t2):\n",
      "    assert valid_time(t1) and valid_time(t2)\n",
      "    seconds = in_seconds(t1) + in_seconds(t2)\n",
      "    return in_24hr_time(seconds)\n",
      "\n",
      "\n",
      "def mul_time(t, m):\n",
      "    return in_24hr_time(m*in_seconds(t))\n",
      "\n",
      "def avg_pace(t, dist):\n",
      "    return mul_time(t, 1/dist)\n",
      "\n"
     ],
     "language": "python",
     "metadata": {},
     "outputs": [],
     "prompt_number": 16
    },
    {
     "cell_type": "code",
     "collapsed": false,
     "input": [
      "t1 = Time()\n",
      "t1.hour = 2\n",
      "t1.minute = 3\n",
      "t1.second = 0\n",
      "\n",
      "t2 = Time()\n",
      "t2.hour = 10\n",
      "t2.minute = 59\n",
      "t2.second = 0"
     ],
     "language": "python",
     "metadata": {},
     "outputs": [],
     "prompt_number": 17
    },
    {
     "cell_type": "code",
     "collapsed": false,
     "input": [
      "print t1+t2"
     ],
     "language": "python",
     "metadata": {},
     "outputs": [
      {
       "output_type": "stream",
       "stream": "stdout",
       "text": [
        "13:02:00\n"
       ]
      }
     ],
     "prompt_number": 18
    },
    {
     "cell_type": "code",
     "collapsed": false,
     "input": [
      "class Date(object):\n",
      "    '''year, month, day'''\n",
      "    def __init__(self, year = None, month = None, day = None):\n",
      "        self.year = year\n",
      "        self.month = month\n",
      "        self.day = day\n",
      "    \n",
      "    def print_date(self):\n",
      "        print '%d/%d/%d' %(self.month, self.day, self.year)\n",
      "        \n",
      "    days = {1:31, 2:28, 3:31, 4:30, 5:31, 6:30, 7:31, 8:31, 9:30, 10:31, 11:30, 12:31}\n",
      "    def increment(self, n):\n",
      "        if self.year%4 == 0:\n",
      "            days[2] = 29\n",
      "        \n",
      "        (days[self.month] - self.days)\n",
      "        \n",
      "        \n",
      "d1 = Date(1987, 7, 13)\n",
      "d1.print_date()"
     ],
     "language": "python",
     "metadata": {},
     "outputs": [
      {
       "output_type": "stream",
       "stream": "stdout",
       "text": [
        "7/13/1987\n"
       ]
      }
     ],
     "prompt_number": 28
    },
    {
     "cell_type": "code",
     "collapsed": false,
     "input": [],
     "language": "python",
     "metadata": {},
     "outputs": []
    }
   ],
   "metadata": {}
  }
 ]
}