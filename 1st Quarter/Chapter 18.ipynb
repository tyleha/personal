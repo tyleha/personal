{
 "metadata": {
  "name": "Chapter 18"
 },
 "nbformat": 3,
 "nbformat_minor": 0,
 "worksheets": [
  {
   "cells": [
    {
     "cell_type": "code",
     "collapsed": false,
     "input": [
      "class Card(object):\n",
      "    \"\"\"represents a standard playing card.\"\"\"\n",
      "\n",
      "    def __init__(self, suit=0, rank=2):\n",
      "        self.suit = suit\n",
      "        self.rank = rank\n",
      "        \n",
      "    suit_names = ['Clubs', 'Diamonds', 'Hearts', 'Spades']\n",
      "    rank_names = [None, 'Ace', '2', '3', '4', '5', '6', '7', \n",
      "              '8', '9', '10', 'Jack', 'Queen', 'King']\n",
      "\n",
      "    def __str__(self):\n",
      "        return '%s of %s' % (Card.rank_names[self.rank],\n",
      "                             Card.suit_names[self.suit])\n",
      "    \n",
      "    def __cmp__(self, other):\n",
      "        t1 = self.suit, self.rank\n",
      "        t2 = other.suit, other.rank\n",
      "        return cmp(t1, t2)"
     ],
     "language": "python",
     "metadata": {},
     "outputs": [],
     "prompt_number": 74
    },
    {
     "cell_type": "code",
     "collapsed": false,
     "input": [
      "import random\n",
      "class Deck(object):\n",
      "\n",
      "    def __init__(self):\n",
      "        self.cards = []\n",
      "        for suit in range(4):\n",
      "            for rank in range(1, 14):\n",
      "                card = Card(suit, rank)\n",
      "                self.cards.append(card)\n",
      "                \n",
      "    def __str__(self):\n",
      "        res = []\n",
      "        for card in self.cards:\n",
      "            res.append(str(card))\n",
      "        return '\\n'.join(res)\n",
      "    \n",
      "    def deal_card(self):\n",
      "        return self.cards.pop()\n",
      "    \n",
      "    def add_card(self, card):\n",
      "        self.cards.append(card)\n",
      "        \n",
      "    def shuffle(self):\n",
      "        random.shuffle(self.cards)\n",
      "        \n",
      "    def sort(self):\n",
      "        self.cards.sort(key=lambda c: (c.suit, c.rank) )\n",
      "\n",
      "    def move_cards(self, hand, num):\n",
      "        for i in range(num):\n",
      "            hand.add_card(self.pop_card())\n",
      "            \n",
      "            \n",
      "            "
     ],
     "language": "python",
     "metadata": {},
     "outputs": [],
     "prompt_number": 93
    },
    {
     "cell_type": "code",
     "collapsed": false,
     "input": [
      "class Hand(Deck):\n",
      "    \"\"\"represents a hand of playing cards\"\"\"\n",
      "    def __init__(self, label=''):\n",
      "        self.cards = []\n",
      "        self.label = label"
     ],
     "language": "python",
     "metadata": {},
     "outputs": []
    },
    {
     "cell_type": "code",
     "collapsed": false,
     "input": [
      "t1 =  Card(2,3)\n",
      "t2 = Card(2,1)\n",
      "\n",
      "mydeck = Deck()\n",
      "mydeck.shuffle()\n",
      "#print mydeck\n",
      "\n",
      "mydeck.sort()\n",
      "print mydeck"
     ],
     "language": "python",
     "metadata": {},
     "outputs": [
      {
       "output_type": "stream",
       "stream": "stdout",
       "text": [
        "Ace of Clubs\n",
        "2 of Clubs\n",
        "3 of Clubs\n",
        "4 of Clubs\n",
        "5 of Clubs\n",
        "6 of Clubs\n",
        "7 of Clubs\n",
        "8 of Clubs\n",
        "9 of Clubs\n",
        "10 of Clubs\n",
        "Jack of Clubs\n",
        "Queen of Clubs\n",
        "King of Clubs\n",
        "Ace of Diamonds\n",
        "2 of Diamonds\n",
        "3 of Diamonds\n",
        "4 of Diamonds\n",
        "5 of Diamonds\n",
        "6 of Diamonds\n",
        "7 of Diamonds\n",
        "8 of Diamonds\n",
        "9 of Diamonds\n",
        "10 of Diamonds\n",
        "Jack of Diamonds\n",
        "Queen of Diamonds\n",
        "King of Diamonds\n",
        "Ace of Hearts\n",
        "2 of Hearts\n",
        "3 of Hearts\n",
        "4 of Hearts\n",
        "5 of Hearts\n",
        "6 of Hearts\n",
        "7 of Hearts\n",
        "8 of Hearts\n",
        "9 of Hearts\n",
        "10 of Hearts\n",
        "Jack of Hearts\n",
        "Queen of Hearts\n",
        "King of Hearts\n",
        "Ace of Spades\n",
        "2 of Spades\n",
        "3 of Spades\n",
        "4 of Spades\n",
        "5 of Spades\n",
        "6 of Spades\n",
        "7 of Spades\n",
        "8 of Spades\n",
        "9 of Spades\n",
        "10 of Spades\n",
        "Jack of Spades\n",
        "Queen of Spades\n",
        "King of Spades\n"
       ]
      }
     ],
     "prompt_number": 92
    },
    {
     "cell_type": "code",
     "collapsed": false,
     "input": [
      "L = [['a',1], ['a',2], ['a',3], ['b',1], ['b',2], ['b',3]]\n",
      "\n",
      "L.sort(key=lambda k: (k[0], -k[1]), reverse=True)\n"
     ],
     "language": "python",
     "metadata": {},
     "outputs": [
      {
       "output_type": "stream",
       "stream": "stdout",
       "text": [
        "[['b', 1], ['b', 2], ['b', 3], ['a', 1], ['a', 2], ['a', 3]]\n"
       ]
      }
     ],
     "prompt_number": 87
    },
    {
     "cell_type": "code",
     "collapsed": false,
     "input": [
      "class B:\n",
      "    pass\n",
      "class C(B):\n",
      "    pass\n",
      "class D(C):\n",
      "    pass\n",
      "\n",
      "for c in [B, C, D]:\n",
      "    try:\n",
      "        raise c()\n",
      "    except D:\n",
      "        print \"D\"\n",
      "    except C:\n",
      "        print \"C\"\n",
      "    except B:\n",
      "        print \"B\""
     ],
     "language": "python",
     "metadata": {},
     "outputs": [
      {
       "output_type": "stream",
       "stream": "stdout",
       "text": [
        "B\n",
        "C\n",
        "D\n"
       ]
      }
     ],
     "prompt_number": 95
    },
    {
     "cell_type": "code",
     "collapsed": false,
     "input": [],
     "language": "python",
     "metadata": {},
     "outputs": [],
     "prompt_number": 94
    },
    {
     "cell_type": "code",
     "collapsed": false,
     "input": [],
     "language": "python",
     "metadata": {},
     "outputs": []
    }
   ],
   "metadata": {}
  }
 ]
}