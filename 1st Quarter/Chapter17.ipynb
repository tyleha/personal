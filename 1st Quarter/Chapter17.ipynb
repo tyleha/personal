{
 "metadata": {
  "name": "Chapter17"
 },
 "nbformat": 3,
 "nbformat_minor": 0,
 "worksheets": [
  {
   "cells": [
    {
     "cell_type": "code",
     "collapsed": false,
     "input": [
      "class Point(object):\n",
      "    \"\"\"represents a point in 2-D space\"\"\"\n",
      "    def __init__(self, x=0, y=0):\n",
      "        self.x = x\n",
      "        self.y = y\n",
      "        \n",
      "    def __str__(self):\n",
      "        return '(%d,%d)'%(self.x,self.y)\n",
      "    \n",
      "    def __add__(self, other):\n",
      "        if isinstance(other, Point):\n",
      "            return Point(self.x+other.x,self.y+other.y)\n",
      "        elif isinstance(other, tuple):\n",
      "            return Point(self.x+other[0],self.y+other[1])\n",
      "        \n",
      "    def __radd__(self, other):\n",
      "        return self.__add__(other)\n",
      "            \n",
      "    \n",
      "    def distance(self):\n",
      "        return math.sqrt(x**2+y**2)\n",
      "    \n",
      "    \n",
      "   "
     ],
     "language": "python",
     "metadata": {},
     "outputs": [],
     "prompt_number": 19
    },
    {
     "cell_type": "code",
     "collapsed": false,
     "input": [
      "p1 = Point(3,3)\n",
      "p2 = Point(1,2)\n",
      "print (3,3) + p2\n"
     ],
     "language": "python",
     "metadata": {},
     "outputs": [
      {
       "output_type": "stream",
       "stream": "stdout",
       "text": [
        "(4,5)\n"
       ]
      }
     ],
     "prompt_number": 20
    },
    {
     "cell_type": "raw",
     "metadata": {},
     "source": [
      "his exercise is a cautionary tale about one of the most common, and difficult to find, errors in Python.\n",
      "\n",
      "Write a definition for a class named Kangaroo with the following methods:\n",
      "An __init__ method that initializes an attribute named pouch_contents to an empty list.\n",
      "A method named put_in_pouch that takes an object of any type and adds it to pouch_contents.\n",
      "A __str__ method that returns a string representation of the Kangaroo object and the contents of the pouch.\n",
      "Test your code by creating two Kangaroo objects, assigning them to variables named kanga and roo, and then adding roo to the contents of kanga\u2019s pouch."
     ]
    },
    {
     "cell_type": "code",
     "collapsed": false,
     "input": [
      "class Kangaroo(object):\n",
      "    def __init__(self, pouch_contents=[]):\n",
      "        self.pouch_contents = pouch_contents\n",
      "        \n",
      "    def put_in_pouch(self, obj):\n",
      "        self.pouch_contents.append( obj)\n",
      "        \n",
      "    def __str__(self):\n",
      "        return 'Contents are %s'%(self.pouch_contents)\n",
      "        \n",
      "kang = Kangaroo()\n",
      "roo = Kangaroo()\n",
      "        \n",
      "kang.put_in_pouch(roo)\n",
      "        "
     ],
     "language": "python",
     "metadata": {},
     "outputs": [],
     "prompt_number": 24
    },
    {
     "cell_type": "code",
     "collapsed": false,
     "input": [
      "print kang"
     ],
     "language": "python",
     "metadata": {},
     "outputs": [
      {
       "output_type": "stream",
       "stream": "stdout",
       "text": [
        "Contents are [<__main__.Kangaroo object at 0x084899D0>]\n"
       ]
      }
     ],
     "prompt_number": 25
    },
    {
     "cell_type": "code",
     "collapsed": false,
     "input": [],
     "language": "python",
     "metadata": {},
     "outputs": []
    }
   ],
   "metadata": {}
  }
 ]
}