{
 "metadata": {
  "name": "Week 7"
 },
 "nbformat": 3,
 "nbformat_minor": 0,
 "worksheets": [
  {
   "cells": [
    {
     "cell_type": "code",
     "collapsed": false,
     "input": [
      "%load_ext autoreload\n",
      "%autoreload 2\n",
      "from computing_imports import *\n",
      "\n",
      "def sort_by_length(words):\n",
      "    t = []\n",
      "    \n",
      "    for word in words:\n",
      "       t.append((len(word),  random.random(), word))\n",
      "\n",
      "    t.sort(reverse=False)\n",
      "\n",
      "    res = []\n",
      "    for length, r, word in t:\n",
      "        res.append(word)\n",
      "    return res"
     ],
     "language": "python",
     "metadata": {},
     "outputs": [],
     "prompt_number": 1
    },
    {
     "cell_type": "code",
     "collapsed": false,
     "input": [
      "words = 'theres not much i would rather do than spend a day sailing high with you hey nay bad bot way rag'\n",
      "words = words.split(' ')\n",
      "\n",
      "sort = sort_by_length(words)\n"
     ],
     "language": "python",
     "metadata": {},
     "outputs": [],
     "prompt_number": 3
    },
    {
     "cell_type": "code",
     "collapsed": false,
     "input": [
      "import re\n",
      "\n",
      "def most_frequent(text):\n",
      "    \n",
      "    freqs = dict()\n",
      "    \n",
      "    for letter in str.lower(text):\n",
      "        if re.match('[a-zA-Z]',letter):\n",
      "            freqs[letter] = freqs[letter]+1 if letter in freqs.keys() else 1\n",
      "            \n",
      "    tot = sum(freqs.values())\n",
      "    for letter in freqs.keys():\n",
      "        freqs[letter] = format(freqs[letter]/float(tot)*100,'.2f') \n",
      "        \n",
      "    return freqs\n",
      "    \n",
      "    \n",
      "f = open(os.getcwd()+'\\\\.ipython\\\\english.txt','r')\n",
      "text = f.read()\n",
      "\n",
      "freqs = most_frequent(text)\n"
     ],
     "language": "python",
     "metadata": {},
     "outputs": [],
     "prompt_number": 58
    },
    {
     "cell_type": "code",
     "collapsed": false,
     "input": [
      "f = open(os.getcwd()+'\\\\words.txt','r')\n",
      "wordlist = f.read()\n",
      "children('baskzet', wordlist)\n"
     ],
     "language": "python",
     "metadata": {},
     "outputs": [
      {
       "output_type": "pyout",
       "prompt_number": 179,
       "text": [
        "[]"
       ]
      }
     ],
     "prompt_number": 179
    },
    {
     "cell_type": "code",
     "collapsed": false,
     "input": [
      "word = 'hello'\n",
      "x = list(word[:])\n",
      "xx = list(x\n",
      "a = xx.remove('h')"
     ],
     "language": "python",
     "metadata": {},
     "outputs": [],
     "prompt_number": 124
    },
    {
     "cell_type": "heading",
     "level": 4,
     "metadata": {},
     "source": [
      "Chpt 11"
     ]
    },
    {
     "cell_type": "code",
     "collapsed": false,
     "input": [
      "f = open(os.getcwd()+'\\\\.ipython\\\\english.txt','r')\n",
      "wordlist = f.readlines()\n",
      "#wordlist = wordlist.split('\\\\')\n",
      "                          \n",
      "\n",
      "#wordlist[:400]\n",
      "xx = wordlist[0].strip()\n",
      "xx.replace('', '')\n"
     ],
     "language": "python",
     "metadata": {},
     "outputs": [
      {
       "output_type": "pyout",
       "prompt_number": 215,
       "text": [
        "'He had hardly spoken before there rushed into the room one of the most lovely young women that I have ever seen in my life. Her violet eyes shining, her lips parted, a pink flush upon her cheeks, all thought of her natural reserve lost in her overpowering excitement and concern.'"
       ]
      }
     ],
     "prompt_number": 215
    },
    {
     "cell_type": "code",
     "collapsed": false,
     "input": [
      "def makewords(wordlist):\n",
      "    xx = []\n",
      "    for line in wordlist:\n",
      "        \n",
      "        line = line.replace('-', ' ')\n",
      "        \n",
      "        for word in line.split():\n",
      "            word = word.strip(string.punctuation + string.whitespace)\n",
      "            word = word.lower()\n",
      "            xx.append(word)\n",
      "\n",
      "    return xx\n",
      "\n",
      "def markov(words):\n",
      "    m = dict()\n",
      "    \n",
      "    for i in range(0,len(words)-2):\n",
      "        prefix = tuple(words[i:i+2])\n",
      "        suffix = words[i+2]\n",
      "        \n",
      "        if prefix in m and m[prefix] != None:\n",
      "            m[prefix] = m[prefix].append(suffix)\n",
      "        elif [suffix] != None:\n",
      "            m[prefix] = [suffix]\n",
      "    return m"
     ],
     "language": "python",
     "metadata": {},
     "outputs": [],
     "prompt_number": 55
    },
    {
     "cell_type": "code",
     "collapsed": false,
     "input": [
      "\n",
      "f = open(os.getcwd()+'\\\\.ipython\\\\english.txt','r')\n",
      "wordlist = f.readlines()\n",
      "words = makewords(wordlist)\n",
      "\n",
      "m = markov(words)\n",
      "x = words[9]\n",
      "t = {tuple(words[7:9]) :[x]}"
     ],
     "language": "python",
     "metadata": {},
     "outputs": [],
     "prompt_number": 56
    },
    {
     "cell_type": "code",
     "collapsed": false,
     "input": [
      "for v in m.values():\n",
      "    if len(v)>1:\n",
      "        print v"
     ],
     "language": "python",
     "metadata": {},
     "outputs": [
      {
       "ename": "TypeError",
       "evalue": "object of type 'NoneType' has no len()",
       "output_type": "pyerr",
       "traceback": [
        "\u001b[1;31m---------------------------------------------------------------------------\u001b[0m\n\u001b[1;31mTypeError\u001b[0m                                 Traceback (most recent call last)",
        "\u001b[1;32m<ipython-input-57-17c0c3d8960d>\u001b[0m in \u001b[0;36m<module>\u001b[1;34m()\u001b[0m\n\u001b[0;32m      1\u001b[0m \u001b[1;32mfor\u001b[0m \u001b[0mv\u001b[0m \u001b[1;32min\u001b[0m \u001b[0mm\u001b[0m\u001b[1;33m.\u001b[0m\u001b[0mvalues\u001b[0m\u001b[1;33m(\u001b[0m\u001b[1;33m)\u001b[0m\u001b[1;33m:\u001b[0m\u001b[1;33m\u001b[0m\u001b[0m\n\u001b[1;32m----> 2\u001b[1;33m     \u001b[1;32mif\u001b[0m \u001b[0mlen\u001b[0m\u001b[1;33m(\u001b[0m\u001b[0mv\u001b[0m\u001b[1;33m)\u001b[0m\u001b[1;33m>\u001b[0m\u001b[1;36m1\u001b[0m\u001b[1;33m:\u001b[0m\u001b[1;33m\u001b[0m\u001b[0m\n\u001b[0m\u001b[0;32m      3\u001b[0m         \u001b[1;32mprint\u001b[0m \u001b[0mv\u001b[0m\u001b[1;33m\u001b[0m\u001b[0m\n",
        "\u001b[1;31mTypeError\u001b[0m: object of type 'NoneType' has no len()"
       ]
      }
     ],
     "prompt_number": 57
    },
    {
     "cell_type": "code",
     "collapsed": false,
     "input": [
      "t[tuple(words[7:9])]"
     ],
     "language": "python",
     "metadata": {},
     "outputs": [
      {
       "output_type": "pyout",
       "prompt_number": 30,
       "text": [
        "['room', 'room']"
       ]
      }
     ],
     "prompt_number": 30
    },
    {
     "cell_type": "code",
     "collapsed": false,
     "input": [
      "%qtconsole"
     ],
     "language": "python",
     "metadata": {},
     "outputs": [],
     "prompt_number": 34
    },
    {
     "cell_type": "code",
     "collapsed": false,
     "input": [],
     "language": "python",
     "metadata": {},
     "outputs": []
    }
   ],
   "metadata": {}
  }
 ]
}