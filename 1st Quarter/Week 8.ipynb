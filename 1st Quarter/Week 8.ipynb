{
 "metadata": {
  "name": "Week 8"
 },
 "nbformat": 3,
 "nbformat_minor": 0,
 "worksheets": [
  {
   "cells": [
    {
     "cell_type": "code",
     "collapsed": false,
     "input": [
      "class Point(object):\n",
      "    '''it's a point in 2-D, dummy'''\n",
      "    \n",
      "class Rectangle(object):\n",
      "    '''represents a rectangle \n",
      "       attributes: width, height, corner '''\n",
      "    \n",
      "import copy\n",
      "\n",
      "def print_point(p):\n",
      "    print '(%g, %g)' %(p.x, p.y)\n",
      "    \n",
      "def distance(p):\n",
      "    return math.sqrt(p.x**2+p.y**2)\n",
      "\n",
      "def find_center(box):\n",
      "    p = Point()\n",
      "    p.x = box.corner.x + box.width/2.0\n",
      "    p.y = box.corner.y + box.height/2.0\n",
      "    return p\n",
      "\n",
      "def move_rectangle(box, dx, dy):\n",
      "    newbox = copy.deepcopy(box)\n",
      "    newbox.corner.x += dx\n",
      "    newbox.corner.y += dy\n",
      "    return newbox\n",
      "\n",
      "def draw_rectangle(canvas, rec):\n",
      "    \n",
      "    bbox = [[box.corner.x,box.corner.y], [box.corner.x+box.width, box.corner.y+box.height]]\n",
      "    canvas.rectangle(bbox, outline='black', width=2, fill=box.color)\n",
      "    #canvas.circle([-25,0], 70, outline=None, fill='red')\n",
      "    world.mainloop()\n",
      "    \n",
      "def draw_point(canvas, point):\n",
      "    canvas.circle([point.x,point.y], 3, outline=None, fill='green')\n",
      "    world.mainloop()"
     ],
     "language": "python",
     "metadata": {},
     "outputs": [],
     "prompt_number": 56
    },
    {
     "cell_type": "code",
     "collapsed": false,
     "input": [
      "import sys\n",
      "sys.path.append('C:\\Python27\\Lib\\site-packages\\swampy-2.1.1-py2.7.egg\\swampy')\n",
      "from World import World"
     ],
     "language": "python",
     "metadata": {},
     "outputs": [],
     "prompt_number": 49
    },
    {
     "cell_type": "code",
     "collapsed": false,
     "input": [
      "box = Rectangle()\n",
      "box.width = 100.0\n",
      "box.height = 200.0\n",
      "box.corner = Point()\n",
      "box.corner.x = 0.0\n",
      "box.corner.y = 0.0\n",
      "box.color = 'red'"
     ],
     "language": "python",
     "metadata": {},
     "outputs": [],
     "prompt_number": 52
    },
    {
     "cell_type": "code",
     "collapsed": false,
     "input": [
      "world = World()\n",
      "canvas = world.ca(width=500, height=500, background='white')\n",
      "#draw_rectangle(canvas, box)\n",
      "point = Point()\n",
      "point.x = 30\n",
      "point.y = 20\n",
      "draw_point(canvas, point)"
     ],
     "language": "python",
     "metadata": {},
     "outputs": [],
     "prompt_number": 57
    },
    {
     "cell_type": "code",
     "collapsed": false,
     "input": [],
     "language": "python",
     "metadata": {},
     "outputs": []
    }
   ],
   "metadata": {}
  }
 ]
}