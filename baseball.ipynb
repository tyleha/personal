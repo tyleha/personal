{
 "metadata": {
  "name": "",
  "signature": "sha256:83b19e9a4b50012a96361a8e22c7a79d971c15c6b72bded390267b4885d7e9a1"
 },
 "nbformat": 3,
 "nbformat_minor": 0,
 "worksheets": [
  {
   "cells": [
    {
     "cell_type": "markdown",
     "metadata": {},
     "source": [
      "# Baseball salary analysis\n",
      "## Flow\n",
      "1. Increase in total league salary over time As compared to a variety of market metrics\n",
      "2. Team salary graph over time. Point out notable teams. Compare both %spending and #rank\n",
      "3. The big question - does money buy wins?\n",
      "    1. All year plot of wins (or win%) vs %spending. Draw conclusions\n",
      "    2. Plot of Slope of line from year to year with 95% CI error bars\n",
      "    3. dStd over time - has the spending of money become more or less diverse?\n",
      "4. Assuming we see a minimal correlation between money and success, what is our hypothesis? Of late - 6 yr team ownership. Plot wins vs salary but color/size dots based on team avg age.\n"
     ]
    },
    {
     "cell_type": "code",
     "collapsed": false,
     "input": [
      "import numpy as np\n",
      "import pandas as pd\n",
      "import matplotlib.pyplot as plt\n",
      "import re\n",
      "import wolframalpha as wa"
     ],
     "language": "python",
     "metadata": {},
     "outputs": [],
     "prompt_number": 49
    },
    {
     "cell_type": "code",
     "collapsed": false,
     "input": [
      "# Some payroll data from http://www.baseballchronology.com/Baseball/Years/1977\n",
      "xl_file = pd.ExcelFile(r'C:\\Users\\Tyler\\Google Drive\\DOCUMENTS\\Blog Data\\BaseballStats.xlsx')\n",
      "salaries = xl_file.parse(sheetname='Salaries')\n",
      "allstats = xl_file.parse(sheetname='Statistics')\n",
      "\n",
      "allstats.Team = allstats.Team.map(lambda x: x.replace(u'\\xa0', u\" \")) #ascii issue; thanks, excel\n",
      "\n",
      "allstats = pd.merge(allstats, salaries, how='left')\n",
      "# let's play with a subset of data anyways\n",
      "stats = allstats.reindex(columns=['Team', 'Year', 'W', 'Salary', 'Playoffs'])\n",
      "stats.columns = [c.lower() for c in stats.columns]\n",
      "del salaries # clear up some mem\n",
      "del allstats # clear up some mem"
     ],
     "language": "python",
     "metadata": {},
     "outputs": [],
     "prompt_number": 26
    },
    {
     "cell_type": "code",
     "collapsed": false,
     "input": [
      "# Clean up salary data because, again, Excel is the worst.\n",
      "def to_float(x):\n",
      "    try:\n",
      "        return float(x)    \n",
      "    except:\n",
      "        return float(x.replace(',','').strip())\n",
      "    \n",
      "stats.salary = stats.salary.map(to_float)"
     ],
     "language": "python",
     "metadata": {},
     "outputs": [],
     "prompt_number": 27
    },
    {
     "cell_type": "code",
     "collapsed": false,
     "input": [
      "# Fix the weird MLB name issues\n",
      "def team_groups(name):\n",
      "    # Edge cases - \n",
      "    # 1. Anaheim/LA/Etc Angels\n",
      "    # 2. Devil Rays vs Rays\n",
      "    # 3. Miami/Florida Marlins\n",
      "    if 'Angels' in name:\n",
      "        return 'Los Angeles Angels'\n",
      "    elif 'Tampa Bay' in name:\n",
      "        return 'Tampa Bay Rays'\n",
      "    elif 'Marlins' in name:\n",
      "        return 'Miami Marlins'\n",
      "    else:\n",
      "        return name\n",
      "\n",
      "stats.team = stats.team.map(team_groups)"
     ],
     "language": "python",
     "metadata": {},
     "outputs": [],
     "prompt_number": 54
    },
    {
     "cell_type": "heading",
     "level": 1,
     "metadata": {},
     "source": [
      "1. Total League Salary"
     ]
    },
    {
     "cell_type": "code",
     "collapsed": false,
     "input": [
      "# Let's just look at years where we have salary info\n",
      "stats = stats[stats.year > 1976].reset_index(drop=True)"
     ],
     "language": "python",
     "metadata": {},
     "outputs": [],
     "prompt_number": 28
    },
    {
     "cell_type": "code",
     "collapsed": false,
     "input": [
      "league_salary = stats.groupby('year').salary.sum()\n"
     ],
     "language": "python",
     "metadata": {},
     "outputs": []
    },
    {
     "cell_type": "code",
     "collapsed": false,
     "input": [
      "ff = pd.ExcelFile(r'C:\\Users\\thartley\\Documents\\Dropbox\\prices.xlsx')\n",
      "incomes = ff.parse('household')\n",
      "incomes = incomes[incomes.year > 1976].reset_index(drop=True)\n",
      "textbooks = ff.parse('textbooks')\n",
      "textbooks = pd.DataFrame([textbooks.ix[i] for i in range(0, len(textbooks), 12)])\n",
      "textbooks['year'] = textbooks.month.map(lambda x: x.year)\n",
      "textbooks = textbooks[textbooks.year > 1976].reset_index(drop=True)\n"
     ],
     "language": "python",
     "metadata": {},
     "outputs": [],
     "prompt_number": 103
    },
    {
     "cell_type": "code",
     "collapsed": false,
     "input": [
      "plt.figure()\n",
      "plt.plot(incomes.year, incomes.nominal)\n",
      "plt.plot(textbooks.year, textbooks.CPI*(incomes.nominal.iloc[-1]/textbooks.CPI[0]))"
     ],
     "language": "python",
     "metadata": {},
     "outputs": [
      {
       "metadata": {},
       "output_type": "pyout",
       "prompt_number": 123,
       "text": [
        "[<matplotlib.lines.Line2D at 0xa212450>]"
       ]
      },
      {
       "metadata": {},
       "output_type": "display_data",
       "png": "[encoded data removed]",
       "text": [
        "<matplotlib.figure.Figure at 0xa2122b0>"
       ]
      }
     ],
     "prompt_number": 123
    },
    {
     "cell_type": "code",
     "collapsed": false,
     "input": [
      "incomes.nominal.iloc[-1]"
     ],
     "language": "python",
     "metadata": {},
     "outputs": [
      {
       "metadata": {},
       "output_type": "pyout",
       "prompt_number": 122,
       "text": [
        "11992"
       ]
      }
     ],
     "prompt_number": 122
    },
    {
     "cell_type": "code",
     "collapsed": false,
     "input": [
      "\"\"\"\n",
      "wolfram_api_id = \"G3Y8VX-E83L2YWY59\"\n",
      "client = wa.Client(wolfram_api_id)\n",
      "\n",
      "res = client.query('{0} {1} dollars in 2013 dollars'.format(1000, 1977))\n",
      "\n",
      "for r in res.results:\n",
      "    price =  float(re.findall('^\\$([\\d.]+)', r.text)[0])\n",
      "    break\n",
      "\"\"\""
     ],
     "language": "python",
     "metadata": {},
     "outputs": [
      {
       "metadata": {},
       "output_type": "pyout",
       "prompt_number": 121,
       "text": [
        "'\\nwolfram_api_id = \"G3Y8VX-E83L2YWY59\"\\nclient = wa.Client(wolfram_api_id)\\n\\nres = client.query(\\'{0} {1} dollars in 2013 dollars\\'.format(1000, 1977))\\n\\nfor r in res.results:\\n    price =  float(re.findall(\\'^\\\\$([\\\\d.]+)\\', r.text)[0])\\n    break\\n'"
       ]
      }
     ],
     "prompt_number": 121
    },
    {
     "cell_type": "code",
     "collapsed": false,
     "input": [
      "fig = plt.figure(figsize=(12,8))\n",
      "plt.plot(league_salary.year, league_salary.salary)\n",
      "plt.plot()"
     ],
     "language": "python",
     "metadata": {},
     "outputs": [],
     "prompt_number": 46
    },
    {
     "cell_type": "heading",
     "level": 1,
     "metadata": {},
     "source": [
      "2. Team Salary over Time"
     ]
    },
    {
     "cell_type": "code",
     "collapsed": true,
     "input": [
      "# Normalize salary to fraction of total money spent that year\n",
      "def add_prop(group):\n",
      "    group['frac_salary'] = group.salary/group.salary.sum()*100\n",
      "    return group\n",
      "stats = stats.groupby('year').apply(add_prop)"
     ],
     "language": "python",
     "metadata": {},
     "outputs": [],
     "prompt_number": 53
    },
    {
     "cell_type": "code",
     "collapsed": false,
     "input": [
      "byteam = stats.groupby(by='team')\n",
      "for i, g in byteam:\n",
      "    color = 'k'\n",
      "    zorder = None\n",
      "    alpha = 0.5\n",
      "    if 'Yankees' in i:\n",
      "        color = 'k'\n",
      "        zorder = 0\n",
      "        alpha = 1\n",
      "    if 'Red Sox' in i:\n",
      "        color = 'r'\n",
      "        zorder = 1\n",
      "        alpha = 1\n",
      "    \n",
      "    plt.plot(g.year, g.frac_salary, color=color, alpha=alpha, linewidth=3, zorder=zorder)"
     ],
     "language": "python",
     "metadata": {},
     "outputs": [
      {
       "ename": "NameError",
       "evalue": "name 'stats' is not defined",
       "output_type": "pyerr",
       "traceback": [
        "\u001b[1;31m---------------------------------------------------------------------------\u001b[0m\n\u001b[1;31mNameError\u001b[0m                                 Traceback (most recent call last)",
        "\u001b[1;32m<ipython-input-48-9d4d5c2c1f22>\u001b[0m in \u001b[0;36m<module>\u001b[1;34m()\u001b[0m\n\u001b[1;32m----> 1\u001b[1;33m \u001b[0mbyteam\u001b[0m \u001b[1;33m=\u001b[0m \u001b[0mstats\u001b[0m\u001b[1;33m.\u001b[0m\u001b[0mgroupby\u001b[0m\u001b[1;33m(\u001b[0m\u001b[0mby\u001b[0m\u001b[1;33m=\u001b[0m\u001b[1;34m'team'\u001b[0m\u001b[1;33m)\u001b[0m\u001b[1;33m\u001b[0m\u001b[0m\n\u001b[0m\u001b[0;32m      2\u001b[0m \u001b[1;32mfor\u001b[0m \u001b[0mi\u001b[0m\u001b[1;33m,\u001b[0m \u001b[0mg\u001b[0m \u001b[1;32min\u001b[0m \u001b[0mbyteam\u001b[0m\u001b[1;33m:\u001b[0m\u001b[1;33m\u001b[0m\u001b[0m\n\u001b[0;32m      3\u001b[0m     \u001b[0mcolor\u001b[0m \u001b[1;33m=\u001b[0m \u001b[1;34m'k'\u001b[0m\u001b[1;33m\u001b[0m\u001b[0m\n\u001b[0;32m      4\u001b[0m     \u001b[0mzorder\u001b[0m \u001b[1;33m=\u001b[0m \u001b[0mNone\u001b[0m\u001b[1;33m\u001b[0m\u001b[0m\n\u001b[0;32m      5\u001b[0m     \u001b[0malpha\u001b[0m \u001b[1;33m=\u001b[0m \u001b[1;36m0.5\u001b[0m\u001b[1;33m\u001b[0m\u001b[0m\n",
        "\u001b[1;31mNameError\u001b[0m: name 'stats' is not defined"
       ]
      }
     ],
     "prompt_number": 48
    },
    {
     "cell_type": "code",
     "collapsed": false,
     "input": [],
     "language": "python",
     "metadata": {},
     "outputs": [],
     "prompt_number": 44
    },
    {
     "cell_type": "code",
     "collapsed": false,
     "input": [],
     "language": "python",
     "metadata": {},
     "outputs": []
    }
   ],
   "metadata": {}
  }
 ]
}