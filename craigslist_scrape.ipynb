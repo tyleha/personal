{
 "metadata": {
  "name": "craigslist_scrape"
 },
 "nbformat": 3,
 "nbformat_minor": 0,
 "worksheets": [
  {
   "cells": [
    {
     "cell_type": "code",
     "collapsed": false,
     "input": [
      "from bs4 import BeautifulSoup\n",
      "import requests\n",
      "import re"
     ],
     "language": "python",
     "metadata": {},
     "outputs": [],
     "prompt_number": 34
    },
    {
     "cell_type": "code",
     "collapsed": false,
     "input": [
      "class Post(object):\n",
      "    def __init__(self, bs4tag, rooturl):\n",
      "        self.href = bs4tag('a')[1].get('href')[1:]\n",
      "        self.title = bs4tag('a')[1].text \n",
      "        self.rooturl = rooturl\n",
      "        self.url = self.rooturl + self.href\n",
      "        self.price = Post.find_price(bs4tag)\n",
      "        \n",
      "        self.postsoup = None\n",
      "        \n",
      "    @classmethod\n",
      "    def find_price(cls, post):\n",
      "        results = post.find('span', attrs={'class':'price'})\n",
      "        if results is None: \n",
      "            return results\n",
      "        return results.contents[0].replace('$','')\n",
      "    \n",
      "    def get_post_soup(self):\n",
      "        # Only do if soup doesn't already exist.\n",
      "        if self.postsoup is None:\n",
      "            r = requests.get(self.url)\n",
      "            self.postsoup = BeautifulSoup(r.text) \n",
      "    \n",
      "    def get_anon_email(self):\n",
      "        \"\"\"Grab the anonomized email address from the link provided on the posting page\"\"\"\n",
      "        self.get_post_soup()\n",
      "        self.anonemail = parse_anonemail(self.postsoup)\n",
      "        return self.anonemail\n",
      "        \n",
      "    def get_user_email(self):\n",
      "        \"\"\"Grab any emails the poster provided in the text of the page\"\"\"\n",
      "        self.get_post_soup()\n",
      "        self.useremail = parse_useremail(self.postsoup) \n",
      "        return self.useremail\n",
      "        \n",
      "def parse_anonemail(soup):\n",
      "    for link in soup.find_all('a'):\n",
      "        match = re.search('([a-zA-Z0-9._%+-]+@\\w+\\.craigslist\\.[\\w]{2,4})', link.get('href'))\n",
      "        if match is not None:\n",
      "            return match.group(1)\n",
      "    return None\n",
      "\n",
      "def parse_useremail(soup):\n",
      "    re.search('([a-zA-Z0-9._%+-]+@[a-zA-z0-9.-]+\\.[\\w]{2,4})', soup.get_text())   \n",
      "    \n"
     ],
     "language": "python",
     "metadata": {},
     "outputs": [],
     "prompt_number": 35
    },
    {
     "cell_type": "code",
     "collapsed": false,
     "input": [
      "class Search(object):\n",
      "    def __init__(self, ccity, ccategory, query=None, csearchtype='A', chood=None, minask=None, maxask=None, haspic=False):\n",
      "        self.ccity = ccity\n",
      "        self.ccategory = ccategory\n",
      "        self.query = query\n",
      "        self.csearchtype = csearchtype\n",
      "        self.chood = chood\n",
      "        self.minask = minask\n",
      "        self.maxask = maxask\n",
      "        self.haspic = haspic\n",
      "        \n",
      "        self.cminask = '' if minask is None else str(minask)\n",
      "        self.cmaxask = '' if maxask is None else str(maxask)\n",
      "        self.chaspic = '1' if haspic else '0'\n",
      "        \n",
      "    def search_url(self):\n",
      "        #http://seattle.craigslist.org/search/sya/est?query=lenovo&zoomToPosting=&srchType=T&minAsk=10&maxAsk=10000&hasPic=1\n",
      "        if self.query == None:\n",
      "            return 'http://{0}.craigslist.org/{1}{2}'.format(self.ccity, postslash(self.chood), self.ccategory)\n",
      "        return 'http://{0}.craigslist.org/search/{1}{7}?query={2}&srchType={3}&minAsk={4}&maxAsk={5}%hasPic={6}'.format(\n",
      "                    self.ccity, self.ccategory, self.query, self.csearchtype, self.cminask, self.cmaxask, self.chaspic, preslash(self.chood))\n",
      "    \n",
      "    def find_postings(self):\n",
      "        pass\n",
      "    \n",
      "        \n",
      "postslash = lambda x: '' if x is None else x+'/'\n",
      "preslash = lambda x: '' if x is None else '/'+x\n"
     ],
     "language": "python",
     "metadata": {},
     "outputs": [],
     "prompt_number": 36
    },
    {
     "cell_type": "code",
     "collapsed": false,
     "input": [
      "ms = Search('seattle', 'ppa', query='pink', chood='see', csearchtype='A', minask=1, maxask='1000')\n",
      "site = ms.search_url()\n",
      "r = requests.get(site)\n",
      "soup = BeautifulSoup(r.text)   "
     ],
     "language": "python",
     "metadata": {},
     "outputs": [],
     "prompt_number": 39
    },
    {
     "cell_type": "code",
     "collapsed": false,
     "input": [
      "postings = soup('p')\n",
      "\n",
      "for bs4tag in postings[:10]:  \n",
      "    post = Post(bs4tag, rooturl)\n",
      "    print post.title\n",
      "    print post.url\n",
      "    print post.price\n",
      "    print post.get_anon_email()\n",
      "    print post.get_user_email()\n",
      "    print"
     ],
     "language": "python",
     "metadata": {},
     "outputs": [
      {
       "output_type": "stream",
       "stream": "stdout",
       "text": [
        "vintage 50's fridge white w/pink insides\n",
        "http://seattle.craigslist.org/see/app/3920187245.html\n",
        "250\n",
        "phgdp-3920187245@sale.craigslist.org"
       ]
      },
      {
       "output_type": "stream",
       "stream": "stdout",
       "text": [
        "\n",
        "None\n",
        "\n",
        "Cuisinart Mix It In Soft Serve Pink Ice Cream Maker\n",
        "http://seattle.craigslist.org/see/app/3915971679.html\n",
        "40\n",
        "7rncp-3915971679@sale.craigslist.org"
       ]
      },
      {
       "output_type": "stream",
       "stream": "stdout",
       "text": [
        "\n",
        "None\n",
        "\n"
       ]
      }
     ],
     "prompt_number": 40
    },
    {
     "cell_type": "code",
     "collapsed": false,
     "input": [],
     "language": "python",
     "metadata": {},
     "outputs": [
      {
       "output_type": "pyout",
       "prompt_number": 32,
       "text": [
        "'http://seattle.craigslist.org/search/ppa/see?query=pink&srchType=A&minAsk=1&maxAsk=1000%hasPic=0'"
       ]
      }
     ],
     "prompt_number": 32
    },
    {
     "cell_type": "code",
     "collapsed": false,
     "input": [],
     "language": "python",
     "metadata": {},
     "outputs": []
    }
   ],
   "metadata": {}
  }
 ]
}