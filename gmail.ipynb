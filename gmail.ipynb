{
 "cells": [
  {
   "cell_type": "code",
   "execution_count": 1,
   "metadata": {
    "collapsed": false
   },
   "outputs": [],
   "source": [
    "%load_ext autoreload\n",
    "%autoreload 2"
   ]
  },
  {
   "cell_type": "code",
   "execution_count": 2,
   "metadata": {
    "collapsed": false
   },
   "outputs": [],
   "source": [
    "import os\n",
    "import email as em\n",
    "\n",
    "from datetime import date, timedelta, datetime\n",
    "from time import mktime\n",
    "from email.utils import parsedate, parsedate_tz\n",
    "from email.parser import HeaderParser\n",
    "\n",
    "from classes.gmail import GmailAccount"
   ]
  },
  {
   "cell_type": "code",
   "execution_count": 3,
   "metadata": {
    "collapsed": true
   },
   "outputs": [],
   "source": [
    "password = open(os.path.expanduser('~/.ssh/pw'), 'r').read().strip()"
   ]
  },
  {
   "cell_type": "code",
   "execution_count": 4,
   "metadata": {
    "collapsed": false
   },
   "outputs": [
    {
     "data": {
      "text/plain": [
       "('OK', [b'tyleha@gmail.com authenticated (Success)'])"
      ]
     },
     "execution_count": 4,
     "metadata": {},
     "output_type": "execute_result"
    }
   ],
   "source": [
    "tyler = GmailAccount(username='tyleha@gmail.com', password=password)\n",
    "tyler.login()"
   ]
  },
  {
   "cell_type": "code",
   "execution_count": 5,
   "metadata": {
    "collapsed": false
   },
   "outputs": [],
   "source": [
    "daysback = 6000\n",
    "notsince = 0\n",
    "since = (date.today() - timedelta(daysback)).strftime(\"%d-%b-%Y\")\n",
    "before = (date.today() - timedelta(notsince)).strftime(\"%d-%b-%Y\")\n",
    "\n",
    "SEARCH = '(SENTSINCE {si} SENTBEFORE {bf})'.format(si=since, bf=before)\n",
    "BODY = '(BODY.PEEK[TEXT])'\n",
    "ALL_HEADERS = '(BODY.PEEK[HEADER.FIELDS (DATE TO CC FROM SUBJECT)])'\n",
    "DATE = '(BODY.PEEK[HEADER.FIELDS (DATE)])'"
   ]
  },
  {
   "cell_type": "code",
   "execution_count": 6,
   "metadata": {
    "collapsed": false
   },
   "outputs": [
    {
     "data": {
      "text/plain": [
       "('OK',\n",
       " [b'(\\\\HasNoChildren) \"/\" \"ASB\"',\n",
       "  b'(\\\\HasNoChildren) \"/\" \"Boomerang-Outbox\"',\n",
       "  b'(\\\\HasNoChildren) \"/\" \"Capstone\"',\n",
       "  b'(\\\\HasNoChildren) \"/\" \"Craigslist\"',\n",
       "  b'(\\\\HasNoChildren) \"/\" \"Follow Up\"',\n",
       "  b'(\\\\HasNoChildren) \"/\" \"From Dad\"',\n",
       "  b'(\\\\HasNoChildren) \"/\" \"Grad School\"',\n",
       "  b'(\\\\HasNoChildren) \"/\" \"IDEAS\"',\n",
       "  b'(\\\\HasNoChildren) \"/\" \"INBOX\"',\n",
       "  b'(\\\\HasNoChildren) \"/\" \"Internships\"',\n",
       "  b'(\\\\HasNoChildren) \"/\" \"Jorbs\"',\n",
       "  b'(\\\\HasNoChildren) \"/\" \"Junk E-mail\"',\n",
       "  b'(\\\\HasNoChildren) \"/\" \"Li Probies\"',\n",
       "  b'(\\\\HasNoChildren) \"/\" \"Misc\"',\n",
       "  b'(\\\\HasNoChildren) \"/\" \"Notes\"',\n",
       "  b'(\\\\HasNoChildren) \"/\" \"Phthisis\"',\n",
       "  b'(\\\\HasNoChildren) \"/\" \"Python\"',\n",
       "  b'(\\\\HasNoChildren) \"/\" \"SD\"',\n",
       "  b'(\\\\HasNoChildren) \"/\" \"Sanders Lab\"',\n",
       "  b'(\\\\HasNoChildren) \"/\" \"Sent to tlh2k\"',\n",
       "  b'(\\\\HasNoChildren) \"/\" \"Travel\"',\n",
       "  b'(\\\\HasNoChildren) \"/\" \"UGS\"',\n",
       "  b'(\\\\HasNoChildren) \"/\" \"UGS 2010\"',\n",
       "  b'(\\\\HasNoChildren) \"/\" \"UW BioE\"',\n",
       "  b'(\\\\HasNoChildren) \"/\" \"UW BioE \\'10\"',\n",
       "  b'(\\\\HasChildren) \"/\" \"WYC\"',\n",
       "  b'(\\\\HasNoChildren) \"/\" \"WYC/EXEC\"',\n",
       "  b'(\\\\HasNoChildren) \"/\" \"WYC/KB Novice\"',\n",
       "  b'(\\\\HasNoChildren) \"/\" \"WYC/WYC\"',\n",
       "  b'(\\\\HasNoChildren) \"/\" \"WYC/WYC Keelboat\"',\n",
       "  b'(\\\\HasNoChildren) \"/\" \"Wedding\"',\n",
       "  b'(\\\\HasChildren \\\\Noselect) \"/\" \"[Gmail]\"',\n",
       "  b'(\\\\All \\\\HasNoChildren) \"/\" \"[Gmail]/All Mail\"',\n",
       "  b'(\\\\HasNoChildren) \"/\" \"[Gmail]/Chats\"',\n",
       "  b'(\\\\Drafts \\\\HasNoChildren) \"/\" \"[Gmail]/Drafts\"',\n",
       "  b'(\\\\HasNoChildren \\\\Important) \"/\" \"[Gmail]/Important\"',\n",
       "  b'(\\\\HasNoChildren \\\\Sent) \"/\" \"[Gmail]/Sent Mail\"',\n",
       "  b'(\\\\HasNoChildren \\\\Junk) \"/\" \"[Gmail]/Spam\"',\n",
       "  b'(\\\\Flagged \\\\HasNoChildren) \"/\" \"[Gmail]/Starred\"',\n",
       "  b'(\\\\HasNoChildren \\\\Trash) \"/\" \"[Gmail]/Trash\"'])"
      ]
     },
     "execution_count": 6,
     "metadata": {},
     "output_type": "execute_result"
    }
   ],
   "source": [
    "tyler.conn.list()"
   ]
  },
  {
   "cell_type": "code",
   "execution_count": 7,
   "metadata": {
    "collapsed": false
   },
   "outputs": [],
   "source": [
    "#LOAD GMAIL EMAILS\n",
    "received = tyler.load_parse_query(SEARCH, ALL_HEADERS, '\"[Gmail]/All Mail\"')\n",
    "# sent = tyler.load_parse_query(SEARCH, ALL_HEADERS, '[Gmail]/Sent Mail')"
   ]
  },
  {
   "cell_type": "code",
   "execution_count": 26,
   "metadata": {
    "collapsed": true
   },
   "outputs": [],
   "source": [
    "def load_pickle(filepath, ftype='r'):\n",
    "    \"\"\"opens and closes pickled file and returns contained pickleobj\"\"\"\n",
    "    \n",
    "    f = open(filepath, ftype)\n",
    "    contents = pickle.load(f)\n",
    "    f.close()\n",
    "    return contents    \n",
    "\n",
    "def save_pickle(content, filepath, ftype='w'):\n",
    "    \"\"\"\n",
    "    :return: pickle's weird dump output. not useful\n",
    "    :content: the object to be saved (can be any type)\n",
    "    :filepath: the string path, relative or not, at which to save\n",
    "    :ftype: 'w' to write, 'wb' to write binary\n",
    "    \"\"\"\n",
    "    f = open(filepath, ftype)\n",
    "    xx = pickle.dump(content, f)\n",
    "    f.close()\n",
    "    return xx"
   ]
  },
  {
   "cell_type": "markdown",
   "metadata": {},
   "source": [
    "# Do the pandas thing"
   ]
  },
  {
   "cell_type": "code",
   "execution_count": 8,
   "metadata": {
    "collapsed": true
   },
   "outputs": [],
   "source": [
    "import pandas as pd\n",
    "import numpy as np"
   ]
  },
  {
   "cell_type": "code",
   "execution_count": 9,
   "metadata": {
    "collapsed": true
   },
   "outputs": [],
   "source": [
    "def scrub_email(headers):    \n",
    "    d = {}\n",
    "    for val in headers:\n",
    "        d[val[0].lower()] = val[1]\n",
    "    return d\n",
    "\n",
    "def try_parse_date(d):\n",
    "    # Sometimes, IMAP just has dates formatted in a totally improper \n",
    "    # way...see 'Thursday , 10 Dec 2009 16:28:55, PST'\n",
    "    try:\n",
    "        return datetime.fromtimestamp(mktime(parsedate(d)))\n",
    "    except:\n",
    "        return np.nan"
   ]
  },
  {
   "cell_type": "code",
   "execution_count": 10,
   "metadata": {
    "collapsed": false,
    "scrolled": false
   },
   "outputs": [],
   "source": [
    "# Frequency\n",
    "freq = 'M'\n",
    "\n",
    "df = pd.DataFrame([scrub_email(email._headers) for email in received])\n",
    " \n",
    "# df['timestamp'] = df.date.map(pd.Timestamp)\n",
    "# df['datetime'] = df.date.apply(lambda x: pd.Timestamp(x).to_datetime())\n",
    "\n",
    "df['datetime'] = df['date'].map(try_parse_date)\n",
    "df = df.dropna(subset=['datetime'])\n",
    "# df.fillna('missing', inplace=True)\n",
    "\n",
    "df['timestamp'] = df.datetime.map(pd.Timestamp)\n",
    "df['period'] = df.timestamp.apply(lambda x: x.to_period(freq=freq))\n",
    "\n",
    "# df['date_group'] = df['datetime'].apply(lambda x: x.strftime('%Y-%b'))\n",
    "df['hour'] = df.timestamp.apply(lambda x: x.hour)"
   ]
  },
  {
   "cell_type": "code",
   "execution_count": 34,
   "metadata": {
    "collapsed": false
   },
   "outputs": [
    {
     "name": "stdout",
     "output_type": "stream",
     "text": [
      " 117 of 117    [##################### 100% #####################]    Time: 0:27:30    ETA: 0:00:00"
     ]
    }
   ],
   "source": [
    "# Scale our heatmap to the min/max range of our email data.\n",
    "mindate = df.datetime.min()\n",
    "maxdate = df.datetime.max()\n",
    "pr = pd.period_range(mindate, maxdate, freq=freq)\n",
    "\n",
    "# Initialize a new HeatMap dataframe where the indicies are actually Periods of time!\n",
    "# Size the frame anticipating the correct number of rows (periods) and columns (hours in a day)\n",
    "hm = pd.DataFrame(np.zeros([len(pr), 24]) , index=pr)\n",
    "\n",
    "from classes.progress import ProgressBar\n",
    "\n",
    "prog = ProgressBar(len(pr))\n",
    "for i, period in enumerate(pr):\n",
    "    # HERE'S where the magic happens...with pandas, when you structure your data correctly, it can be so terse that\n",
    "    # you almost aren't sure the program does what it says it does...\n",
    "    # For this period (month), find all emails within this month and count how many emails were received\n",
    "    # within each hour of the day in that month. Wow. Takes more words to explain than to code.\n",
    "    # Normally that would take you 3 or 4 for loops, constantly trying to catch edge cases and fencepost\n",
    "    # problems. But here, it's as simple as you please.\n",
    "    hm.ix[period] = df[df.period == period].hour.value_counts()\n",
    "    prog.animate(i)\n",
    "    \n",
    "# If for some weird reason there was ever an hour period where you received no email,\n",
    "# fill those NaNs with zeros.\n",
    "hm.fillna(0, inplace=True)"
   ]
  },
  {
   "cell_type": "code",
   "execution_count": 15,
   "metadata": {
    "collapsed": false
   },
   "outputs": [
    {
     "name": "stdout",
     "output_type": "stream",
     "text": [
      " "
     ]
    }
   ],
   "source": [
    "%prun -l 4 df[df.period == period]"
   ]
  },
  {
   "cell_type": "code",
   "execution_count": 14,
   "metadata": {
    "collapsed": false
   },
   "outputs": [
    {
     "data": {
      "text/html": [
       "<div>\n",
       "<table border=\"1\" class=\"dataframe\">\n",
       "  <thead>\n",
       "    <tr style=\"text-align: right;\">\n",
       "      <th></th>\n",
       "      <th>hour</th>\n",
       "    </tr>\n",
       "  </thead>\n",
       "  <tbody>\n",
       "    <tr>\n",
       "      <th>count</th>\n",
       "      <td>98399.000000</td>\n",
       "    </tr>\n",
       "    <tr>\n",
       "      <th>mean</th>\n",
       "      <td>13.702131</td>\n",
       "    </tr>\n",
       "    <tr>\n",
       "      <th>std</th>\n",
       "      <td>5.645299</td>\n",
       "    </tr>\n",
       "    <tr>\n",
       "      <th>min</th>\n",
       "      <td>0.000000</td>\n",
       "    </tr>\n",
       "    <tr>\n",
       "      <th>25%</th>\n",
       "      <td>10.000000</td>\n",
       "    </tr>\n",
       "    <tr>\n",
       "      <th>50%</th>\n",
       "      <td>14.000000</td>\n",
       "    </tr>\n",
       "    <tr>\n",
       "      <th>75%</th>\n",
       "      <td>18.000000</td>\n",
       "    </tr>\n",
       "    <tr>\n",
       "      <th>max</th>\n",
       "      <td>23.000000</td>\n",
       "    </tr>\n",
       "  </tbody>\n",
       "</table>\n",
       "</div>"
      ],
      "text/plain": [
       "               hour\n",
       "count  98399.000000\n",
       "mean      13.702131\n",
       "std        5.645299\n",
       "min        0.000000\n",
       "25%       10.000000\n",
       "50%       14.000000\n",
       "75%       18.000000\n",
       "max       23.000000"
      ]
     },
     "execution_count": 14,
     "metadata": {},
     "output_type": "execute_result"
    }
   ],
   "source": [
    "df.describe()"
   ]
  },
  {
   "cell_type": "markdown",
   "metadata": {},
   "source": [
    "# Heatmap Plot"
   ]
  },
  {
   "cell_type": "code",
   "execution_count": 35,
   "metadata": {
    "collapsed": true
   },
   "outputs": [],
   "source": [
    "import matplotlib.pyplot as plt\n",
    "import matplotlib.dates as dates\n",
    "import time"
   ]
  },
  {
   "cell_type": "code",
   "execution_count": 36,
   "metadata": {
    "collapsed": false
   },
   "outputs": [
    {
     "data": {
      "text/plain": [
       "(0, 23)"
      ]
     },
     "execution_count": 36,
     "metadata": {},
     "output_type": "execute_result"
    }
   ],
   "source": [
    "# fig = plt.figure(figsize=(12,8))\n",
    "# ax = fig.add_subplot()\n",
    "fig, ax = plt.subplots(figsize=(12, 8))\n",
    "\n",
    "# ai = plt.imshow(hm.transpose(), interpolation='nearest', cmap='Oranges')\n",
    "# x = np.array([time.mktime(x.start_time.timetuple()) for x in pr])\n",
    "x = dates.date2num([p.start_time for p in pr])\n",
    "y = np.arange(24)\n",
    "plt.pcolor(x, y, hm.transpose().as_matrix(), cmap='Oranges')\n",
    "\n",
    "date_format = dates.DateFormatter('%b %Y')\n",
    "ax.xaxis.set_major_formatter(date_format)\n",
    "# ax.xaxis.set_major_locator(months)\n",
    "fig.autofmt_xdate()\n",
    "\n",
    "ax.set_xlim([dates.date2num(pr[0].start_time), dates.date2num(pr[-1].start_time)])\n",
    "ax.set_ylim([0, 23])"
   ]
  },
  {
   "cell_type": "code",
   "execution_count": null,
   "metadata": {
    "collapsed": false
   },
   "outputs": [],
   "source": [
    "len(hm.transpose().as_matrix())"
   ]
  },
  {
   "cell_type": "code",
   "execution_count": null,
   "metadata": {
    "collapsed": false
   },
   "outputs": [],
   "source": [
    "x = pr[0]\n",
    "x.start_time."
   ]
  },
  {
   "cell_type": "markdown",
   "metadata": {},
   "source": [
    "# Scratch City"
   ]
  },
  {
   "cell_type": "code",
   "execution_count": null,
   "metadata": {
    "collapsed": false
   },
   "outputs": [],
   "source": [
    "pd.crosstab()"
   ]
  },
  {
   "cell_type": "code",
   "execution_count": null,
   "metadata": {
    "collapsed": false,
    "scrolled": true
   },
   "outputs": [],
   "source": [
    "ax = plt.imshow(hm.transpose(), interpolation='nearest', cmap='Oranges').axes"
   ]
  },
  {
   "cell_type": "code",
   "execution_count": null,
   "metadata": {
    "collapsed": true
   },
   "outputs": [],
   "source": [
    "dates.date2num()"
   ]
  }
 ],
 "metadata": {
  "kernelspec": {
   "display_name": "Python 3",
   "language": "python",
   "name": "python3"
  },
  "language_info": {
   "codemirror_mode": {
    "name": "ipython",
    "version": 3
   },
   "file_extension": ".py",
   "mimetype": "text/x-python",
   "name": "python",
   "nbconvert_exporter": "python",
   "pygments_lexer": "ipython3",
   "version": "3.5.0"
  }
 },
 "nbformat": 4,
 "nbformat_minor": 0
}
