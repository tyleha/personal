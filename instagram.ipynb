{
 "metadata": {
  "name": "",
  "signature": "sha256:9cf2713992e2ab0f63723e4d5988c3d70d4b2c1df92e34f8253b86be68759c54"
 },
 "nbformat": 3,
 "nbformat_minor": 0,
 "worksheets": [
  {
   "cells": [
    {
     "cell_type": "code",
     "collapsed": false,
     "input": [
      "import instagram as ig\n",
      "import numpy as np\n",
      "# import matplotlib.pyplot as plt\n",
      "import json \n",
      "from IPython.core.display import HTML\n",
      "import re\n",
      "import sys\n",
      "from __future__ import print_function\n",
      "\n",
      "import helpers"
     ],
     "language": "python",
     "metadata": {},
     "outputs": [],
     "prompt_number": 1
    },
    {
     "cell_type": "code",
     "collapsed": false,
     "input": [
      "def paginate_tag_search(api, tag_search, max_results=40):\n",
      "    results = []\n",
      "    \n",
      "    tag_recent_media, next = api.tag_recent_media(tag_name=tag_search[0].name)\n",
      "    results += tag_recent_media    \n",
      "    \n",
      "    while len(results) < max_results:\n",
      "        recs, next = api.tag_recent_media(tag_name=tag_search[0].name, with_next_url=next)\n",
      "        results += recs  \n",
      "        \n",
      "    return results\n",
      "\n",
      "\n",
      "def match_caption(media, pattern):\n",
      "    \"\"\"\n",
      "    :media: an instagram Media object\n",
      "    :pattern: a list of string patterns or a single string pattern\n",
      "    \n",
      "    :returns: bool\n",
      "    \"\"\"\n",
      "    if media.caption is None:\n",
      "        return False\n",
      "    \n",
      "    if (isinstance(pattern, list) or isinstance(pattern, tuple)):\n",
      "        for pat in pattern:\n",
      "            \n",
      "            if re.search(pat, media.caption.text.lower()):\n",
      "                return True\n",
      "    else:\n",
      "        if re.search(pattern, media.caption.text.lower()):\n",
      "            return True\n",
      "    return False\n",
      "\n",
      "\n",
      "def has_tag(media, tag):\n",
      "    \"\"\"\n",
      "    :media: an instagram Media object\n",
      "    :tag: a list of tags as stings or a single string tag\n",
      "    \n",
      "    :returns: bool\n",
      "    \"\"\"\n",
      "    if (isinstance(tag, list) or isinstance(tag, tuple)):\n",
      "        for t in tag:\n",
      "            if t in [tag.name for tag in media.tags]:\n",
      "                return True\n",
      "    else:\n",
      "        if tag in [tag.name for tag in media.tags]:\n",
      "            return True\n",
      "        \n",
      "    return False\n",
      "\n",
      "\n",
      "def search_advanced(api, tag_primary, next=None, caption=None, tag=None, count=20, max_iters=20):\n",
      "    if (caption is not None and tag is not None):\n",
      "        raise ValueError, 'Perform either a caption or tag search'\n",
      "        \n",
      "    results = []\n",
      "    iters = 0\n",
      "    \n",
      "    tag_search, next_tag = api.tag_search(q=tag_primary)\n",
      "    if next is not None:\n",
      "        tag_recent_media, next = api.tag_recent_media(tag_name=tag_search[0].name, with_next_url=next)\n",
      "    else:\n",
      "        tag_recent_media, next = api.tag_recent_media(tag_name=tag_search[0].name)\n",
      "    iters += 1\n",
      "    \n",
      "    if caption is not None:\n",
      "        for media in tag_recent_media:\n",
      "            if match_caption(media, caption):\n",
      "                results.append(media)\n",
      "    if tag is not None:\n",
      "        for media in tag_recent_media:\n",
      "            if has_tag(media, tag):\n",
      "                results.append(media) \n",
      "                \n",
      "    while (len(results) < count and iters < max_iters):\n",
      "        tag_recent_media, next = api.tag_recent_media(tag_name=tag_search[0].name, with_next_url=next)\n",
      "        if caption is not None:\n",
      "            for media in tag_recent_media:\n",
      "                if match_caption(media, caption):\n",
      "                    results.append(media)\n",
      "        if tag is not None:\n",
      "            for media in tag_recent_media:\n",
      "                if has_tag(media, tag):\n",
      "                    results.append(media) \n",
      "        iters += 1\n",
      "        sys.stdout.write('\\rPage %s - %s results found'%(iters, len(results)))\n",
      "        sys.stdout.flush()\n",
      "        \n",
      "    #print '%s calls remaining'%api.x_ratelimit_remaining\n",
      "    return results, next\n"
     ],
     "language": "python",
     "metadata": {},
     "outputs": [],
     "prompt_number": 2
    },
    {
     "cell_type": "code",
     "collapsed": false,
     "input": [
      "# Get your key/secret from http://instagram.com/developer/\n",
      "with open(helpers.user_path('instagram_client_keys.txt'),'r') as fh:\n",
      "    keys = json.load(fh)\n",
      "\n",
      "# plop those babies in!\n",
      "api = ig.client.InstagramAPI(client_id=keys['INSTAGRAM_CLIENT_ID'],\n",
      "                   client_secret=keys['INSTAGRAM_CLIENT_SECRET'])\n",
      "\n",
      "html_big = '<img src=%s width=\"600\" />'\n",
      "html_small = '<img src=%s width=\"200\" />'\n",
      "next_url=None"
     ],
     "language": "python",
     "metadata": {},
     "outputs": [],
     "prompt_number": 8
    },
    {
     "cell_type": "code",
     "collapsed": false,
     "input": [
      "\n",
      "results, next_url= search_advanced(api, tag_primary='twins', caption=['preg'], count=50, max_iters=500, next=next_url)\n"
     ],
     "language": "python",
     "metadata": {},
     "outputs": [
      {
       "output_type": "stream",
       "stream": "stdout",
       "text": [
        "\r",
        "Page 2 - 0 results found"
       ]
      },
      {
       "output_type": "stream",
       "stream": "stdout",
       "text": [
        "\r",
        "Page 3 - 0 results found"
       ]
      },
      {
       "output_type": "stream",
       "stream": "stdout",
       "text": [
        "\r",
        "Page 4 - 0 results found"
       ]
      },
      {
       "output_type": "stream",
       "stream": "stdout",
       "text": [
        "\r",
        "Page 5 - 0 results found"
       ]
      },
      {
       "output_type": "stream",
       "stream": "stdout",
       "text": [
        "\r",
        "Page 6 - 1 results found"
       ]
      },
      {
       "output_type": "stream",
       "stream": "stdout",
       "text": [
        "\r",
        "Page 7 - 1 results found"
       ]
      },
      {
       "output_type": "stream",
       "stream": "stdout",
       "text": [
        "\r",
        "Page 8 - 1 results found"
       ]
      },
      {
       "output_type": "stream",
       "stream": "stdout",
       "text": [
        "\r",
        "Page 9 - 1 results found"
       ]
      },
      {
       "output_type": "stream",
       "stream": "stdout",
       "text": [
        "\r",
        "Page 10 - 1 results found"
       ]
      },
      {
       "output_type": "stream",
       "stream": "stdout",
       "text": [
        "\r",
        "Page 11 - 2 results found"
       ]
      },
      {
       "output_type": "stream",
       "stream": "stdout",
       "text": [
        "\r",
        "Page 12 - 2 results found"
       ]
      },
      {
       "output_type": "stream",
       "stream": "stdout",
       "text": [
        "\r",
        "Page 13 - 2 results found"
       ]
      },
      {
       "output_type": "stream",
       "stream": "stdout",
       "text": [
        "\r",
        "Page 14 - 2 results found"
       ]
      },
      {
       "output_type": "stream",
       "stream": "stdout",
       "text": [
        "\r",
        "Page 15 - 2 results found"
       ]
      },
      {
       "output_type": "stream",
       "stream": "stdout",
       "text": [
        "\r",
        "Page 16 - 2 results found"
       ]
      },
      {
       "output_type": "stream",
       "stream": "stdout",
       "text": [
        "\r",
        "Page 17 - 2 results found"
       ]
      },
      {
       "output_type": "stream",
       "stream": "stdout",
       "text": [
        "\r",
        "Page 18 - 2 results found"
       ]
      },
      {
       "output_type": "stream",
       "stream": "stdout",
       "text": [
        "\r",
        "Page 19 - 2 results found"
       ]
      },
      {
       "output_type": "stream",
       "stream": "stdout",
       "text": [
        "\r",
        "Page 20 - 2 results found"
       ]
      },
      {
       "output_type": "stream",
       "stream": "stdout",
       "text": [
        "\r",
        "Page 21 - 2 results found"
       ]
      },
      {
       "output_type": "stream",
       "stream": "stdout",
       "text": [
        "\r",
        "Page 22 - 2 results found"
       ]
      },
      {
       "output_type": "stream",
       "stream": "stdout",
       "text": [
        "\r",
        "Page 23 - 2 results found"
       ]
      },
      {
       "output_type": "stream",
       "stream": "stdout",
       "text": [
        "\r",
        "Page 24 - 2 results found"
       ]
      },
      {
       "output_type": "stream",
       "stream": "stdout",
       "text": [
        "\r",
        "Page 25 - 3 results found"
       ]
      },
      {
       "output_type": "stream",
       "stream": "stdout",
       "text": [
        "\r",
        "Page 26 - 3 results found"
       ]
      },
      {
       "output_type": "stream",
       "stream": "stdout",
       "text": [
        "\r",
        "Page 27 - 3 results found"
       ]
      },
      {
       "output_type": "stream",
       "stream": "stdout",
       "text": [
        "\r",
        "Page 28 - 3 results found"
       ]
      },
      {
       "output_type": "stream",
       "stream": "stdout",
       "text": [
        "\r",
        "Page 29 - 5 results found"
       ]
      },
      {
       "output_type": "stream",
       "stream": "stdout",
       "text": [
        "\r",
        "Page 30 - 6 results found"
       ]
      },
      {
       "output_type": "stream",
       "stream": "stdout",
       "text": [
        "\r",
        "Page 31 - 6 results found"
       ]
      },
      {
       "output_type": "stream",
       "stream": "stdout",
       "text": [
        "\r",
        "Page 32 - 6 results found"
       ]
      },
      {
       "output_type": "stream",
       "stream": "stdout",
       "text": [
        "\r",
        "Page 33 - 6 results found"
       ]
      },
      {
       "output_type": "stream",
       "stream": "stdout",
       "text": [
        "\r",
        "Page 34 - 6 results found"
       ]
      },
      {
       "output_type": "stream",
       "stream": "stdout",
       "text": [
        "\r",
        "Page 35 - 6 results found"
       ]
      },
      {
       "output_type": "stream",
       "stream": "stdout",
       "text": [
        "\r",
        "Page 36 - 6 results found"
       ]
      },
      {
       "output_type": "stream",
       "stream": "stdout",
       "text": [
        "\r",
        "Page 37 - 6 results found"
       ]
      },
      {
       "output_type": "stream",
       "stream": "stdout",
       "text": [
        "\r",
        "Page 38 - 7 results found"
       ]
      },
      {
       "output_type": "stream",
       "stream": "stdout",
       "text": [
        "\r",
        "Page 39 - 8 results found"
       ]
      },
      {
       "output_type": "stream",
       "stream": "stdout",
       "text": [
        "\r",
        "Page 40 - 8 results found"
       ]
      },
      {
       "output_type": "stream",
       "stream": "stdout",
       "text": [
        "\r",
        "Page 41 - 8 results found"
       ]
      },
      {
       "output_type": "stream",
       "stream": "stdout",
       "text": [
        "\r",
        "Page 42 - 8 results found"
       ]
      },
      {
       "output_type": "stream",
       "stream": "stdout",
       "text": [
        "\r",
        "Page 43 - 8 results found"
       ]
      },
      {
       "output_type": "stream",
       "stream": "stdout",
       "text": [
        "\r",
        "Page 44 - 8 results found"
       ]
      },
      {
       "output_type": "stream",
       "stream": "stdout",
       "text": [
        "\r",
        "Page 45 - 9 results found"
       ]
      },
      {
       "output_type": "stream",
       "stream": "stdout",
       "text": [
        "\r",
        "Page 46 - 9 results found"
       ]
      },
      {
       "output_type": "stream",
       "stream": "stdout",
       "text": [
        "\r",
        "Page 47 - 9 results found"
       ]
      },
      {
       "output_type": "stream",
       "stream": "stdout",
       "text": [
        "\r",
        "Page 48 - 9 results found"
       ]
      },
      {
       "output_type": "stream",
       "stream": "stdout",
       "text": [
        "\r",
        "Page 49 - 9 results found"
       ]
      },
      {
       "output_type": "stream",
       "stream": "stdout",
       "text": [
        "\r",
        "Page 50 - 9 results found"
       ]
      },
      {
       "output_type": "stream",
       "stream": "stdout",
       "text": [
        "\r",
        "Page 51 - 9 results found"
       ]
      },
      {
       "output_type": "stream",
       "stream": "stdout",
       "text": [
        "\r",
        "Page 52 - 9 results found"
       ]
      },
      {
       "output_type": "stream",
       "stream": "stdout",
       "text": [
        "\r",
        "Page 53 - 9 results found"
       ]
      },
      {
       "output_type": "stream",
       "stream": "stdout",
       "text": [
        "\r",
        "Page 54 - 9 results found"
       ]
      },
      {
       "output_type": "stream",
       "stream": "stdout",
       "text": [
        "\r",
        "Page 55 - 9 results found"
       ]
      },
      {
       "output_type": "stream",
       "stream": "stdout",
       "text": [
        "\r",
        "Page 56 - 9 results found"
       ]
      },
      {
       "output_type": "stream",
       "stream": "stdout",
       "text": [
        "\r",
        "Page 57 - 10 results found"
       ]
      },
      {
       "output_type": "stream",
       "stream": "stdout",
       "text": [
        "\r",
        "Page 58 - 10 results found"
       ]
      },
      {
       "output_type": "stream",
       "stream": "stdout",
       "text": [
        "\r",
        "Page 59 - 10 results found"
       ]
      },
      {
       "output_type": "stream",
       "stream": "stdout",
       "text": [
        "\r",
        "Page 60 - 10 results found"
       ]
      },
      {
       "output_type": "stream",
       "stream": "stdout",
       "text": [
        "\r",
        "Page 61 - 10 results found"
       ]
      },
      {
       "output_type": "stream",
       "stream": "stdout",
       "text": [
        "\r",
        "Page 62 - 10 results found"
       ]
      },
      {
       "output_type": "stream",
       "stream": "stdout",
       "text": [
        "\r",
        "Page 63 - 10 results found"
       ]
      },
      {
       "output_type": "stream",
       "stream": "stdout",
       "text": [
        "\r",
        "Page 64 - 10 results found"
       ]
      },
      {
       "output_type": "stream",
       "stream": "stdout",
       "text": [
        "\r",
        "Page 65 - 10 results found"
       ]
      },
      {
       "output_type": "stream",
       "stream": "stdout",
       "text": [
        "\r",
        "Page 66 - 10 results found"
       ]
      },
      {
       "output_type": "stream",
       "stream": "stdout",
       "text": [
        "\r",
        "Page 67 - 10 results found"
       ]
      },
      {
       "output_type": "stream",
       "stream": "stdout",
       "text": [
        "\r",
        "Page 68 - 10 results found"
       ]
      },
      {
       "output_type": "stream",
       "stream": "stdout",
       "text": [
        "\r",
        "Page 69 - 11 results found"
       ]
      },
      {
       "output_type": "stream",
       "stream": "stdout",
       "text": [
        "\r",
        "Page 70 - 12 results found"
       ]
      },
      {
       "output_type": "stream",
       "stream": "stdout",
       "text": [
        "\r",
        "Page 71 - 12 results found"
       ]
      },
      {
       "output_type": "stream",
       "stream": "stdout",
       "text": [
        "\r",
        "Page 72 - 12 results found"
       ]
      },
      {
       "output_type": "stream",
       "stream": "stdout",
       "text": [
        "\r",
        "Page 73 - 12 results found"
       ]
      },
      {
       "output_type": "stream",
       "stream": "stdout",
       "text": [
        "\r",
        "Page 74 - 12 results found"
       ]
      },
      {
       "output_type": "stream",
       "stream": "stdout",
       "text": [
        "\r",
        "Page 75 - 12 results found"
       ]
      },
      {
       "output_type": "stream",
       "stream": "stdout",
       "text": [
        "\r",
        "Page 76 - 12 results found"
       ]
      },
      {
       "output_type": "stream",
       "stream": "stdout",
       "text": [
        "\r",
        "Page 77 - 12 results found"
       ]
      },
      {
       "output_type": "stream",
       "stream": "stdout",
       "text": [
        "\r",
        "Page 78 - 12 results found"
       ]
      },
      {
       "output_type": "stream",
       "stream": "stdout",
       "text": [
        "\r",
        "Page 79 - 12 results found"
       ]
      },
      {
       "output_type": "stream",
       "stream": "stdout",
       "text": [
        "\r",
        "Page 80 - 12 results found"
       ]
      },
      {
       "output_type": "stream",
       "stream": "stdout",
       "text": [
        "\r",
        "Page 81 - 12 results found"
       ]
      },
      {
       "output_type": "stream",
       "stream": "stdout",
       "text": [
        "\r",
        "Page 82 - 12 results found"
       ]
      },
      {
       "output_type": "stream",
       "stream": "stdout",
       "text": [
        "\r",
        "Page 83 - 13 results found"
       ]
      },
      {
       "output_type": "stream",
       "stream": "stdout",
       "text": [
        "\r",
        "Page 84 - 13 results found"
       ]
      },
      {
       "output_type": "stream",
       "stream": "stdout",
       "text": [
        "\r",
        "Page 85 - 13 results found"
       ]
      },
      {
       "output_type": "stream",
       "stream": "stdout",
       "text": [
        "\r",
        "Page 86 - 13 results found"
       ]
      },
      {
       "output_type": "stream",
       "stream": "stdout",
       "text": [
        "\r",
        "Page 87 - 13 results found"
       ]
      },
      {
       "output_type": "stream",
       "stream": "stdout",
       "text": [
        "\r",
        "Page 88 - 13 results found"
       ]
      },
      {
       "output_type": "stream",
       "stream": "stdout",
       "text": [
        "\r",
        "Page 89 - 13 results found"
       ]
      },
      {
       "output_type": "stream",
       "stream": "stdout",
       "text": [
        "\r",
        "Page 90 - 15 results found"
       ]
      },
      {
       "output_type": "stream",
       "stream": "stdout",
       "text": [
        "\r",
        "Page 91 - 16 results found"
       ]
      },
      {
       "output_type": "stream",
       "stream": "stdout",
       "text": [
        "\r",
        "Page 92 - 16 results found"
       ]
      },
      {
       "output_type": "stream",
       "stream": "stdout",
       "text": [
        "\r",
        "Page 93 - 16 results found"
       ]
      },
      {
       "output_type": "stream",
       "stream": "stdout",
       "text": [
        "\r",
        "Page 94 - 16 results found"
       ]
      },
      {
       "output_type": "stream",
       "stream": "stdout",
       "text": [
        "\r",
        "Page 95 - 16 results found"
       ]
      },
      {
       "output_type": "stream",
       "stream": "stdout",
       "text": [
        "\r",
        "Page 96 - 16 results found"
       ]
      },
      {
       "output_type": "stream",
       "stream": "stdout",
       "text": [
        "\r",
        "Page 97 - 16 results found"
       ]
      },
      {
       "output_type": "stream",
       "stream": "stdout",
       "text": [
        "\r",
        "Page 98 - 16 results found"
       ]
      },
      {
       "output_type": "stream",
       "stream": "stdout",
       "text": [
        "\r",
        "Page 99 - 17 results found"
       ]
      },
      {
       "output_type": "stream",
       "stream": "stdout",
       "text": [
        "\r",
        "Page 100 - 17 results found"
       ]
      },
      {
       "output_type": "stream",
       "stream": "stdout",
       "text": [
        "\r",
        "Page 101 - 17 results found"
       ]
      },
      {
       "output_type": "stream",
       "stream": "stdout",
       "text": [
        "\r",
        "Page 102 - 17 results found"
       ]
      },
      {
       "output_type": "stream",
       "stream": "stdout",
       "text": [
        "\r",
        "Page 103 - 17 results found"
       ]
      },
      {
       "output_type": "stream",
       "stream": "stdout",
       "text": [
        "\r",
        "Page 104 - 18 results found"
       ]
      },
      {
       "output_type": "stream",
       "stream": "stdout",
       "text": [
        "\r",
        "Page 105 - 18 results found"
       ]
      },
      {
       "output_type": "stream",
       "stream": "stdout",
       "text": [
        "\r",
        "Page 106 - 18 results found"
       ]
      },
      {
       "output_type": "stream",
       "stream": "stdout",
       "text": [
        "\r",
        "Page 107 - 18 results found"
       ]
      },
      {
       "output_type": "stream",
       "stream": "stdout",
       "text": [
        "\r",
        "Page 108 - 18 results found"
       ]
      },
      {
       "output_type": "stream",
       "stream": "stdout",
       "text": [
        "\r",
        "Page 109 - 18 results found"
       ]
      },
      {
       "output_type": "stream",
       "stream": "stdout",
       "text": [
        "\r",
        "Page 110 - 19 results found"
       ]
      },
      {
       "output_type": "stream",
       "stream": "stdout",
       "text": [
        "\r",
        "Page 111 - 19 results found"
       ]
      },
      {
       "output_type": "stream",
       "stream": "stdout",
       "text": [
        "\r",
        "Page 112 - 19 results found"
       ]
      },
      {
       "output_type": "stream",
       "stream": "stdout",
       "text": [
        "\r",
        "Page 113 - 20 results found"
       ]
      },
      {
       "output_type": "stream",
       "stream": "stdout",
       "text": [
        "\r",
        "Page 114 - 21 results found"
       ]
      },
      {
       "output_type": "stream",
       "stream": "stdout",
       "text": [
        "\r",
        "Page 115 - 21 results found"
       ]
      },
      {
       "output_type": "stream",
       "stream": "stdout",
       "text": [
        "\r",
        "Page 116 - 21 results found"
       ]
      },
      {
       "output_type": "stream",
       "stream": "stdout",
       "text": [
        "\r",
        "Page 117 - 22 results found"
       ]
      },
      {
       "output_type": "stream",
       "stream": "stdout",
       "text": [
        "\r",
        "Page 118 - 22 results found"
       ]
      },
      {
       "output_type": "stream",
       "stream": "stdout",
       "text": [
        "\r",
        "Page 119 - 22 results found"
       ]
      },
      {
       "output_type": "stream",
       "stream": "stdout",
       "text": [
        "\r",
        "Page 120 - 22 results found"
       ]
      },
      {
       "output_type": "stream",
       "stream": "stdout",
       "text": [
        "\r",
        "Page 121 - 23 results found"
       ]
      },
      {
       "output_type": "stream",
       "stream": "stdout",
       "text": [
        "\r",
        "Page 122 - 23 results found"
       ]
      },
      {
       "output_type": "stream",
       "stream": "stdout",
       "text": [
        "\r",
        "Page 123 - 25 results found"
       ]
      },
      {
       "output_type": "stream",
       "stream": "stdout",
       "text": [
        "\r",
        "Page 124 - 26 results found"
       ]
      },
      {
       "output_type": "stream",
       "stream": "stdout",
       "text": [
        "\r",
        "Page 125 - 26 results found"
       ]
      },
      {
       "output_type": "stream",
       "stream": "stdout",
       "text": [
        "\r",
        "Page 126 - 26 results found"
       ]
      },
      {
       "output_type": "stream",
       "stream": "stdout",
       "text": [
        "\r",
        "Page 127 - 26 results found"
       ]
      },
      {
       "output_type": "stream",
       "stream": "stdout",
       "text": [
        "\r",
        "Page 128 - 26 results found"
       ]
      },
      {
       "output_type": "stream",
       "stream": "stdout",
       "text": [
        "\r",
        "Page 129 - 26 results found"
       ]
      },
      {
       "output_type": "stream",
       "stream": "stdout",
       "text": [
        "\r",
        "Page 130 - 27 results found"
       ]
      },
      {
       "output_type": "stream",
       "stream": "stdout",
       "text": [
        "\r",
        "Page 131 - 27 results found"
       ]
      },
      {
       "output_type": "stream",
       "stream": "stdout",
       "text": [
        "\r",
        "Page 132 - 28 results found"
       ]
      },
      {
       "output_type": "stream",
       "stream": "stdout",
       "text": [
        "\r",
        "Page 133 - 28 results found"
       ]
      },
      {
       "output_type": "stream",
       "stream": "stdout",
       "text": [
        "\r",
        "Page 134 - 28 results found"
       ]
      },
      {
       "output_type": "stream",
       "stream": "stdout",
       "text": [
        "\r",
        "Page 135 - 28 results found"
       ]
      },
      {
       "output_type": "stream",
       "stream": "stdout",
       "text": [
        "\r",
        "Page 136 - 28 results found"
       ]
      },
      {
       "output_type": "stream",
       "stream": "stdout",
       "text": [
        "\r",
        "Page 137 - 28 results found"
       ]
      },
      {
       "output_type": "stream",
       "stream": "stdout",
       "text": [
        "\r",
        "Page 138 - 28 results found"
       ]
      },
      {
       "output_type": "stream",
       "stream": "stdout",
       "text": [
        "\r",
        "Page 139 - 28 results found"
       ]
      },
      {
       "output_type": "stream",
       "stream": "stdout",
       "text": [
        "\r",
        "Page 140 - 28 results found"
       ]
      },
      {
       "output_type": "stream",
       "stream": "stdout",
       "text": [
        "\r",
        "Page 141 - 28 results found"
       ]
      },
      {
       "output_type": "stream",
       "stream": "stdout",
       "text": [
        "\r",
        "Page 142 - 28 results found"
       ]
      },
      {
       "output_type": "stream",
       "stream": "stdout",
       "text": [
        "\r",
        "Page 143 - 28 results found"
       ]
      },
      {
       "output_type": "stream",
       "stream": "stdout",
       "text": [
        "\r",
        "Page 144 - 29 results found"
       ]
      },
      {
       "output_type": "stream",
       "stream": "stdout",
       "text": [
        "\r",
        "Page 145 - 29 results found"
       ]
      },
      {
       "output_type": "stream",
       "stream": "stdout",
       "text": [
        "\r",
        "Page 146 - 29 results found"
       ]
      },
      {
       "output_type": "stream",
       "stream": "stdout",
       "text": [
        "\r",
        "Page 147 - 29 results found"
       ]
      },
      {
       "output_type": "stream",
       "stream": "stdout",
       "text": [
        "\r",
        "Page 148 - 29 results found"
       ]
      },
      {
       "output_type": "stream",
       "stream": "stdout",
       "text": [
        "\r",
        "Page 149 - 29 results found"
       ]
      },
      {
       "output_type": "stream",
       "stream": "stdout",
       "text": [
        "\r",
        "Page 150 - 29 results found"
       ]
      },
      {
       "output_type": "stream",
       "stream": "stdout",
       "text": [
        "\r",
        "Page 151 - 29 results found"
       ]
      },
      {
       "output_type": "stream",
       "stream": "stdout",
       "text": [
        "\r",
        "Page 152 - 29 results found"
       ]
      },
      {
       "output_type": "stream",
       "stream": "stdout",
       "text": [
        "\r",
        "Page 153 - 29 results found"
       ]
      },
      {
       "output_type": "stream",
       "stream": "stdout",
       "text": [
        "\r",
        "Page 154 - 29 results found"
       ]
      },
      {
       "output_type": "stream",
       "stream": "stdout",
       "text": [
        "\r",
        "Page 155 - 29 results found"
       ]
      },
      {
       "output_type": "stream",
       "stream": "stdout",
       "text": [
        "\r",
        "Page 156 - 30 results found"
       ]
      },
      {
       "output_type": "stream",
       "stream": "stdout",
       "text": [
        "\r",
        "Page 157 - 30 results found"
       ]
      },
      {
       "output_type": "stream",
       "stream": "stdout",
       "text": [
        "\r",
        "Page 158 - 30 results found"
       ]
      },
      {
       "output_type": "stream",
       "stream": "stdout",
       "text": [
        "\r",
        "Page 159 - 30 results found"
       ]
      },
      {
       "output_type": "stream",
       "stream": "stdout",
       "text": [
        "\r",
        "Page 160 - 30 results found"
       ]
      },
      {
       "output_type": "stream",
       "stream": "stdout",
       "text": [
        "\r",
        "Page 161 - 30 results found"
       ]
      },
      {
       "output_type": "stream",
       "stream": "stdout",
       "text": [
        "\r",
        "Page 162 - 30 results found"
       ]
      },
      {
       "output_type": "stream",
       "stream": "stdout",
       "text": [
        "\r",
        "Page 163 - 30 results found"
       ]
      },
      {
       "output_type": "stream",
       "stream": "stdout",
       "text": [
        "\r",
        "Page 164 - 30 results found"
       ]
      },
      {
       "output_type": "stream",
       "stream": "stdout",
       "text": [
        "\r",
        "Page 165 - 31 results found"
       ]
      },
      {
       "output_type": "stream",
       "stream": "stdout",
       "text": [
        "\r",
        "Page 166 - 31 results found"
       ]
      },
      {
       "output_type": "stream",
       "stream": "stdout",
       "text": [
        "\r",
        "Page 167 - 31 results found"
       ]
      },
      {
       "output_type": "stream",
       "stream": "stdout",
       "text": [
        "\r",
        "Page 168 - 31 results found"
       ]
      },
      {
       "output_type": "stream",
       "stream": "stdout",
       "text": [
        "\r",
        "Page 169 - 31 results found"
       ]
      },
      {
       "output_type": "stream",
       "stream": "stdout",
       "text": [
        "\r",
        "Page 170 - 31 results found"
       ]
      },
      {
       "output_type": "stream",
       "stream": "stdout",
       "text": [
        "\r",
        "Page 171 - 32 results found"
       ]
      },
      {
       "output_type": "stream",
       "stream": "stdout",
       "text": [
        "\r",
        "Page 172 - 32 results found"
       ]
      },
      {
       "output_type": "stream",
       "stream": "stdout",
       "text": [
        "\r",
        "Page 173 - 32 results found"
       ]
      },
      {
       "output_type": "stream",
       "stream": "stdout",
       "text": [
        "\r",
        "Page 174 - 32 results found"
       ]
      },
      {
       "output_type": "stream",
       "stream": "stdout",
       "text": [
        "\r",
        "Page 175 - 32 results found"
       ]
      },
      {
       "output_type": "stream",
       "stream": "stdout",
       "text": [
        "\r",
        "Page 176 - 32 results found"
       ]
      },
      {
       "output_type": "stream",
       "stream": "stdout",
       "text": [
        "\r",
        "Page 177 - 32 results found"
       ]
      },
      {
       "output_type": "stream",
       "stream": "stdout",
       "text": [
        "\r",
        "Page 178 - 32 results found"
       ]
      },
      {
       "output_type": "stream",
       "stream": "stdout",
       "text": [
        "\r",
        "Page 179 - 32 results found"
       ]
      },
      {
       "output_type": "stream",
       "stream": "stdout",
       "text": [
        "\r",
        "Page 180 - 32 results found"
       ]
      },
      {
       "output_type": "stream",
       "stream": "stdout",
       "text": [
        "\r",
        "Page 181 - 32 results found"
       ]
      },
      {
       "output_type": "stream",
       "stream": "stdout",
       "text": [
        "\r",
        "Page 182 - 32 results found"
       ]
      },
      {
       "output_type": "stream",
       "stream": "stdout",
       "text": [
        "\r",
        "Page 183 - 33 results found"
       ]
      },
      {
       "output_type": "stream",
       "stream": "stdout",
       "text": [
        "\r",
        "Page 184 - 34 results found"
       ]
      },
      {
       "output_type": "stream",
       "stream": "stdout",
       "text": [
        "\r",
        "Page 185 - 34 results found"
       ]
      },
      {
       "output_type": "stream",
       "stream": "stdout",
       "text": [
        "\r",
        "Page 186 - 34 results found"
       ]
      },
      {
       "output_type": "stream",
       "stream": "stdout",
       "text": [
        "\r",
        "Page 187 - 34 results found"
       ]
      },
      {
       "output_type": "stream",
       "stream": "stdout",
       "text": [
        "\r",
        "Page 188 - 34 results found"
       ]
      },
      {
       "output_type": "stream",
       "stream": "stdout",
       "text": [
        "\r",
        "Page 189 - 34 results found"
       ]
      },
      {
       "output_type": "stream",
       "stream": "stdout",
       "text": [
        "\r",
        "Page 190 - 34 results found"
       ]
      },
      {
       "output_type": "stream",
       "stream": "stdout",
       "text": [
        "\r",
        "Page 191 - 34 results found"
       ]
      },
      {
       "output_type": "stream",
       "stream": "stdout",
       "text": [
        "\r",
        "Page 192 - 34 results found"
       ]
      },
      {
       "output_type": "stream",
       "stream": "stdout",
       "text": [
        "\r",
        "Page 193 - 34 results found"
       ]
      },
      {
       "output_type": "stream",
       "stream": "stdout",
       "text": [
        "\r",
        "Page 194 - 34 results found"
       ]
      },
      {
       "output_type": "stream",
       "stream": "stdout",
       "text": [
        "\r",
        "Page 195 - 34 results found"
       ]
      },
      {
       "output_type": "stream",
       "stream": "stdout",
       "text": [
        "\r",
        "Page 196 - 34 results found"
       ]
      },
      {
       "output_type": "stream",
       "stream": "stdout",
       "text": [
        "\r",
        "Page 197 - 34 results found"
       ]
      },
      {
       "output_type": "stream",
       "stream": "stdout",
       "text": [
        "\r",
        "Page 198 - 34 results found"
       ]
      },
      {
       "output_type": "stream",
       "stream": "stdout",
       "text": [
        "\r",
        "Page 199 - 34 results found"
       ]
      },
      {
       "output_type": "stream",
       "stream": "stdout",
       "text": [
        "\r",
        "Page 200 - 34 results found"
       ]
      },
      {
       "output_type": "stream",
       "stream": "stdout",
       "text": [
        "\r",
        "Page 201 - 34 results found"
       ]
      },
      {
       "output_type": "stream",
       "stream": "stdout",
       "text": [
        "\r",
        "Page 202 - 35 results found"
       ]
      },
      {
       "output_type": "stream",
       "stream": "stdout",
       "text": [
        "\r",
        "Page 203 - 35 results found"
       ]
      },
      {
       "output_type": "stream",
       "stream": "stdout",
       "text": [
        "\r",
        "Page 204 - 35 results found"
       ]
      },
      {
       "output_type": "stream",
       "stream": "stdout",
       "text": [
        "\r",
        "Page 205 - 36 results found"
       ]
      },
      {
       "output_type": "stream",
       "stream": "stdout",
       "text": [
        "\r",
        "Page 206 - 36 results found"
       ]
      },
      {
       "output_type": "stream",
       "stream": "stdout",
       "text": [
        "\r",
        "Page 207 - 36 results found"
       ]
      },
      {
       "output_type": "stream",
       "stream": "stdout",
       "text": [
        "\r",
        "Page 208 - 36 results found"
       ]
      },
      {
       "output_type": "stream",
       "stream": "stdout",
       "text": [
        "\r",
        "Page 209 - 36 results found"
       ]
      },
      {
       "output_type": "stream",
       "stream": "stdout",
       "text": [
        "\r",
        "Page 210 - 36 results found"
       ]
      },
      {
       "output_type": "stream",
       "stream": "stdout",
       "text": [
        "\r",
        "Page 211 - 36 results found"
       ]
      },
      {
       "output_type": "stream",
       "stream": "stdout",
       "text": [
        "\r",
        "Page 212 - 36 results found"
       ]
      },
      {
       "output_type": "stream",
       "stream": "stdout",
       "text": [
        "\r",
        "Page 213 - 36 results found"
       ]
      },
      {
       "output_type": "stream",
       "stream": "stdout",
       "text": [
        "\r",
        "Page 214 - 36 results found"
       ]
      },
      {
       "output_type": "stream",
       "stream": "stdout",
       "text": [
        "\r",
        "Page 215 - 36 results found"
       ]
      },
      {
       "output_type": "stream",
       "stream": "stdout",
       "text": [
        "\r",
        "Page 216 - 37 results found"
       ]
      },
      {
       "output_type": "stream",
       "stream": "stdout",
       "text": [
        "\r",
        "Page 217 - 38 results found"
       ]
      },
      {
       "output_type": "stream",
       "stream": "stdout",
       "text": [
        "\r",
        "Page 218 - 38 results found"
       ]
      },
      {
       "output_type": "stream",
       "stream": "stdout",
       "text": [
        "\r",
        "Page 219 - 38 results found"
       ]
      },
      {
       "output_type": "stream",
       "stream": "stdout",
       "text": [
        "\r",
        "Page 220 - 39 results found"
       ]
      },
      {
       "output_type": "stream",
       "stream": "stdout",
       "text": [
        "\r",
        "Page 221 - 39 results found"
       ]
      },
      {
       "output_type": "stream",
       "stream": "stdout",
       "text": [
        "\r",
        "Page 222 - 39 results found"
       ]
      },
      {
       "output_type": "stream",
       "stream": "stdout",
       "text": [
        "\r",
        "Page 223 - 39 results found"
       ]
      },
      {
       "output_type": "stream",
       "stream": "stdout",
       "text": [
        "\r",
        "Page 224 - 39 results found"
       ]
      },
      {
       "output_type": "stream",
       "stream": "stdout",
       "text": [
        "\r",
        "Page 225 - 40 results found"
       ]
      },
      {
       "output_type": "stream",
       "stream": "stdout",
       "text": [
        "\r",
        "Page 226 - 42 results found"
       ]
      },
      {
       "output_type": "stream",
       "stream": "stdout",
       "text": [
        "\r",
        "Page 227 - 42 results found"
       ]
      },
      {
       "output_type": "stream",
       "stream": "stdout",
       "text": [
        "\r",
        "Page 228 - 42 results found"
       ]
      },
      {
       "output_type": "stream",
       "stream": "stdout",
       "text": [
        "\r",
        "Page 229 - 43 results found"
       ]
      },
      {
       "output_type": "stream",
       "stream": "stdout",
       "text": [
        "\r",
        "Page 230 - 43 results found"
       ]
      },
      {
       "output_type": "stream",
       "stream": "stdout",
       "text": [
        "\r",
        "Page 231 - 43 results found"
       ]
      },
      {
       "output_type": "stream",
       "stream": "stdout",
       "text": [
        "\r",
        "Page 232 - 43 results found"
       ]
      },
      {
       "output_type": "stream",
       "stream": "stdout",
       "text": [
        "\r",
        "Page 233 - 43 results found"
       ]
      },
      {
       "output_type": "stream",
       "stream": "stdout",
       "text": [
        "\r",
        "Page 234 - 43 results found"
       ]
      },
      {
       "output_type": "stream",
       "stream": "stdout",
       "text": [
        "\r",
        "Page 235 - 43 results found"
       ]
      },
      {
       "output_type": "stream",
       "stream": "stdout",
       "text": [
        "\r",
        "Page 236 - 43 results found"
       ]
      },
      {
       "output_type": "stream",
       "stream": "stdout",
       "text": [
        "\r",
        "Page 237 - 45 results found"
       ]
      },
      {
       "output_type": "stream",
       "stream": "stdout",
       "text": [
        "\r",
        "Page 238 - 46 results found"
       ]
      },
      {
       "output_type": "stream",
       "stream": "stdout",
       "text": [
        "\r",
        "Page 239 - 46 results found"
       ]
      },
      {
       "output_type": "stream",
       "stream": "stdout",
       "text": [
        "\r",
        "Page 240 - 47 results found"
       ]
      },
      {
       "output_type": "stream",
       "stream": "stdout",
       "text": [
        "\r",
        "Page 241 - 47 results found"
       ]
      },
      {
       "output_type": "stream",
       "stream": "stdout",
       "text": [
        "\r",
        "Page 242 - 47 results found"
       ]
      },
      {
       "output_type": "stream",
       "stream": "stdout",
       "text": [
        "\r",
        "Page 243 - 48 results found"
       ]
      },
      {
       "output_type": "stream",
       "stream": "stdout",
       "text": [
        "\r",
        "Page 244 - 49 results found"
       ]
      },
      {
       "output_type": "stream",
       "stream": "stdout",
       "text": [
        "\r",
        "Page 245 - 49 results found"
       ]
      },
      {
       "output_type": "stream",
       "stream": "stdout",
       "text": [
        "\r",
        "Page 246 - 49 results found"
       ]
      },
      {
       "output_type": "stream",
       "stream": "stdout",
       "text": [
        "\r",
        "Page 247 - 49 results found"
       ]
      },
      {
       "output_type": "stream",
       "stream": "stdout",
       "text": [
        "\r",
        "Page 248 - 49 results found"
       ]
      },
      {
       "output_type": "stream",
       "stream": "stdout",
       "text": [
        "\r",
        "Page 249 - 50 results found"
       ]
      }
     ],
     "prompt_number": 15
    },
    {
     "cell_type": "code",
     "collapsed": true,
     "input": [
      "html = ''\n",
      "for media in results:\n",
      "    html += html_small%media.images['standard_resolution'].url\n",
      "    try:\n",
      "        html += \"<li>Caption: %s</li>\"%media.caption.text\n",
      "        html += \"<li>Date: %s</li>\"%media.created_time\n",
      "        html += '''<li>Media: <a href=\"%s\">Media</a></li>'''%media.link\n",
      "        html += '''<a href=\"http://www.iconosquare.com/%s\">%s</a></br>'''%(media.user.username, media.user.username)\n",
      "    except:\n",
      "        pass\n",
      "HTML(html)\n"
     ],
     "language": "python",
     "metadata": {},
     "outputs": [
      {
       "html": [
        "<img src=http://scontent-b.cdninstagram.com/hphotos-xaf1/t51.2885-15/e15/10903732_619065561559311_1988596082_n.jpg width=\"200\" /><li>Caption: 24wk Twins. Guess you could say things are getting pretty serious. #twins #doublethefun #pregnant #pregnancy #boygirltwins</li><li>Date: 2015-01-22 20:58:51</li><li>Media: <a href=\"http://instagram.com/p/yK6VSCDSxx/\">Media</a></li><a href=\"http://www.iconosquare.com/surrahsurrah29\">surrahsurrah29</a></br><img src=http://scontent-a.cdninstagram.com/hphotos-xaf1/t51.2885-15/e15/10919166_769758163108135_106429096_n.jpg width=\"200\" /><li>Caption: 84 sleeps but who's counting?! #pregnancy #twins #countdown \n",
        "#sleeplessalready</li><li>Date: 2015-01-22 20:41:17</li><li>Media: <a href=\"http://instagram.com/p/yK4UlxvTtp/\">Media</a></li><a href=\"http://www.iconosquare.com/breannabedor\">breannabedor</a></br><img src=http://scontent-b.cdninstagram.com/hphotos-xaf1/t51.2885-15/e15/10919490_1047125701971658_1458010946_n.jpg width=\"200\" /><li>Caption: #kidsroom#kids#babyroom#baby#toddler#toddlerroom#kidsdecor#nurserydecor#babydecor#decoration#dekor#kidsspace#traditionalhome#elledecor#housebeautiful#interiors#interior#interiordesign#houzz#luxury#bebe#instababy#instamoms#family#bedroom#window#cocukodasi#interiores#twins#pregnant</li><li>Date: 2015-01-22 19:50:46</li><li>Media: <a href=\"http://instagram.com/p/yKyim9GEtc/\">Media</a></li><a href=\"http://www.iconosquare.com/happykidsdecor\">happykidsdecor</a></br><img src=http://scontent-b.cdninstagram.com/hphotos-xaf1/t51.2885-15/e15/10949079_789988421037677_562754307_n.jpg width=\"200\" /><li>Caption: #tbt The bottom right (Bo with beaters) was 4 years ago. The other 3 were 3 years ago. Where did my babies go?!? Crazy that 6 years ago today was when Clara and Anna were transferred (AKA I became pregnant for all the IVF novices...). #twins #ivf #growingtoofast</li><li>Date: 2015-01-22 19:38:28</li><li>Media: <a href=\"http://instagram.com/p/yKxIhPmZ1L/\">Media</a></li><a href=\"http://www.iconosquare.com/jweitl5\">jweitl5</a></br><img src=http://scontent-b.cdninstagram.com/hphotos-xfa1/t51.2885-15/e15/10946660_935880393091182_1153839731_n.jpg width=\"200\" /><li>Caption: Wow how time flies. #9months #baby #twins #pregnant #babyboy #babygirl #gjtwins #nicu #preemie no more #family #mommylife</li><li>Date: 2015-01-22 19:36:41</li><li>Media: <a href=\"http://instagram.com/p/yKw7gsI3Ij/\">Media</a></li><a href=\"http://www.iconosquare.com/mommatyty\">mommatyty</a></br><img src=http://scontent-a.cdninstagram.com/hphotos-xaf1/t51.2885-15/e15/10914366_709146655850143_1129943960_n.jpg width=\"200\" /><li>Caption: #twins what a odd movie #arnoldschwartzenegger #dannydevito #ifmencouldgetpregnant</li><li>Date: 2015-01-22 19:34:24</li><li>Media: <a href=\"http://instagram.com/p/yKwq0BJy0l/\">Media</a></li><a href=\"http://www.iconosquare.com/movie_obsession_\">movie_obsession_</a></br><img src=http://scontent-b.cdninstagram.com/hphotos-xpa1/t51.2885-15/e15/10755962_1610508005838658_94326272_n.jpg width=\"200\" /><li>Caption: #tbt  pregnant with the #twins</li><li>Date: 2015-01-22 18:58:38</li><li>Media: <a href=\"http://instagram.com/p/yKsky7KE1S/\">Media</a></li><a href=\"http://www.iconosquare.com/mzsktlz\">mzsktlz</a></br><img src=http://scontent-a.cdninstagram.com/hphotos-xaf1/t51.2885-15/e15/10903455_1548868005361743_1607587457_n.jpg width=\"200\" /><li>Caption: #Tbt love my kids but don't miss the big belly lol #pregnancy #twins #aches @pregnancymag</li><li>Date: 2015-01-22 18:57:48</li><li>Media: <a href=\"http://instagram.com/p/yKset3sD-J/\">Media</a></li><a href=\"http://www.iconosquare.com/garcelle\">garcelle</a></br><img src=http://scontent-a.cdninstagram.com/hphotos-xfa1/t51.2885-15/e15/10919549_1010765558951999_1834540325_n.jpg width=\"200\" /><li>Caption: Mommy+daddy+bump\ud83d\udc6a featuring: @moniqueandreina\ud83d\udc9e this lovely couple at their baby shower\ud83d\udc9a she was pregnant with #twinboys\ud83d\udc99\ud83d\udc76\ud83d\udc76 You are extremely blessed mama! #maternity #miracle #momtobe #mommasboy #babyboy #babybump #roundbelly #preggo #pregnant #pregnancy #mommydaddybump #familyphoto #twins #twinmom #pregnantwithtwins #_theartofpregnancy</li><li>Date: 2015-01-22 18:36:06</li><li>Media: <a href=\"http://instagram.com/p/yKp_t9Q2J4/\">Media</a></li><a href=\"http://www.iconosquare.com/_theartofpregnancy\">_theartofpregnancy</a></br><img src=http://scontent-a.cdninstagram.com/hphotos-xfa1/t51.2885-15/e15/10914167_796746500418351_1607775634_n.jpg width=\"200\" /><li>Caption: #TBT \ud83d\udc40 HOLY MOTHER of BELLY!!!! .... and I still had SIX WEEKS left to bake! Today, come share those beautiful bellies of yours on our FB pg!!!! Now, call me crazy but I miss my belly SO MUCH! \n",
        "One thing I DON'T miss about it was how it left me with a closet full of clothes that didn't fit me, and a body I wasn't used to seeing in the mirror. \n",
        "Stay tuned this weekend as I start taking the first official steps at bettering myself \"MIND, BODY, and SOUL.\" I look forward to sharing and hope to inspire! It's just one more part of our \"New Year, New Start!\" #preggobelly #twinpregnancy #bedrest  #twinmommy101 #pregnancyisbeautiful #twinbump #twins #twinning #pregnancy #babybump</li><li>Date: 2015-01-22 17:53:31</li><li>Media: <a href=\"http://instagram.com/p/yKlHzagP7e/\">Media</a></li><a href=\"http://www.iconosquare.com/twnmommy101\">twnmommy101</a></br><img src=http://scontent-b.cdninstagram.com/hphotos-xfa1/t51.2885-15/e15/10946510_1534120886836096_499256510_n.jpg width=\"200\" /><li>Caption: #tbt #me #pregnant with #twins. The longest 35 weeks of my life! Lol! #naturalhair #kinkycurls</li><li>Date: 2015-01-22 17:03:32</li><li>Media: <a href=\"http://instagram.com/p/yKfZ1MxRdy/\">Media</a></li><a href=\"http://www.iconosquare.com/lady_tcarter\">lady_tcarter</a></br><img src=http://scontent-a.cdninstagram.com/hphotos-xaf1/t51.2885-15/e15/10919284_194215757415780_1462315505_n.jpg width=\"200\" /><li>Caption: When my sister is pregnant, everyone is pregnant... \ud83d\udc76 \ud83c\udf7c #pregnant #munchies #twins #igers #sanfrancisco #scruff #dontmesswithourchili #food #coma</li><li>Date: 2015-01-22 17:00:34</li><li>Media: <a href=\"http://instagram.com/p/yKfECtTYnO/\">Media</a></li><a href=\"http://www.iconosquare.com/gabesies\">gabesies</a></br><img src=http://scontent-a.cdninstagram.com/hphotos-xfa1/t51.2885-15/e15/10949072_1380462658928886_1069899354_n.jpg width=\"200\" /><li>Caption: Repost of repost of repost cause I love this ...my daddy and I when I was preggers with my boy\ud83d\udc9a\ud83d\udc9a\ud83d\udc9a and him back in the day #tbt #og #ilovemydad #thatbelly #twins \ud83d\ude06</li><li>Date: 2015-01-22 16:14:11</li><li>Media: <a href=\"http://instagram.com/p/yKZwXKJKFk/\">Media</a></li><a href=\"http://www.iconosquare.com/feemyoh\">feemyoh</a></br><img src=http://scontent-a.cdninstagram.com/hphotos-xaf1/t51.2885-15/e15/10903606_364729560318529_727409424_n.jpg width=\"200\" /><li>Caption: Ikreim \u2764\ud83d\udc76\ud83d\udc76\u2764 #twins #mik #32weekspregnant #myboys #mik_baba #waitingforyouliloliver</li><li>Date: 2015-01-22 15:41:37</li><li>Media: <a href=\"http://instagram.com/p/yKWB1LClG9/\">Media</a></li><a href=\"http://www.iconosquare.com/judyart_sze\">judyart_sze</a></br><img src=http://scontent-b.cdninstagram.com/hphotos-xaf1/t51.2885-15/e15/10950640_819657601427722_1082264407_n.jpg width=\"200\" /><li>Caption: New post up on my #blog today - how we're staying cosy this winter! http://lovefromleyla.com Hope you're having a lovely day xxx #family #twins #boygirltwins #pregnantwithtwins #toddler #children #activities</li><li>Date: 2015-01-22 15:41:37</li><li>Media: <a href=\"http://instagram.com/p/yKWBvdOKbb/\">Media</a></li><a href=\"http://www.iconosquare.com/lovefromleyla\">lovefromleyla</a></br><img src=http://scontent-b.cdninstagram.com/hphotos-xfa1/t51.2885-15/e15/10932428_317141448480904_1449608570_n.jpg width=\"200\" /><li>Caption: #tbt Me at 6 months with the twins. I still had 2 months more to go. You can use your imagination on that one. Do I look done? Cause I was done. #twins #pregnant #theyareluckytheyrecute #bikinidaysareover #worthit</li><li>Date: 2015-01-22 15:39:15</li><li>Media: <a href=\"http://instagram.com/p/yKVwgjDxa6/\">Media</a></li><a href=\"http://www.iconosquare.com/gnsleepsite\">gnsleepsite</a></br><img src=http://scontent-a.cdninstagram.com/hphotos-xfa1/t51.2885-15/e15/10914245_1529342840668448_907082659_n.jpg width=\"200\" /><li>Caption: \u00a137 semanas! \u2764\ufe0f\u2764\ufe0f\ud83d\udc76\ud83d\udc76 #37weeks #pregnantwithtwins #twinpregnancy #twinmom #boygirltwins #girlboytwins #sofiyleomtzdelvalle #leoysofimtzdelvalle #twins #fraternaltwins #cuates #3ertrimestre #yacasi #csection #blessed #thankful</li><li>Date: 2015-01-22 15:04:49</li><li>Media: <a href=\"http://instagram.com/p/yKR0ToG4gg/\">Media</a></li><a href=\"http://www.iconosquare.com/verodelvalle\">verodelvalle</a></br><img src=http://scontent-a.cdninstagram.com/hphotos-xfa1/t51.2885-15/e15/10932065_318302288368206_1365104421_n.jpg width=\"200\" /><li>Caption: Ok we need your help/advice!!This is the first MOM SHARE of the year! DM me for your share today! \u2764\ufe0f #twinmommy101 #mommyproblems #pregnancyquestion #advice #goodmorning #twinlife #twins #momshare #twinblog</li><li>Date: 2015-01-22 14:45:45</li><li>Media: <a href=\"http://instagram.com/p/yKPolxgP6J/\">Media</a></li><a href=\"http://www.iconosquare.com/twnmommy101\">twnmommy101</a></br><img src=http://scontent-b.cdninstagram.com/hphotos-xfp1/t51.2885-15/e15/10547247_319898344866253_541869224_n.jpg width=\"200\" /><li>Caption: Cofrinhos fofos...R$31,00 cada.\n",
        "Or\u00e7amentos e pedidos pelo email atelier@rosariacunha.com.br\n",
        "site:www.rosariacunha.com.br \n",
        "Tel (11) 3088 17 02\n",
        "Whats app (11) \n",
        "96640 77 95\n",
        "Skype rosaria219\n",
        "#rosariacunhabebe#rosariacunha #enfeitedematernidade #quadrodamaternidade #quadrodaportadamaternidadel #lembrancinha #gift #specialgift #handmade #family #fam\u00edlia #maternidade #maternity #baby #specialbaby #pregnant #mom #decor #roomdecor #ursodemacaneta #ursodeporta #protetordeporta #lembrancinha #twins #g\u00eameos #pinterest</li><li>Date: 2015-01-22 14:17:16</li><li>Media: <a href=\"http://instagram.com/p/yKMYC7m4RS/\">Media</a></li><a href=\"http://www.iconosquare.com/rosariacunhabebe\">rosariacunhabebe</a></br><img src=http://scontent-a.cdninstagram.com/hphotos-xaf1/t51.2885-15/e15/10914577_752539054840617_66314073_n.jpg width=\"200\" /><li>Caption: Tried to have these two sleeping together since they are never really close. They slapped the heads of each other. I forgot that's why they don't sleep together. #twins #twinsies #twingirls #twinpregnancy #premature #newborntwins #newborn #babies #vsco #vscocam #iphoneonly</li><li>Date: 2015-01-22 14:04:17</li><li>Media: <a href=\"http://instagram.com/p/yKK481myhy/\">Media</a></li><a href=\"http://www.iconosquare.com/little_m.e\">little_m.e</a></br><img src=http://scontent-b.cdninstagram.com/hphotos-xaf1/t51.2885-15/e15/10932057_710929999020188_1278502561_n.jpg width=\"200\" /><li>Caption: #pregnant #sister #twins #family #loveit</li><li>Date: 2015-01-22 14:00:43</li><li>Media: <a href=\"http://instagram.com/p/yKKe0WTVPo/\">Media</a></li><a href=\"http://www.iconosquare.com/filiplibor.doskocil\">filiplibor.doskocil</a></br><img src=http://scontent-b.cdninstagram.com/hphotos-xaf1/t51.2885-15/e15/10899375_776823135700918_537291477_n.jpg width=\"200\" /><li>Caption: How do you show a #prego #love?  #mmm #bacon #eggs #grits #biscuit good thing I've got #twins in there to help me out.</li><li>Date: 2015-01-22 13:48:18</li><li>Media: <a href=\"http://instagram.com/p/yKJD3sg1ps/\">Media</a></li><a href=\"http://www.iconosquare.com/vera_carter\">vera_carter</a></br><img src=http://scontent-a.cdninstagram.com/hphotos-xaf1/t51.2885-15/e15/10948309_882619991802928_1785485806_n.jpg width=\"200\" /><li>Caption: This handsome little 'phant will be featured in our modern safari twin nursery.. Check out more twin nursery plans on the blog today! #Kapama #SouthAfricaAtHome #twins #twinpregnancy #twinnursery</li><li>Date: 2015-01-22 13:29:27</li><li>Media: <a href=\"http://instagram.com/p/yKG51rxc0k/\">Media</a></li><a href=\"http://www.iconosquare.com/myunplannedplan\">myunplannedplan</a></br><img src=http://scontent-a.cdninstagram.com/hphotos-xaf1/t51.2885-15/e15/10895478_907760532597985_108026020_n.jpg width=\"200\" /><li>Caption: TWIN B- this ones shy and hides behind their hands x looking on the monitor head on they look like my husband so much. Adorable x back next week for another scan - so in love ! X #twin #twins #twinmummy #twinning #twinscooking #twinstagram #twinscooking #twinsonboard #ivf #ivftwins #ivfbabies #ultrasound #teamhill #twinpregnancy</li><li>Date: 2015-01-22 13:22:19</li><li>Media: <a href=\"http://instagram.com/p/yKGFjKFU85/\">Media</a></li><a href=\"http://www.iconosquare.com/kickstartbabies\">kickstartbabies</a></br><img src=http://scontent-a.cdninstagram.com/hphotos-xfa1/t51.2885-15/e15/10948904_1395658814070421_10271571_n.jpg width=\"200\" /><li>Caption: TWIN A has half up across forehead like a drama queen /king. The funny shape in front of face is something to do with cord. Look at the chunky bum and legs?! Naughty! X all well but being scanned every week now x growth scan pulled from 12th feb to 5th x in love ! X #twin #twins #twinmummy #twinning #twinscooking #twinstagram #twinscooking #twinsonboard #ivf #ivftwins #ivfbabies #ultrasound #teamhill #twinpregnancy #twinA</li><li>Date: 2015-01-22 13:20:24</li><li>Media: <a href=\"http://instagram.com/p/yKF3halU8k/\">Media</a></li><a href=\"http://www.iconosquare.com/kickstartbabies\">kickstartbabies</a></br><img src=http://scontent-a.cdninstagram.com/hphotos-xaf1/t51.2885-15/e15/10895422_590270961116568_419007653_n.jpg width=\"200\" /><li>Caption: #elprego#twins#twinpregnancy#20weeks#boys#happycamper \ud83d\udc99\ud83d\udc99\ud83d\udc76\ud83d\udc76</li><li>Date: 2015-01-22 13:16:17</li><li>Media: <a href=\"http://instagram.com/p/yKFZZsx9vD/\">Media</a></li><a href=\"http://www.iconosquare.com/kie83\">kie83</a></br><img src=http://scontent-a.cdninstagram.com/hphotos-xaf1/t51.2885-15/e15/10919155_1554737478077059_1316085442_n.jpg width=\"200\" /><li>Caption: A year ago this week, we found out we were pregnant...but it'd be another month before we knew it was TWINS!! We didn't find out their genders until birth, and while I was pregnant we  nicknamed them \"Mac\" & \"Cheese\"!</li><li>Date: 2015-01-22 12:40:31</li><li>Media: <a href=\"http://instagram.com/p/yKBTZMndb0/\">Media</a></li><a href=\"http://www.iconosquare.com/steph_samuel\">steph_samuel</a></br><img src=http://scontent-a.cdninstagram.com/hphotos-xfa1/t51.2885-15/e15/10914644_779690488784421_1633390908_n.jpg width=\"200\" /><li>Caption: I have to say, these babies adore me! They lov Aunty Natalie! Had my head on Emily's tummy and they kicked my ear! Over and over! Zak caught a few kicks too! So incredible oh my goodness ! This is us giggling at our photos ! #sisters #pregnant #TWINS #qualitytime #whereismypuffer #dontleave!</li><li>Date: 2015-01-22 12:30:20</li><li>Media: <a href=\"http://instagram.com/p/yKAI1jjhnU/\">Media</a></li><a href=\"http://www.iconosquare.com/nattta\">nattta</a></br><img src=http://scontent-b.cdninstagram.com/hphotos-xaf1/t51.2885-15/e15/10948651_922010874509657_483451908_n.jpg width=\"200\" /><li>Caption: C\u00f3reczki \u2661\u2661\u2661 #znamy #p\u0142e\u0107 #c\u00f3reczki #bli\u017aniaki #daughters #little #princesses #pregnant #pregnancy #16week #twins #twinstagram #beautifulday #happy</li><li>Date: 2015-01-22 11:22:31</li><li>Media: <a href=\"http://instagram.com/p/yJ4YFgNs1W/\">Media</a></li><a href=\"http://www.iconosquare.com/swiat.golikow\">swiat.golikow</a></br><img src=http://scontent-a.cdninstagram.com/hphotos-xaf1/t51.2885-15/e15/10919245_430781103753548_1842247422_n.jpg width=\"200\" /><li>Caption: 2 days before giving birth... I was so huge \ud83d\ude31\ud83d\ude31 #tbt #throwbackthursday #34SA #twins #pregnancy #hugebelly</li><li>Date: 2015-01-22 09:49:29</li><li>Media: <a href=\"http://instagram.com/p/yJtutkC7G0/\">Media</a></li><a href=\"http://www.iconosquare.com/mona_and_cie\">mona_and_cie</a></br><img src=http://scontent-a.cdninstagram.com/hphotos-xaf1/t51.2885-15/e15/10946673_1001101479918730_1356683430_n.jpg width=\"200\" /><li>Caption: Congratulations to Sibet! This beautiful lady just gave birth to Two gorgeous Twin Girls!  She stayed committed to her Herbalife Nutritional Program and only gain 45lb of healthy weight! \n",
        "Pregnancy shouldn't be an excuse to stop exercising or eating right!  Pregnancy is a time to be more focus on what you eat and do!  Working out 30 minutes daily also helps greatly with delivery time!  If she can do it,  so can you! \n",
        "Congratulations Sibet (@lovesibet) on your beautiful baby girls! \ud83d\udc99\ud83d\udc9a\ud83d\udc9b\ud83d\udc9c Your very motivating and inspiring!  When I first saw you in person I was amazed,  and motivated so that when the day I become blessed,  I'd be fit as yourself! Congratulations Beautiful! \ud83c\udf89\ud83c\udf89\ud83c\udf89\ud83c\udf89\ud83c\udf89\ud83c\udf89\ud83c\udf89\ud83c\udf89\ud83c\udf89\ud83c\udf89\ud83c\udf89\ud83c\udf89\ud83c\udf89\ud83c\udf89 Contact me at HerbalifeNutritionAndFitness@gmail.com\n",
        "To get started or to learn more about the Herbalife Products; and my other services! \n",
        "Feel free to text me or leave me a voicemail\u00a0 at (562)567-3348.\n",
        "\n",
        "Don't forget to visit my Herbalife\u00a0 website so you can learn more about the products,\u00a0 learn more about the business,\u00a0 and also purchase your products online directly! \n",
        "www.goherbalife.com/missmarilynn \ud83c\udf8a\ud83c\udf8a\ud83c\udf8a\ud83c\udf8a\ud83c\udf8a\ud83c\udf8a\ud83c\udf8a\ud83c\udf8a\ud83c\udf8a\ud83c\udf8a\ud83c\udf8a\ud83c\udf8a\ud83c\udf8a\ud83c\udf8a #Herbalife #HerbalifeFitMoms #mom #FitMama #SexyMom #HerbaFitMom #Fit #Fitness #Healthy #HealthyNutrition #HerbalifeDiet\n",
        "#Happy #Results #HerbaGoodness  #HealthCoach #PersonalCoach #NoExcuses #DontGiveUp #LeanOut #FitMom #Motivation #Consistency #Strong  #WeightLoss #HealthyPregnancy #Preggo #Postpartum #TwinGirls #Twins #HerbaResults</li><li>Date: 2015-01-22 08:34:20</li><li>Media: <a href=\"http://instagram.com/p/yJlIQHlkZB/\">Media</a></li><a href=\"http://www.iconosquare.com/healthcoachmarilynn\">healthcoachmarilynn</a></br><img src=http://scontent-a.cdninstagram.com/hphotos-xaf1/t51.2885-15/e15/10948734_910934722271805_1527118645_n.jpg width=\"200\" /><li>Caption: Hey all you glowing mamas-to-be!! Did you know ItWorks! Has tons of products to keep you and your little one(s) healthy during pregnancy? Our stretch mark cream will help your skin elasticity to prevent new marks and diminish old ones! Or try our greens and get your full servings of fruits and veggies for the day! Those are my two favorites \ud83d\ude18 call/text Celsey 435.232.0745 to get 40% off your order! www.creagerwraps.myitworksshare.com #pregnant #pregnancy #20weeks #firsttimemom #bunintheoven #glowing #skincare #healthy #esthetician #mama #cosmetologist #safe #smile #love #baby #babies #nomnomnom #hormones #wife #husband #mommystatus #daddystatus #bigbrother #bigsister #genderreveal #itsaboy #itsagirl #twins</li><li>Date: 2015-01-22 07:45:33</li><li>Media: <a href=\"http://instagram.com/p/yJfi-aCZPb/\">Media</a></li><a href=\"http://www.iconosquare.com/creagerwraps2015\">creagerwraps2015</a></br><img src=http://scontent-a.cdninstagram.com/hphotos-xaf1/t51.2885-15/e15/10895454_869697306429606_1846226041_n.jpg width=\"200\" /><li>Caption: Well, if the crown fits....\n",
        "https://www.etsy.com/listing/216310627/wall-decal-princess-baby-girl-name-crown\n",
        "#ifthecrownfits#princess#personalized#walldecal#babygirl#nurserydecor#pregnant#twins#baby#tiarra#littlegirls#bedroom#wallsticker#graphics#mygirl#stars</li><li>Date: 2015-01-22 06:06:15</li><li>Media: <a href=\"http://instagram.com/p/yJULuavf5K/\">Media</a></li><a href=\"http://www.iconosquare.com/allonthewallvinyl\">allonthewallvinyl</a></br><img src=http://scontent-a.cdninstagram.com/hphotos-xaf1/t51.2885-15/e15/10919074_731572953623648_692043693_n.jpg width=\"200\" /><li>Caption: Happy Woman Crush Wendesday! \ud83d\udcaa \ud83d\ude0d Today's #wcw goes to the sexy\"mama! \" Sibet! She had proper nutrition and went to the gym during pregnancy and babies are beautiful and healthy!  No they are not mine, but she just gave birth last week and is already looking fine! Lol Get fit now message me to learn how! \ud83d\udc5e kik : herbamike #herbalife #herbamike #herbalife24 #teamsexyfit #teamherbalife #twins #twining #fitmom #weightloss #musclegain #generationh#humpday</li><li>Date: 2015-01-22 05:57:41</li><li>Media: <a href=\"http://instagram.com/p/yJTM_znPKu/\">Media</a></li><a href=\"http://www.iconosquare.com/herbamike\">herbamike</a></br><img src=http://scontent-a.cdninstagram.com/hphotos-xaf1/t51.2885-15/e15/10932234_411098045724496_2120806568_n.jpg width=\"200\" /><li>Caption: My babies\ud83d\ude0d #twins #sisters #puppylove #pitmix #pitbull #lab #blinddog #dogs #doglover #happiness #deployment #deploymentdog #deploymentpregnancy #milsos #milsostrength #goodnight</li><li>Date: 2015-01-22 04:05:56</li><li>Media: <a href=\"http://instagram.com/p/yJGacHFx07/\">Media</a></li><a href=\"http://www.iconosquare.com/olliebayy\">olliebayy</a></br><img src=http://scontent-a.cdninstagram.com/hphotos-xaf1/t51.2885-15/e15/10838776_1542151752710851_1008126223_n.jpg width=\"200\" /><li>Caption: Our little miracle babies are finally here!!! Breckton Michael was 6lbs7oz and Bella Monroe was 6lbs6oz. Born 1-19-15, six minutes apart, no c-section needed! We are so in love and so extremely blessed <3 #blessed #soinlove #boygirltwins #twins #twinlife #twinstagram #proudmomma #preggersnomore #theyarefinallyhere</li><li>Date: 2015-01-22 03:47:56</li><li>Media: <a href=\"http://instagram.com/p/yJEWkjqryx/\">Media</a></li><a href=\"http://www.iconosquare.com/julieohley\">julieohley</a></br><img src=http://scontent-a.cdninstagram.com/hphotos-xaf1/t51.2885-15/e15/10919713_814657705266008_1451447565_n.jpg width=\"200\" /><li>Caption: Another beautiful mom showing off her belly!! This beautiful mom is current 37weeks along with twins!!! Congratulations your almost there!!!! @itsmenene\n",
        "#37weeks #37wks #37weekspregnant #pregnant #pregnantwithtwins #twinbelly #twins #pregnancy #pregnantbelly #allbelly #babybelly #bellyshot #readytopop #anydaynow #9monthspregnant #9months #mommytobe #mommy2be</li><li>Date: 2015-01-22 02:45:53</li><li>Media: <a href=\"http://instagram.com/p/yI9QIQIH3b/\">Media</a></li><a href=\"http://www.iconosquare.com/soontobemommys\">soontobemommys</a></br><img src=http://scontent-a.cdninstagram.com/hphotos-xaf1/t51.2885-15/e15/10948668_421849967969068_844484159_n.jpg width=\"200\" /><li>Caption: A beautiful mom showing off her belly!! This mom is currently pregnant with twins who are due February 18th!! Congratulations your almost there!!! Twins are such a blessing!!! You look wonderful!!! @foreign.scorin \n",
        "#pregnant #preggo #prego #pregnantwithtwins #twins #twinbelly #pregnancy #pregnantbelly #allbelly #babybelly #mommytobe #mommy2be #readytopop</li><li>Date: 2015-01-22 02:40:52</li><li>Media: <a href=\"http://instagram.com/p/yI8rauIH2h/\">Media</a></li><a href=\"http://www.iconosquare.com/soontobemommys\">soontobemommys</a></br><img src=http://scontent-b.cdninstagram.com/hphotos-xaf1/t51.2885-15/e15/10932489_1539198293018253_375662293_n.jpg width=\"200\" /><li>Caption: I'm starting a new 90 challenge to help 5 more people transform their bodies to become more healthier and fit. I want to help you loose 15-25 pounds!! Visit my website at www.wrapforyoursuccess.com  #pregnant #preggie #preggers #prego #allbelly #bellyfat #gravid #expecting #mom #married #teenmom #momtobe #twins #boyorgirl #kik #expecting #babylove \n",
        "#daycare #schwange #unceinte #grossesse #babybump #bigbelly #pregnantbaby #babysmile #babyhealth #newborn #babyclothes \n",
        "#newlyparents #kik</li><li>Date: 2015-01-22 02:22:31</li><li>Media: <a href=\"http://instagram.com/p/yI6lC3FZLz/\">Media</a></li><a href=\"http://www.iconosquare.com/i_inspire_to_empower\">i_inspire_to_empower</a></br><img src=http://scontent-a.cdninstagram.com/hphotos-xfa1/t51.2885-15/e15/10919099_849837301769296_1255288990_n.jpg width=\"200\" /><li>Caption: My heart! #BrotherlyLove #twins #twinboys #TwinPregnancy #wteaug2013 #twinmommy #TwinBrothers #babies #twinmom #FraternalTwins #twinstagram #kisses</li><li>Date: 2015-01-22 02:00:19</li><li>Media: <a href=\"http://instagram.com/p/yI4CXEICO8/\">Media</a></li><a href=\"http://www.iconosquare.com/twinsmakes8\">twinsmakes8</a></br><img src=http://scontent-b.cdninstagram.com/hphotos-xfa1/t51.2885-15/e15/10919270_427452764087807_1957080723_n.jpg width=\"200\" /><li>Caption: #BBW Baby Bump Wednesday!! @bellaniema Brought the new year in with her beautiful babybump!! Happy Baby Bump Wednesday!!\n",
        "#babybumpwednesday #babybump #baby #preggo #bbbbabi #bebe #twins #embarazo #doula #diapers #trimester #birth #bottles #nursery #embarazo #ninemonths #childbirth #bottles #onesie #bbbdad #mommy #photo #motherhood #expecting #bbbmom #tinyfeet #midwife #birthbabyandbeyond #organic \ufeff</li><li>Date: 2015-01-22 01:56:31</li><li>Media: <a href=\"http://instagram.com/p/yI3migQ90W/\">Media</a></li><a href=\"http://www.iconosquare.com/birthbabyandbeyond\">birthbabyandbeyond</a></br><img src=http://scontent-b.cdninstagram.com/hphotos-xfa1/t51.2885-15/e15/10948730_379932565500552_1600371624_n.jpg width=\"200\" /><li>Caption: Stretch Mark Cream!! Order yours today!! #preggo #stretchmarks #pregnant #baby #twins #babyboy #babygirl</li><li>Date: 2015-01-22 01:54:11</li><li>Media: <a href=\"http://instagram.com/p/yI3Vfnn_bR/\">Media</a></li><a href=\"http://www.iconosquare.com/cynthiadwraps\">cynthiadwraps</a></br><img src=http://scontent-b.cdninstagram.com/hphotos-xfa1/t51.2885-15/e15/10895213_911970908847732_1483190861_n.jpg width=\"200\" /><li>Caption: Peri is in the house!! #clothdiapers #applecheeks #periwinkle #twins #nesting #pregnancy @applecheeksdipe</li><li>Date: 2015-01-22 01:42:55</li><li>Media: <a href=\"http://instagram.com/p/yI2C7AvTgP/\">Media</a></li><a href=\"http://www.iconosquare.com/breannabedor\">breannabedor</a></br><img src=http://scontent-a.cdninstagram.com/hphotos-xfa1/t51.2885-15/e15/10914386_1382342552073422_1242835111_n.jpg width=\"200\" /><li>Caption: The lovely Tawna is making the first #BumpDay appearance of her second surrogacy journey!! She's 17 weeks with B/G TWINS and looks amazing! #BumpDay #AllThingsSurrogacy #Surrogacy #surrogate #pregnancy #twins</li><li>Date: 2015-01-22 01:08:22</li><li>Media: <a href=\"http://instagram.com/p/yIyF8ACVxk/\">Media</a></li><a href=\"http://www.iconosquare.com/allthingssurrogacy\">allthingssurrogacy</a></br><img src=http://scontent-a.cdninstagram.com/hphotos-xfa1/t51.2885-15/e15/10903403_402690643222684_1877606818_n.jpg width=\"200\" /><li>Caption: #vidademae #maedeg\u00eameos #gemelares #vidademaedegemeos #momblogger #socialmediamom #portaldosgemeos #instamom #bebes #nascer #ferias #nossaprimeiraviagem #praia #peruibe #litoralsp #brincadeiranaagua #nadar #brincadeiranaareia #summer #twins #olhopregui\u00e7oso #tamp\u00e3o \n",
        "Lucas precisa usar esse tamp\u00e3o no olho esquerdo durante algumas horas todos os dias. O olho direito dele tem o que chamam de \"olho pregui\u00e7oso\" ent\u00e3o ele precisa tampar o esquerdo para for\u00e7ar o olho direito e enxergar melhor. Bem resumidamente \u00e9 isso. Mas ele detesta claro, \u00f3bvio e bem compreens\u00edvel e hoje foi uma choradeira danada para colocar. \"M\u00e3e, voc\u00ea \u00e9 m\u00e1, malvada!\". Pois \u00e9...</li><li>Date: 2015-01-17 19:13:53</li><li>Media: <a href=\"http://instagram.com/p/x92WGuh_0G/\">Media</a></li><a href=\"http://www.iconosquare.com/portaldosgemeos\">portaldosgemeos</a></br><img src=http://scontent-a.cdninstagram.com/hphotos-xfa1/t51.2885-15/e15/10948682_1388053834834165_2016934679_n.jpg width=\"200\" /><li>Caption: I have had several requests to see my bump so here it is lol  #pregnant #16weeks4days #twins #boys</li><li>Date: 2015-01-22 01:05:08</li><li>Media: <a href=\"http://instagram.com/p/yIxuTOuSne/\">Media</a></li><a href=\"http://www.iconosquare.com/gingerrswaagg\">gingerrswaagg</a></br><img src=http://scontent-a.cdninstagram.com/hphotos-xfa1/t51.2885-15/e15/10948895_278690572255105_279394282_n.jpg width=\"200\" /><li>Caption: #halloween2014 #Daptwins #twins #babybump #lovemybump #babyboyandgirl #jbel20pregnancy #29weekspregnant #latepost</li><li>Date: 2015-01-22 00:56:18</li><li>Media: <a href=\"http://instagram.com/p/yIwtfIjITx/\">Media</a></li><a href=\"http://www.iconosquare.com/jbel20\">jbel20</a></br><img src=http://scontent-a.cdninstagram.com/hphotos-xfa1/t51.2885-15/e15/10903706_1619429214952301_294299197_n.jpg width=\"200\" /><li>Caption: Had this made in memory of our twinners for their Daddy... beautiful necklace made by bellescreativecrafts on Etsy... fly free my darlings. #miscarriage #twinloss #mamaof3angels #mamaoftwinangels #mommyofangels #fetalloss #babyloss #pregnancyloss #ttc #infertility #baby #twins #rip #inmemory #jewelry</li><li>Date: 2015-01-22 00:10:10</li><li>Media: <a href=\"http://instagram.com/p/yIrbpuyLBo/\">Media</a></li><a href=\"http://www.iconosquare.com/polkadotgiraffes\">polkadotgiraffes</a></br><img src=http://scontent-a.cdninstagram.com/hphotos-xaf1/t51.2885-15/e15/10895308_1402002216766436_1239824582_n.jpg width=\"200\" /><li>Caption: TWIN FACTS:\n",
        "Fraternal twins can run in families or be influenced by heredity.\n",
        "\n",
        "Fraternal twins occur when more than one egg is fertilized. Normally, one egg is released from the ovaries each month, but sometimes there is more than one. Some women release multiple eggs in every cycle, a condition called hyperovulation. Women who hyperovulate are more likely to have fraternal twins. A tendency towards hyperovulation can be a genetic trait. In this way, fraternal twinning can be\u00a0hereditary. A woman who has the gene for hyperovulation can pass it down to her daughter. Then the daughter's\u00a0chances of having twinsis increased. Because men carry both X (female) and Y (male) chromosomes, they can also hold the trait for hyperovulation and pass it along to their daughters, increasing their daughter's chances of having fraternal twins. However, having the gene for hyperovulation does not increase a man's chances of fathering fraternal twins. (Men carry the gene, but they don't ovulate!) That is why twins are sometimes assumed to \"skip a generation.\"\n",
        "#twinpregnancy #pregnancy #pregnant #pregnancyfacts #twinfacts #twins</li><li>Date: 2015-01-22 00:37:35</li><li>Media: <a href=\"http://instagram.com/p/yIukbkLkHf/\">Media</a></li><a href=\"http://www.iconosquare.com/maryjane_photoart\">maryjane_photoart</a></br><img src=http://scontent-a.cdninstagram.com/hphotos-xfa1/t51.2885-15/e15/10919072_363171570532544_481616407_n.jpg width=\"200\" /><li>Caption: Playing with dolls at our childbirth class. \ud83d\udc76\ud83d\udc76#practicingparents #parentstobe #twins #Daptwins #dolls #jbel20pregnancy #27weekspregnant #latepost</li><li>Date: 2015-01-22 00:15:59</li><li>Media: <a href=\"http://instagram.com/p/yIsGOlDIcK/\">Media</a></li><a href=\"http://www.iconosquare.com/jbel20\">jbel20</a></br>"
       ],
       "metadata": {},
       "output_type": "pyout",
       "prompt_number": 16,
       "text": [
        "<IPython.core.display.HTML at 0x7f736d4b9e10>"
       ]
      }
     ],
     "prompt_number": 16
    },
    {
     "cell_type": "heading",
     "level": 1,
     "metadata": {},
     "source": [
      "Scratchy"
     ]
    },
    {
     "cell_type": "code",
     "collapsed": false,
     "input": [],
     "language": "python",
     "metadata": {},
     "outputs": [],
     "prompt_number": 20
    },
    {
     "cell_type": "code",
     "collapsed": false,
     "input": [
      "type(media.caption.text)"
     ],
     "language": "python",
     "metadata": {},
     "outputs": [
      {
       "metadata": {},
       "output_type": "pyout",
       "prompt_number": 19,
       "text": [
        "unicode"
       ]
      }
     ],
     "prompt_number": 19
    },
    {
     "cell_type": "code",
     "collapsed": false,
     "input": [
      "res = paginate_tag_search(api, tag_search, 60)\n",
      "html = ''\n",
      "for media in res:\n",
      "    html += html_small%media.images['standard_resolution'].url\n",
      "    html += \"<li>Caption: %s</li>\"%media.caption\n",
      "HTML(html)"
     ],
     "language": "python",
     "metadata": {},
     "outputs": [
      {
       "output_type": "stream",
       "stream": "stdout",
       "text": [
        "so far this many:  20\n",
        "so far this many: "
       ]
      },
      {
       "output_type": "stream",
       "stream": "stdout",
       "text": [
        " 40\n"
       ]
      }
     ],
     "prompt_number": 79
    },
    {
     "cell_type": "code",
     "collapsed": false,
     "input": [
      "popular_media[0].tags\n",
      "popular_media[0].link\n",
      "popular_media[0].user.username"
     ],
     "language": "python",
     "metadata": {},
     "outputs": [
      {
       "output_type": "stream",
       "stream": "stdout",
       "text": [
        "Object `user` not found.\n"
       ]
      }
     ],
     "prompt_number": 18
    },
    {
     "cell_type": "code",
     "collapsed": false,
     "input": [
      "\n",
      "#get popular images feed\n",
      "popular_media = api.media_popular(count=40)\n",
      "\n",
      "#extract urls of popular images to a list\n",
      "photolist = []\n",
      "for media in popular_media:\n",
      "    photolist.append(media.images['standard_resolution'].url)\n",
      "\n",
      "print 'Top photos from Instagram'\n",
      "html = ''\n",
      "\n",
      "#show the original image thumbnail\n",
      "for p in photolist:\n",
      "    html = html + '<img src=' + p + ' width=\"150\" />'\n",
      "from IPython.core.display import HTML\n",
      "HTML(html)  "
     ],
     "language": "python",
     "metadata": {},
     "outputs": []
    },
    {
     "cell_type": "code",
     "collapsed": false,
     "input": [
      "type(popular_media[0].user)"
     ],
     "language": "python",
     "metadata": {},
     "outputs": [
      {
       "metadata": {},
       "output_type": "pyout",
       "prompt_number": 19,
       "text": [
        "instagram.models.User"
       ]
      }
     ],
     "prompt_number": 19
    },
    {
     "cell_type": "code",
     "collapsed": false,
     "input": [
      "xx = popular_media[0].link"
     ],
     "language": "python",
     "metadata": {},
     "outputs": [],
     "prompt_number": 27
    },
    {
     "cell_type": "code",
     "collapsed": false,
     "input": [
      "xx"
     ],
     "language": "python",
     "metadata": {},
     "outputs": [
      {
       "metadata": {},
       "output_type": "pyout",
       "prompt_number": 28,
       "text": [
        "'http://instagram.com/p/rsWGkair59/'"
       ]
      }
     ],
     "prompt_number": 28
    },
    {
     "cell_type": "code",
     "collapsed": false,
     "input": [
      "popular_media[2].images['standard_resolution'].url"
     ],
     "language": "python",
     "metadata": {},
     "outputs": [
      {
       "metadata": {},
       "output_type": "pyout",
       "prompt_number": 33,
       "text": [
        "'http://scontent-a.cdninstagram.com/hphotos-xap1/t51.2885-15/925359_300634780119745_43555722_n.jpg'"
       ]
      }
     ],
     "prompt_number": 33
    },
    {
     "cell_type": "code",
     "collapsed": false,
     "input": [
      "print api.x_ratelimit"
     ],
     "language": "python",
     "metadata": {},
     "outputs": [
      {
       "output_type": "stream",
       "stream": "stdout",
       "text": [
        "None\n"
       ]
      }
     ],
     "prompt_number": 7
    },
    {
     "cell_type": "code",
     "collapsed": false,
     "input": [],
     "language": "python",
     "metadata": {},
     "outputs": []
    }
   ],
   "metadata": {}
  }
 ]
}