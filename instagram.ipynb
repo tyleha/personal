{
 "metadata": {
  "name": "",
  "signature": "sha256:2630f7e92860c62ea2ce14a8c41bd462c2fa4130c1b5d5d8f92503a59075d65d"
 },
 "nbformat": 3,
 "nbformat_minor": 0,
 "worksheets": [
  {
   "cells": [
    {
     "cell_type": "code",
     "collapsed": false,
     "input": [
      "import instagram as ig\n",
      "import numpy as np\n",
      "import matplotlib.pyplot as plt\n",
      "import json \n",
      "from IPython.core.display import HTML\n",
      "import re\n",
      "import sys\n",
      "from __future__ import print_function\n",
      "\n",
      "import helpers"
     ],
     "language": "python",
     "metadata": {},
     "outputs": [],
     "prompt_number": 59
    },
    {
     "cell_type": "code",
     "collapsed": false,
     "input": [
      "def paginate_tag_search(api, tag_search, max_results=40):\n",
      "    results = []\n",
      "    \n",
      "    tag_recent_media, next = api.tag_recent_media(tag_name=tag_search[0].name)\n",
      "    results += tag_recent_media    \n",
      "    \n",
      "    while len(results) < max_results:\n",
      "        recs, next = api.tag_recent_media(tag_name=tag_search[0].name, with_next_url=next)\n",
      "        results += recs  \n",
      "        \n",
      "    return results\n",
      "\n",
      "\n",
      "def match_caption(media, pattern):\n",
      "    \"\"\"\n",
      "    :media: an instagram Media object\n",
      "    :pattern: a list of string patterns or a single string pattern\n",
      "    \n",
      "    :returns: bool\n",
      "    \"\"\"\n",
      "    if media.caption is None:\n",
      "        return False\n",
      "    \n",
      "    if (isinstance(pattern, list) or isinstance(pattern, tuple)):\n",
      "        for pat in pattern:\n",
      "            \n",
      "            if re.search(pat, media.caption.text.lower()):\n",
      "                return True\n",
      "    else:\n",
      "        if re.search(pattern, media.caption.text.lower()):\n",
      "            return True\n",
      "    return False\n",
      "\n",
      "\n",
      "def has_tag(media, tag):\n",
      "    \"\"\"\n",
      "    :media: an instagram Media object\n",
      "    :tag: a list of tags as stings or a single string tag\n",
      "    \n",
      "    :returns: bool\n",
      "    \"\"\"\n",
      "    if (isinstance(tag, list) or isinstance(tag, tuple)):\n",
      "        for t in tag:\n",
      "            if t in [tag.name for tag in media.tags]:\n",
      "                return True\n",
      "    else:\n",
      "        if tag in [tag.name for tag in media.tags]:\n",
      "            return True\n",
      "        \n",
      "    return False\n",
      "\n",
      "\n",
      "def search_advanced(api, tag_primary, next=None, caption=None, tag=None, count=20, max_iters=20):\n",
      "    if (caption is not None and tag is not None):\n",
      "        raise ValueError, 'Perform either a caption or tag search'\n",
      "        \n",
      "    results = []\n",
      "    iters = 0\n",
      "    \n",
      "    tag_search, next_tag = api.tag_search(q=tag_primary)\n",
      "    tag_recent_media, next = api.tag_recent_media(tag_name=tag_search[0].name, with_next_url=next)\n",
      "    iters += 1\n",
      "    \n",
      "    if caption is not None:\n",
      "        for media in tag_recent_media:\n",
      "            if match_caption(media, caption):\n",
      "                results.append(media)\n",
      "    if tag is not None:\n",
      "        for media in tag_recent_media:\n",
      "            if has_tag(media, tag):\n",
      "                results.append(media) \n",
      "                \n",
      "    while (len(results) < count and iters < max_iters):\n",
      "        tag_recent_media, next = api.tag_recent_media(tag_name=tag_search[0].name, with_next_url=next)\n",
      "        if caption is not None:\n",
      "            for media in tag_recent_media:\n",
      "                if match_caption(media, caption):\n",
      "                    results.append(media)\n",
      "        if tag is not None:\n",
      "            for media in tag_recent_media:\n",
      "                if has_tag(media, tag):\n",
      "                    results.append(media) \n",
      "        iters += 1\n",
      "        sys.stdout.write('\\rPage %s - %s results found'%(iters, len(results)))\n",
      "        sys.stdout.flush()\n",
      "    return results, next\n"
     ],
     "language": "python",
     "metadata": {},
     "outputs": [],
     "prompt_number": 63
    },
    {
     "cell_type": "code",
     "collapsed": false,
     "input": [
      "# Get your key/secret from http://instagram.com/developer/\n",
      "with open(helpers.user_path('instagram_client_keys.txt'),'r') as fh:\n",
      "    keys = json.load(fh)\n",
      "\n",
      "# plop those babies in!\n",
      "api = ig.client.InstagramAPI(client_id=keys['INSTAGRAM_CLIENT_ID'],\n",
      "                   client_secret=keys['INSTAGRAM_CLIENT_SECRET'])\n",
      "\n",
      "html_big = '<img src=%s width=\"600\" />'\n",
      "html_small = '<img src=%s width=\"200\" />'"
     ],
     "language": "python",
     "metadata": {},
     "outputs": [],
     "prompt_number": 3
    },
    {
     "cell_type": "code",
     "collapsed": false,
     "input": [
      "results, next = search_advanced(api, '', caption=['twin', 'triplet', 'gemelo'], max_iters=200, next=next)\n"
     ],
     "language": "python",
     "metadata": {},
     "outputs": [
      {
       "output_type": "stream",
       "stream": "stdout",
       "text": [
        "\r",
        "Page 2 - 0 results found"
       ]
      },
      {
       "output_type": "stream",
       "stream": "stdout",
       "text": [
        "\r",
        "Page 3 - 0 results found"
       ]
      },
      {
       "output_type": "stream",
       "stream": "stdout",
       "text": [
        "\r",
        "Page 4 - 0 results found"
       ]
      },
      {
       "output_type": "stream",
       "stream": "stdout",
       "text": [
        "\r",
        "Page 5 - 0 results found"
       ]
      },
      {
       "output_type": "stream",
       "stream": "stdout",
       "text": [
        "\r",
        "Page 6 - 0 results found"
       ]
      },
      {
       "output_type": "stream",
       "stream": "stdout",
       "text": [
        "\r",
        "Page 7 - 0 results found"
       ]
      },
      {
       "output_type": "stream",
       "stream": "stdout",
       "text": [
        "\r",
        "Page 8 - 0 results found"
       ]
      },
      {
       "output_type": "stream",
       "stream": "stdout",
       "text": [
        "\r",
        "Page 9 - 0 results found"
       ]
      },
      {
       "output_type": "stream",
       "stream": "stdout",
       "text": [
        "\r",
        "Page 10 - 0 results found"
       ]
      },
      {
       "output_type": "stream",
       "stream": "stdout",
       "text": [
        "\r",
        "Page 11 - 1 results found"
       ]
      },
      {
       "output_type": "stream",
       "stream": "stdout",
       "text": [
        "\r",
        "Page 12 - 1 results found"
       ]
      },
      {
       "output_type": "stream",
       "stream": "stdout",
       "text": [
        "\r",
        "Page 13 - 1 results found"
       ]
      },
      {
       "output_type": "stream",
       "stream": "stdout",
       "text": [
        "\r",
        "Page 14 - 1 results found"
       ]
      },
      {
       "output_type": "stream",
       "stream": "stdout",
       "text": [
        "\r",
        "Page 15 - 1 results found"
       ]
      },
      {
       "output_type": "stream",
       "stream": "stdout",
       "text": [
        "\r",
        "Page 16 - 1 results found"
       ]
      },
      {
       "output_type": "stream",
       "stream": "stdout",
       "text": [
        "\r",
        "Page 17 - 2 results found"
       ]
      },
      {
       "output_type": "stream",
       "stream": "stdout",
       "text": [
        "\r",
        "Page 18 - 2 results found"
       ]
      },
      {
       "output_type": "stream",
       "stream": "stdout",
       "text": [
        "\r",
        "Page 19 - 3 results found"
       ]
      },
      {
       "output_type": "stream",
       "stream": "stdout",
       "text": [
        "\r",
        "Page 20 - 3 results found"
       ]
      },
      {
       "output_type": "stream",
       "stream": "stdout",
       "text": [
        "\r",
        "Page 21 - 3 results found"
       ]
      },
      {
       "output_type": "stream",
       "stream": "stdout",
       "text": [
        "\r",
        "Page 22 - 3 results found"
       ]
      },
      {
       "output_type": "stream",
       "stream": "stdout",
       "text": [
        "\r",
        "Page 23 - 3 results found"
       ]
      },
      {
       "output_type": "stream",
       "stream": "stdout",
       "text": [
        "\r",
        "Page 24 - 3 results found"
       ]
      },
      {
       "output_type": "stream",
       "stream": "stdout",
       "text": [
        "\r",
        "Page 25 - 3 results found"
       ]
      },
      {
       "output_type": "stream",
       "stream": "stdout",
       "text": [
        "\r",
        "Page 26 - 3 results found"
       ]
      },
      {
       "output_type": "stream",
       "stream": "stdout",
       "text": [
        "\r",
        "Page 27 - 3 results found"
       ]
      },
      {
       "output_type": "stream",
       "stream": "stdout",
       "text": [
        "\r",
        "Page 28 - 4 results found"
       ]
      },
      {
       "output_type": "stream",
       "stream": "stdout",
       "text": [
        "\r",
        "Page 29 - 4 results found"
       ]
      },
      {
       "output_type": "stream",
       "stream": "stdout",
       "text": [
        "\r",
        "Page 30 - 5 results found"
       ]
      },
      {
       "output_type": "stream",
       "stream": "stdout",
       "text": [
        "\r",
        "Page 31 - 5 results found"
       ]
      },
      {
       "output_type": "stream",
       "stream": "stdout",
       "text": [
        "\r",
        "Page 32 - 5 results found"
       ]
      },
      {
       "output_type": "stream",
       "stream": "stdout",
       "text": [
        "\r",
        "Page 33 - 6 results found"
       ]
      },
      {
       "output_type": "stream",
       "stream": "stdout",
       "text": [
        "\r",
        "Page 34 - 6 results found"
       ]
      },
      {
       "output_type": "stream",
       "stream": "stdout",
       "text": [
        "\r",
        "Page 35 - 6 results found"
       ]
      },
      {
       "output_type": "stream",
       "stream": "stdout",
       "text": [
        "\r",
        "Page 36 - 8 results found"
       ]
      },
      {
       "output_type": "stream",
       "stream": "stdout",
       "text": [
        "\r",
        "Page 37 - 9 results found"
       ]
      },
      {
       "output_type": "stream",
       "stream": "stdout",
       "text": [
        "\r",
        "Page 38 - 9 results found"
       ]
      },
      {
       "output_type": "stream",
       "stream": "stdout",
       "text": [
        "\r",
        "Page 39 - 9 results found"
       ]
      },
      {
       "output_type": "stream",
       "stream": "stdout",
       "text": [
        "\r",
        "Page 40 - 9 results found"
       ]
      },
      {
       "output_type": "stream",
       "stream": "stdout",
       "text": [
        "\r",
        "Page 41 - 9 results found"
       ]
      },
      {
       "output_type": "stream",
       "stream": "stdout",
       "text": [
        "\r",
        "Page 42 - 9 results found"
       ]
      },
      {
       "output_type": "stream",
       "stream": "stdout",
       "text": [
        "\r",
        "Page 43 - 9 results found"
       ]
      },
      {
       "output_type": "stream",
       "stream": "stdout",
       "text": [
        "\r",
        "Page 44 - 11 results found"
       ]
      },
      {
       "output_type": "stream",
       "stream": "stdout",
       "text": [
        "\r",
        "Page 45 - 11 results found"
       ]
      },
      {
       "output_type": "stream",
       "stream": "stdout",
       "text": [
        "\r",
        "Page 46 - 11 results found"
       ]
      },
      {
       "output_type": "stream",
       "stream": "stdout",
       "text": [
        "\r",
        "Page 47 - 11 results found"
       ]
      },
      {
       "output_type": "stream",
       "stream": "stdout",
       "text": [
        "\r",
        "Page 48 - 11 results found"
       ]
      },
      {
       "output_type": "stream",
       "stream": "stdout",
       "text": [
        "\r",
        "Page 49 - 11 results found"
       ]
      },
      {
       "output_type": "stream",
       "stream": "stdout",
       "text": [
        "\r",
        "Page 50 - 11 results found"
       ]
      },
      {
       "output_type": "stream",
       "stream": "stdout",
       "text": [
        "\r",
        "Page 51 - 11 results found"
       ]
      },
      {
       "output_type": "stream",
       "stream": "stdout",
       "text": [
        "\r",
        "Page 52 - 11 results found"
       ]
      },
      {
       "output_type": "stream",
       "stream": "stdout",
       "text": [
        "\r",
        "Page 53 - 11 results found"
       ]
      },
      {
       "output_type": "stream",
       "stream": "stdout",
       "text": [
        "\r",
        "Page 54 - 11 results found"
       ]
      },
      {
       "output_type": "stream",
       "stream": "stdout",
       "text": [
        "\r",
        "Page 55 - 12 results found"
       ]
      },
      {
       "output_type": "stream",
       "stream": "stdout",
       "text": [
        "\r",
        "Page 56 - 12 results found"
       ]
      },
      {
       "output_type": "stream",
       "stream": "stdout",
       "text": [
        "\r",
        "Page 57 - 12 results found"
       ]
      },
      {
       "output_type": "stream",
       "stream": "stdout",
       "text": [
        "\r",
        "Page 58 - 13 results found"
       ]
      },
      {
       "output_type": "stream",
       "stream": "stdout",
       "text": [
        "\r",
        "Page 59 - 13 results found"
       ]
      },
      {
       "output_type": "stream",
       "stream": "stdout",
       "text": [
        "\r",
        "Page 60 - 14 results found"
       ]
      },
      {
       "output_type": "stream",
       "stream": "stdout",
       "text": [
        "\r",
        "Page 61 - 14 results found"
       ]
      },
      {
       "output_type": "stream",
       "stream": "stdout",
       "text": [
        "\r",
        "Page 62 - 15 results found"
       ]
      },
      {
       "output_type": "stream",
       "stream": "stdout",
       "text": [
        "\r",
        "Page 63 - 17 results found"
       ]
      },
      {
       "output_type": "stream",
       "stream": "stdout",
       "text": [
        "\r",
        "Page 64 - 17 results found"
       ]
      },
      {
       "output_type": "stream",
       "stream": "stdout",
       "text": [
        "\r",
        "Page 65 - 17 results found"
       ]
      },
      {
       "output_type": "stream",
       "stream": "stdout",
       "text": [
        "\r",
        "Page 66 - 17 results found"
       ]
      },
      {
       "output_type": "stream",
       "stream": "stdout",
       "text": [
        "\r",
        "Page 67 - 17 results found"
       ]
      },
      {
       "output_type": "stream",
       "stream": "stdout",
       "text": [
        "\r",
        "Page 68 - 17 results found"
       ]
      },
      {
       "output_type": "stream",
       "stream": "stdout",
       "text": [
        "\r",
        "Page 69 - 18 results found"
       ]
      },
      {
       "output_type": "stream",
       "stream": "stdout",
       "text": [
        "\r",
        "Page 70 - 18 results found"
       ]
      },
      {
       "output_type": "stream",
       "stream": "stdout",
       "text": [
        "\r",
        "Page 71 - 18 results found"
       ]
      },
      {
       "output_type": "stream",
       "stream": "stdout",
       "text": [
        "\r",
        "Page 72 - 18 results found"
       ]
      },
      {
       "output_type": "stream",
       "stream": "stdout",
       "text": [
        "\r",
        "Page 73 - 19 results found"
       ]
      },
      {
       "output_type": "stream",
       "stream": "stdout",
       "text": [
        "\r",
        "Page 74 - 19 results found"
       ]
      },
      {
       "output_type": "stream",
       "stream": "stdout",
       "text": [
        "\r",
        "Page 75 - 19 results found"
       ]
      },
      {
       "output_type": "stream",
       "stream": "stdout",
       "text": [
        "\r",
        "Page 76 - 19 results found"
       ]
      },
      {
       "output_type": "stream",
       "stream": "stdout",
       "text": [
        "\r",
        "Page 77 - 19 results found"
       ]
      },
      {
       "output_type": "stream",
       "stream": "stdout",
       "text": [
        "\r",
        "Page 78 - 19 results found"
       ]
      },
      {
       "output_type": "stream",
       "stream": "stdout",
       "text": [
        "\r",
        "Page 79 - 20 results found"
       ]
      }
     ],
     "prompt_number": 64
    },
    {
     "cell_type": "code",
     "collapsed": true,
     "input": [
      "html = ''\n",
      "for media in results:\n",
      "    html += html_small%media.images['standard_resolution'].url\n",
      "    try:\n",
      "        html += \"<li>Caption: %s</li>\"%media.caption.text\n",
      "        html += \"iconosquare.com/%s</br>\"%media.user.username\n",
      "    except:\n",
      "        pass\n",
      "#HTML(html)\n"
     ],
     "language": "python",
     "metadata": {},
     "outputs": [],
     "prompt_number": 82
    },
    {
     "cell_type": "heading",
     "level": 1,
     "metadata": {},
     "source": [
      "Scratchy"
     ]
    },
    {
     "cell_type": "code",
     "collapsed": false,
     "input": [],
     "language": "python",
     "metadata": {},
     "outputs": [],
     "prompt_number": 20
    },
    {
     "cell_type": "code",
     "collapsed": false,
     "input": [
      "type(media.caption.text)"
     ],
     "language": "python",
     "metadata": {},
     "outputs": [
      {
       "metadata": {},
       "output_type": "pyout",
       "prompt_number": 19,
       "text": [
        "unicode"
       ]
      }
     ],
     "prompt_number": 19
    },
    {
     "cell_type": "code",
     "collapsed": false,
     "input": [
      "res = paginate_tag_search(api, tag_search, 60)\n",
      "html = ''\n",
      "for media in res:\n",
      "    html += html_small%media.images['standard_resolution'].url\n",
      "    html += \"<li>Caption: %s</li>\"%media.caption\n",
      "HTML(html)"
     ],
     "language": "python",
     "metadata": {},
     "outputs": [
      {
       "output_type": "stream",
       "stream": "stdout",
       "text": [
        "so far this many:  20\n",
        "so far this many: "
       ]
      },
      {
       "output_type": "stream",
       "stream": "stdout",
       "text": [
        " 40\n"
       ]
      }
     ],
     "prompt_number": 79
    },
    {
     "cell_type": "code",
     "collapsed": false,
     "input": [
      "popular_media[0].tags\n",
      "popular_media[0].link\n",
      "popular_media[0].user.username"
     ],
     "language": "python",
     "metadata": {},
     "outputs": [
      {
       "output_type": "stream",
       "stream": "stdout",
       "text": [
        "Object `user` not found.\n"
       ]
      }
     ],
     "prompt_number": 18
    },
    {
     "cell_type": "code",
     "collapsed": false,
     "input": [
      "\n",
      "#get popular images feed\n",
      "popular_media = api.media_popular(count=40)\n",
      "\n",
      "#extract urls of popular images to a list\n",
      "photolist = []\n",
      "for media in popular_media:\n",
      "    photolist.append(media.images['standard_resolution'].url)\n",
      "\n",
      "print 'Top photos from Instagram'\n",
      "html = ''\n",
      "\n",
      "#show the original image thumbnail\n",
      "for p in photolist:\n",
      "    html = html + '<img src=' + p + ' width=\"150\" />'\n",
      "from IPython.core.display import HTML\n",
      "HTML(html)  "
     ],
     "language": "python",
     "metadata": {},
     "outputs": []
    },
    {
     "cell_type": "code",
     "collapsed": false,
     "input": [
      "type(popular_media[0].user)"
     ],
     "language": "python",
     "metadata": {},
     "outputs": [
      {
       "metadata": {},
       "output_type": "pyout",
       "prompt_number": 19,
       "text": [
        "instagram.models.User"
       ]
      }
     ],
     "prompt_number": 19
    },
    {
     "cell_type": "code",
     "collapsed": false,
     "input": [
      "xx = popular_media[0].link"
     ],
     "language": "python",
     "metadata": {},
     "outputs": [],
     "prompt_number": 27
    },
    {
     "cell_type": "code",
     "collapsed": false,
     "input": [
      "xx"
     ],
     "language": "python",
     "metadata": {},
     "outputs": [
      {
       "metadata": {},
       "output_type": "pyout",
       "prompt_number": 28,
       "text": [
        "'http://instagram.com/p/rsWGkair59/'"
       ]
      }
     ],
     "prompt_number": 28
    },
    {
     "cell_type": "code",
     "collapsed": false,
     "input": [
      "popular_media[2].images['standard_resolution'].url"
     ],
     "language": "python",
     "metadata": {},
     "outputs": [
      {
       "metadata": {},
       "output_type": "pyout",
       "prompt_number": 33,
       "text": [
        "'http://scontent-a.cdninstagram.com/hphotos-xap1/t51.2885-15/925359_300634780119745_43555722_n.jpg'"
       ]
      }
     ],
     "prompt_number": 33
    },
    {
     "cell_type": "code",
     "collapsed": false,
     "input": [
      "print api.x_ratelimit"
     ],
     "language": "python",
     "metadata": {},
     "outputs": [
      {
       "output_type": "stream",
       "stream": "stdout",
       "text": [
        "None\n"
       ]
      }
     ],
     "prompt_number": 7
    },
    {
     "cell_type": "code",
     "collapsed": false,
     "input": [],
     "language": "python",
     "metadata": {},
     "outputs": []
    }
   ],
   "metadata": {}
  }
 ]
}