{
 "metadata": {
  "name": "",
  "signature": "sha256:e5df1196fbb492bcac28d8e730852c90ac605b2e1ef4f687c29033cdd2c45e26"
 },
 "nbformat": 3,
 "nbformat_minor": 0,
 "worksheets": [
  {
   "cells": [
    {
     "cell_type": "heading",
     "level": 1,
     "metadata": {},
     "source": [
      "Bitly Data"
     ]
    },
    {
     "cell_type": "code",
     "collapsed": false,
     "input": [
      "import pandas as pd\n",
      "import numpy as np\n",
      "import matplotlib.pyplot as plt\n",
      "import json\n",
      "\n",
      "import helpers"
     ],
     "language": "python",
     "metadata": {},
     "outputs": [],
     "prompt_number": 2
    },
    {
     "cell_type": "code",
     "collapsed": false,
     "input": [
      "fn = 'usagov_bitly_data2013-05-17-1368832207'\n",
      "fpath = helpers.user_prefix()+'Downloads\\\\'+fn\n",
      "print fpath"
     ],
     "language": "python",
     "metadata": {},
     "outputs": [],
     "prompt_number": 2
    },
    {
     "cell_type": "code",
     "collapsed": false,
     "input": [
      "buf = open(fpath, 'rb')\n",
      "data = [json.loads(line) for line in buf]\n"
     ],
     "language": "python",
     "metadata": {},
     "outputs": [],
     "prompt_number": 4
    },
    {
     "cell_type": "code",
     "collapsed": false,
     "input": [
      "frame = pd.DataFrame(data)"
     ],
     "language": "python",
     "metadata": {},
     "outputs": [],
     "prompt_number": 5
    },
    {
     "cell_type": "code",
     "collapsed": false,
     "input": [
      "cframe = frame[frame['a'].notnull()]"
     ],
     "language": "python",
     "metadata": {},
     "outputs": [],
     "prompt_number": 6
    },
    {
     "cell_type": "code",
     "collapsed": false,
     "input": [
      "operating_system = np.where(cframe['a'].str.contains('Android'), 'Android', 'Other')"
     ],
     "language": "python",
     "metadata": {},
     "outputs": [],
     "prompt_number": 23
    },
    {
     "cell_type": "code",
     "collapsed": false,
     "input": [
      "operating_system.value_counts()"
     ],
     "language": "python",
     "metadata": {},
     "outputs": [
      {
       "metadata": {},
       "output_type": "pyout",
       "prompt_number": 24,
       "text": [
        "Other      3315\n",
        "Android     524\n",
        "dtype: int64"
       ]
      }
     ],
     "prompt_number": 24
    },
    {
     "cell_type": "code",
     "collapsed": false,
     "input": [
      "by_tz_os = cframe.groupby(['tz', operating_system])\n"
     ],
     "language": "python",
     "metadata": {},
     "outputs": [],
     "prompt_number": 34
    },
    {
     "cell_type": "code",
     "collapsed": false,
     "input": [
      "res = by_tz_os.size().unstack(level=0).fillna(0)"
     ],
     "language": "python",
     "metadata": {},
     "outputs": [],
     "prompt_number": 46
    },
    {
     "cell_type": "code",
     "collapsed": false,
     "input": [
      "print res"
     ],
     "language": "python",
     "metadata": {},
     "outputs": [
      {
       "output_type": "stream",
       "stream": "stdout",
       "text": [
        "<class 'pandas.core.frame.DataFrame'>\n",
        "Index: 2 entries, Android to Other\n",
        "Columns: 111 entries,  to Pacific/Honolulu\n",
        "dtypes: float64(111)\n"
       ]
      }
     ],
     "prompt_number": 51
    },
    {
     "cell_type": "heading",
     "level": 1,
     "metadata": {},
     "source": [
      "Name Data"
     ]
    },
    {
     "cell_type": "code",
     "collapsed": false,
     "input": [
      "import pandas as pd\n",
      "import numpy as np\n",
      "import matplotlib.pyplot as plt"
     ],
     "language": "python",
     "metadata": {},
     "outputs": [],
     "prompt_number": 1
    },
    {
     "cell_type": "code",
     "collapsed": false,
     "input": [
      "years = range(1880, 2014)\n",
      "bits = list()\n",
      "folder = r'C:\\Users\\thartley\\Downloads\\names'\n",
      "\n",
      "for year in years:\n",
      "    fn = folder+'\\\\'+'yob%s.txt'%year\n",
      "    frame = pd.read_csv(fn, names=['name', 'sex', 'births'])\n",
      "    frame['year'] = int(year)\n",
      "    \n",
      "    bits.append(frame)\n",
      "    \n",
      "names = pd.concat(bits, ignore_index=True)\n",
      "    "
     ],
     "language": "python",
     "metadata": {},
     "outputs": [],
     "prompt_number": 2
    },
    {
     "cell_type": "code",
     "collapsed": false,
     "input": [
      "def add_prop(group):\n",
      "    births = group.births.astype(float)\n",
      "    group['prop'] = births/births.sum()\n",
      "    return group\n",
      "\n",
      "names = names.groupby(['year', 'sex']).apply(add_prop)"
     ],
     "language": "python",
     "metadata": {},
     "outputs": [],
     "prompt_number": 4
    },
    {
     "cell_type": "code",
     "collapsed": false,
     "input": [
      "def sort_groups_by(group, keyword):\n",
      "    return group.sort_index(by=keyword, ascending=False)\n",
      "\n",
      "group = names.groupby(['year', 'sex']).apply(sort_groups_by, keyword='births')\n",
      "boys = group[group.sex == 'M']\n",
      "girls = group[group.sex == 'F']\n",
      "\n"
     ],
     "language": "python",
     "metadata": {},
     "outputs": [],
     "prompt_number": 5
    },
    {
     "cell_type": "code",
     "collapsed": false,
     "input": [
      "# Let's figure out the set of names that have ever held the #1 position\n",
      "most_popular_boys = boys.groupby('year').first()\n",
      "number_one_boys_names = set(most_popular_boys.name)\n",
      "\n",
      "most_popular_girls = girls.groupby('year').first()\n",
      "number_one_girls_names = set(most_popular_girls.name)"
     ],
     "language": "python",
     "metadata": {},
     "outputs": [],
     "prompt_number": 6
    },
    {
     "cell_type": "code",
     "collapsed": false,
     "input": [
      "_boys = boys.pivot_table(values='prop', columns='name', index='year', aggfunc=np.sum)\n",
      "best_boys = _boys[list(number_one_boys_names)]\n",
      "ax = best_boys.plot()\n",
      "ax.set_ylabel('Fraction of total names')"
     ],
     "language": "python",
     "metadata": {},
     "outputs": [],
     "prompt_number": 8
    },
    {
     "cell_type": "code",
     "collapsed": false,
     "input": [
      "_girls = girls.pivot_table(values='prop', columns='name', index='year', aggfunc=np.sum)\n",
      "best_girls = _girls[sorted(list(number_one_girls_names))]\n",
      "ax = best_girls.plot()\n",
      "ax.set_ylabel('Fraction of total names')"
     ],
     "language": "python",
     "metadata": {},
     "outputs": [
      {
       "metadata": {},
       "output_type": "pyout",
       "prompt_number": 14,
       "text": [
        "<matplotlib.text.Text at 0x11492d70>"
       ]
      }
     ],
     "prompt_number": 14
    },
    {
     "cell_type": "heading",
     "level": 3,
     "metadata": {},
     "source": [
      "Scratch"
     ]
    },
    {
     "cell_type": "code",
     "collapsed": false,
     "input": [
      "df = pd.DataFrame({'A' : ['foo', 'bar', 'foo', 'bar',\n",
      "   ...:                        'foo', 'bar', 'foo', 'foo'],\n",
      "   ...:                 'B' : ['one', 'one', 'two', 'three',\n",
      "   ...:                        'two', 'two', 'one', 'three'],\n",
      "   ...:                 'C' : 22, 'D' : 33})"
     ],
     "language": "python",
     "metadata": {},
     "outputs": [],
     "prompt_number": 35
    },
    {
     "cell_type": "code",
     "collapsed": false,
     "input": [
      "foo = df.groupby('A')\n"
     ],
     "language": "python",
     "metadata": {},
     "outputs": [
      {
       "html": [
        "<div style=\"max-height:1000px;max-width:1500px;overflow:auto;\">\n",
        "<table border=\"1\" class=\"dataframe\">\n",
        "  <thead>\n",
        "    <tr style=\"text-align: right;\">\n",
        "      <th></th>\n",
        "      <th>A</th>\n",
        "      <th>B</th>\n",
        "      <th>C</th>\n",
        "      <th>D</th>\n",
        "    </tr>\n",
        "  </thead>\n",
        "  <tbody>\n",
        "    <tr>\n",
        "      <th>0</th>\n",
        "      <td> foo</td>\n",
        "      <td>   one</td>\n",
        "      <td> 22</td>\n",
        "      <td> 33</td>\n",
        "    </tr>\n",
        "    <tr>\n",
        "      <th>1</th>\n",
        "      <td> bar</td>\n",
        "      <td>   one</td>\n",
        "      <td> 22</td>\n",
        "      <td> 33</td>\n",
        "    </tr>\n",
        "    <tr>\n",
        "      <th>2</th>\n",
        "      <td> foo</td>\n",
        "      <td>   two</td>\n",
        "      <td> 22</td>\n",
        "      <td> 33</td>\n",
        "    </tr>\n",
        "    <tr>\n",
        "      <th>3</th>\n",
        "      <td> bar</td>\n",
        "      <td> three</td>\n",
        "      <td> 22</td>\n",
        "      <td> 33</td>\n",
        "    </tr>\n",
        "    <tr>\n",
        "      <th>4</th>\n",
        "      <td> foo</td>\n",
        "      <td>   two</td>\n",
        "      <td> 22</td>\n",
        "      <td> 33</td>\n",
        "    </tr>\n",
        "    <tr>\n",
        "      <th>5</th>\n",
        "      <td> bar</td>\n",
        "      <td>   two</td>\n",
        "      <td> 22</td>\n",
        "      <td> 33</td>\n",
        "    </tr>\n",
        "    <tr>\n",
        "      <th>6</th>\n",
        "      <td> foo</td>\n",
        "      <td>   one</td>\n",
        "      <td> 22</td>\n",
        "      <td> 33</td>\n",
        "    </tr>\n",
        "    <tr>\n",
        "      <th>7</th>\n",
        "      <td> foo</td>\n",
        "      <td> three</td>\n",
        "      <td> 22</td>\n",
        "      <td> 33</td>\n",
        "    </tr>\n",
        "  </tbody>\n",
        "</table>\n",
        "</div>"
       ],
       "metadata": {},
       "output_type": "pyout",
       "prompt_number": 40,
       "text": [
        "     A      B   C   D\n",
        "0  foo    one  22  33\n",
        "1  bar    one  22  33\n",
        "2  foo    two  22  33\n",
        "3  bar  three  22  33\n",
        "4  foo    two  22  33\n",
        "5  bar    two  22  33\n",
        "6  foo    one  22  33\n",
        "7  foo  three  22  33"
       ]
      }
     ],
     "prompt_number": 40
    },
    {
     "cell_type": "code",
     "collapsed": false,
     "input": [
      "df2 = pd.DataFrame({'X' : ['B', 'B', 'A', 'A'], 'Y' : [1, 2, 3, 4]})"
     ],
     "language": "python",
     "metadata": {},
     "outputs": [],
     "prompt_number": 41
    },
    {
     "cell_type": "code",
     "collapsed": false,
     "input": [
      "df2.groupby(['X']).count()"
     ],
     "language": "python",
     "metadata": {},
     "outputs": [
      {
       "html": [
        "<div style=\"max-height:1000px;max-width:1500px;overflow:auto;\">\n",
        "<table border=\"1\" class=\"dataframe\">\n",
        "  <thead>\n",
        "    <tr style=\"text-align: right;\">\n",
        "      <th></th>\n",
        "      <th>Y</th>\n",
        "    </tr>\n",
        "    <tr>\n",
        "      <th>X</th>\n",
        "      <th></th>\n",
        "    </tr>\n",
        "  </thead>\n",
        "  <tbody>\n",
        "    <tr>\n",
        "      <th>A</th>\n",
        "      <td> 2</td>\n",
        "    </tr>\n",
        "    <tr>\n",
        "      <th>B</th>\n",
        "      <td> 2</td>\n",
        "    </tr>\n",
        "  </tbody>\n",
        "</table>\n",
        "</div>"
       ],
       "metadata": {},
       "output_type": "pyout",
       "prompt_number": 51,
       "text": [
        "   Y\n",
        "X   \n",
        "A  2\n",
        "B  2"
       ]
      }
     ],
     "prompt_number": 51
    },
    {
     "cell_type": "code",
     "collapsed": false,
     "input": [],
     "language": "python",
     "metadata": {},
     "outputs": []
    }
   ],
   "metadata": {}
  }
 ]
}