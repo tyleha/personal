{
 "metadata": {
  "name": "pycurl_twitter"
 },
 "nbformat": 3,
 "nbformat_minor": 0,
 "worksheets": [
  {
   "cells": [
    {
     "cell_type": "code",
     "collapsed": false,
     "input": [
      "import oauth2 as oauth"
     ],
     "language": "python",
     "metadata": {},
     "outputs": [],
     "prompt_number": 8
    },
    {
     "cell_type": "code",
     "collapsed": false,
     "input": [
      "REQUEST_TOKEN_URL = 'https://api.twitter.com/oauth/request_token'\n",
      "ACCESS_TOKEN_URL  = 'https://api.twitter.com/oauth/access_token'\n",
      "AUTHORIZATION_URL = 'https://api.twitter.com/oauth/authorize'\n",
      "SIGNIN_URL        = 'https://api.twitter.com/oauth/authenticate'\n"
     ],
     "language": "python",
     "metadata": {},
     "outputs": [],
     "prompt_number": 9
    },
    {
     "cell_type": "code",
     "collapsed": false,
     "input": [
      "ck = 'kcYojLBeue9QwyMFjX5uWw'\n",
      "cks = 'kckFWuXZ6CEVYuGTxVkgcMtaA3k6phQLHPXc0l3Klg'\n",
      "at = '1126194344-cKj1hD5qzZA01muEilhyFujWcO5gtaRYfoslUI5'\n",
      "ats = 'hPDctySk6tTjrRawDmpwaqFHMBjkbhPiPzlMDMSpI'"
     ],
     "language": "python",
     "metadata": {},
     "outputs": [],
     "prompt_number": 10
    },
    {
     "cell_type": "code",
     "collapsed": false,
     "input": [
      "base_url = 'https://api.twitter.com/1/account/verify_credentials.json'"
     ],
     "language": "python",
     "metadata": {},
     "outputs": [],
     "prompt_number": 11
    },
    {
     "cell_type": "code",
     "collapsed": false,
     "input": [
      "_signature_method_plaintext = oauth.SignatureMethod_PLAINTEXT()\n",
      "_signature_method_hmac_sha1 = oauth.SignatureMethod_HMAC_SHA1()\n",
      "\n",
      "_oauth_token    = oauth.Token(key=at, secret=ats)\n",
      "_oauth_consumer = oauth.Consumer(key=ck, secret=cks)"
     ],
     "language": "python",
     "metadata": {},
     "outputs": [],
     "prompt_number": 12
    },
    {
     "cell_type": "code",
     "collapsed": false,
     "input": [
      "print _oauth_token, _oauth_consumer"
     ],
     "language": "python",
     "metadata": {},
     "outputs": [
      {
       "output_type": "stream",
       "stream": "stdout",
       "text": [
        "oauth_token_secret=hPDctySk6tTjrRawDmpwaqFHMBjkbhPiPzlMDMSpI&oauth_token=1126194344-cKj1hD5qzZA01muEilhyFujWcO5gtaRYfoslUI5 oauth_consumer_key=kcYojLBeue9QwyMFjX5uWw&oauth_consumer_secret=kckFWuXZ6CEVYuGTxVkgcMtaA3k6phQLHPXc0l3Klg\n"
       ]
      }
     ],
     "prompt_number": 14
    },
    {
     "cell_type": "code",
     "collapsed": false,
     "input": [],
     "language": "python",
     "metadata": {},
     "outputs": []
    }
   ],
   "metadata": {}
  }
 ]
}