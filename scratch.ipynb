{
 "metadata": {
  "name": "",
  "signature": "sha256:2e91ac2d4fa25ced34eae1bcbb4221fe0a618d4f502913f2003951994eec6ba2"
 },
 "nbformat": 3,
 "nbformat_minor": 0,
 "worksheets": [
  {
   "cells": [
    {
     "cell_type": "code",
     "collapsed": false,
     "input": [
      "import pandas as pd\n",
      "import numpy as np\n",
      "import json"
     ],
     "language": "python",
     "metadata": {},
     "outputs": [],
     "prompt_number": 1
    },
    {
     "cell_type": "code",
     "collapsed": false,
     "input": [
      "xxx = \"\"\"\n",
      "Int64 hash (String s) {\n",
      "        Int64 h = 7\n",
      "        String letters = \"acdegilmnoprstuw\"\n",
      "        for(Int32 i = 0; i < s.length; i++) {\n",
      "            h = (h * 37 + letters.indexOf(s[i]))\n",
      "        }\n",
      "        return h\n",
      "    }\n",
      "\"\"\""
     ],
     "language": "python",
     "metadata": {},
     "outputs": [],
     "prompt_number": 2
    },
    {
     "cell_type": "code",
     "collapsed": false,
     "input": [
      "Find a 9 letter string of characters that contains only letters from\n",
      "\n",
      "acdegilmnoprstuw\n",
      "\n",
      "such that the hash(the_string) is\n",
      "\n",
      "945924806726376\n",
      "\n",
      "ex: leepadg = 680131659347"
     ],
     "language": "python",
     "metadata": {},
     "outputs": []
    },
    {
     "cell_type": "code",
     "collapsed": false,
     "input": [
      "def myhash(astr):\n",
      "    h = 7\n",
      "    the_chars = 'acdegilmnoprstuw'\n",
      "    for letter in astr:\n",
      "        h = (h*37 + the_chars.index(letter))\n",
      "    return h\n",
      "\n",
      "the_chars = 'acdegilmnoprstuw'\n",
      "the_hash = 945924806726376\n",
      "\n",
      "def reverse_hash(anum):\n",
      "    the_word = ''\n",
      "    possible_indices = range(len(the_chars))\n",
      "    numloops = 0\n",
      "    \n",
      "    while anum != 7 and numloops < 100:\n",
      "        numloops += 1\n",
      "        for idx in possible_indices:\n",
      "            #print idx\n",
      "            hashbit = ((anum - idx)/37.0)\n",
      "            if hashbit%1 == 0:\n",
      "                print hashbit, the_chars[idx]\n",
      "                anum = hashbit\n",
      "                the_word += the_chars[idx]\n",
      "                break\n",
      "    \n",
      "    return the_word[::-1]\n",
      "\n",
      "def reverse_algo(number, an_index):\n",
      "    return (int(number) - int(an_index))/37\n",
      "\n",
      "    "
     ],
     "language": "python",
     "metadata": {},
     "outputs": [],
     "prompt_number": 23
    },
    {
     "cell_type": "code",
     "collapsed": false,
     "input": [
      "res = reverse_hash(the_hash)\n",
      "print res"
     ],
     "language": "python",
     "metadata": {},
     "outputs": [
      {
       "output_type": "stream",
       "stream": "stdout",
       "text": [
        "2.55655353169e+13 e\n",
        "6.90960413971e+11 d\n",
        "18674605783.0 a\n",
        "504719075.0 n\n",
        "13641056.0 e\n",
        "368677.0 m\n",
        "9964.0 o\n",
        "269.0 r\n",
        "7.0 p\n",
        "promenade\n"
       ]
      }
     ],
     "prompt_number": 24
    },
    {
     "cell_type": "code",
     "collapsed": false,
     "input": [
      "myhash(res)"
     ],
     "language": "python",
     "metadata": {},
     "outputs": [
      {
       "metadata": {},
       "output_type": "pyout",
       "prompt_number": 26,
       "text": [
        "945924806726376L"
       ]
      }
     ],
     "prompt_number": 26
    },
    {
     "cell_type": "code",
     "collapsed": false,
     "input": [
      "# step 0: h is 7\n",
      "# step 1: multiply h by 37\n",
      "# step 2: add the index of the character\n",
      "# step 3: repeat..."
     ],
     "language": "python",
     "metadata": {},
     "outputs": []
    },
    {
     "cell_type": "code",
     "collapsed": false,
     "input": [
      "945924806726376"
     ],
     "language": "python",
     "metadata": {},
     "outputs": [
      {
       "metadata": {},
       "output_type": "pyout",
       "prompt_number": 9,
       "text": [
        "0.2999999999999998"
       ]
      }
     ],
     "prompt_number": 9
    },
    {
     "cell_type": "code",
     "collapsed": false,
     "input": [
      "4.0%1 == 0"
     ],
     "language": "python",
     "metadata": {},
     "outputs": [
      {
       "metadata": {},
       "output_type": "pyout",
       "prompt_number": 8,
       "text": [
        "True"
       ]
      }
     ],
     "prompt_number": 8
    },
    {
     "cell_type": "code",
     "collapsed": false,
     "input": [],
     "language": "python",
     "metadata": {},
     "outputs": []
    }
   ],
   "metadata": {}
  }
 ]
}