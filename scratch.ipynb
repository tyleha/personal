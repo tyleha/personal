{
 "metadata": {
  "name": "scratch"
 },
 "nbformat": 3,
 "nbformat_minor": 0,
 "worksheets": [
  {
   "cells": [
    {
     "cell_type": "code",
     "collapsed": false,
     "input": [
      "import csv"
     ],
     "language": "python",
     "metadata": {},
     "outputs": [],
     "prompt_number": 1
    },
    {
     "cell_type": "code",
     "collapsed": false,
     "input": [
      "data = {}\n",
      "\n",
      "with open(r'C:\\Users\\Tyler\\Desktop\\rec_blank_counts_example.csv', 'r') as csvfile:\n",
      "    somereader = csv.reader(csvfile)\n",
      "    for i, row in enumerate(somereader):\n",
      "        #Ugh, skip first line (header)\n",
      "        if i == 0: continue\n",
      "\n",
      "        linct = int(row[0]); subj = row[1].lower(); task = row[2].upper()\n",
      "        \n",
      "        #If we haven't seen this subject yet, init variables\n",
      "        if subj not in data.keys():\n",
      "            data[subj] = {}\n",
      "            data[subj][task] = 0\n",
      "         \n",
      "        #But if this subject exists but we haven't seen this\n",
      "        #task yet, init variable\n",
      "        elif task not in data[subj].keys():\n",
      "            data[subj][task] = 0\n",
      "        \n",
      "        #Ready to do the actual math: add if 0\n",
      "        if linct == 0:\n",
      "            data[subj][task] += 1"
     ],
     "language": "python",
     "metadata": {},
     "outputs": [],
     "prompt_number": 11
    },
    {
     "cell_type": "code",
     "collapsed": false,
     "input": [
      "#Open up a csv file\n",
      "dest_filename = r'Subject_Report.csv'\n",
      "\n",
      "with open(dest_filename, 'wb') as subjectfile:\n",
      "    spamwriter = csv.writer(subjectfile, dialect='excel')\n",
      "    spamwriter.writerow(['Subject','Task','Number of Linecounts eq to Zero'])\n",
      "    \n",
      "    #Actually write stuff to csv\n",
      "    for subj, tasks in data.iteritems():\n",
      "        for task, numzero in tasks.iteritems():\n",
      "            spamwriter.writerow([subj, task, numzero])"
     ],
     "language": "python",
     "metadata": {},
     "outputs": [],
     "prompt_number": 22
    },
    {
     "cell_type": "code",
     "collapsed": false,
     "input": [
      "f = open('errors.txt', 'a')"
     ],
     "language": "python",
     "metadata": {},
     "outputs": [],
     "prompt_number": 5
    },
    {
     "cell_type": "code",
     "collapsed": false,
     "input": [
      "f.write('tyleha@gmail.com')"
     ],
     "language": "python",
     "metadata": {},
     "outputs": [],
     "prompt_number": 6
    },
    {
     "cell_type": "code",
     "collapsed": false,
     "input": [
      "f.close()"
     ],
     "language": "python",
     "metadata": {},
     "outputs": [],
     "prompt_number": 7
    },
    {
     "cell_type": "code",
     "collapsed": false,
     "input": [],
     "language": "python",
     "metadata": {},
     "outputs": []
    }
   ],
   "metadata": {}
  }
 ]
}