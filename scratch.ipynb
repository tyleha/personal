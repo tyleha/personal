{
 "metadata": {
  "name": "",
  "signature": "sha256:f44fff55f181542aeee77c8909718d2ef38eced52e88890d271c0427c5e4fe71"
 },
 "nbformat": 3,
 "nbformat_minor": 0,
 "worksheets": [
  {
   "cells": [
    {
     "cell_type": "code",
     "collapsed": false,
     "input": [
      "xxx = \"\"\"\n",
      "Int64 hash (String s) {\n",
      "        Int64 h = 7\n",
      "        String letters = \"acdegilmnoprstuw\"\n",
      "        for(Int32 i = 0; i < s.length; i++) {\n",
      "            h = (h * 37 + letters.indexOf(s[i]))\n",
      "        }\n",
      "        return h\n",
      "    }\n",
      "\"\"\""
     ],
     "language": "python",
     "metadata": {},
     "outputs": [],
     "prompt_number": 2
    },
    {
     "cell_type": "code",
     "collapsed": false,
     "input": [
      "available_characters = 'acdegilmnoprstuw'\n",
      "the_hash = 945924806726376\n",
      "\n",
      "def forward_hash(astring, available_characters):\n",
      "    \"\"\"A python version of the original hash algo\"\"\"\n",
      "    h = 7\n",
      "    for letter in astring:\n",
      "        h = (h*37 + available_characters.index(letter))\n",
      "    return h\n",
      "\n",
      "def reverse_hash(the_hash, available_characters):\n",
      "    \"\"\"The reverse of the forward_hash algorithm\"\"\"\n",
      "    the_word = ''    \n",
      "    \n",
      "    # When the hash equals the starting value of 7, you're done.\n",
      "    while the_hash != 7:\n",
      "        # Iterate through each possible character\n",
      "        for idx, letter in enumerate(available_characters):\n",
      "            # Here's the important bit - determine if the algorithm can be reversed\n",
      "            # and yet still arrive at an integer value. If not, try the next character.\n",
      "            hashbit = ((the_hash - idx)/37.0)\n",
      "            if hashbit%1 == 0:\n",
      "                # Decrement your hash\n",
      "                the_hash = hashbit\n",
      "                # Store the correct character\n",
      "                the_word += letter\n",
      "                break\n",
      "            if idx == len(available_characters)-1:\n",
      "                raise UserWarning, \"Either your hash or your algorithm is terrible...\"\n",
      "    # We've found our word. Reverse it (as we reversed the algorithm) and return.\n",
      "    return the_word[::-1]\n",
      "\n",
      "\n",
      "    "
     ],
     "language": "python",
     "metadata": {},
     "outputs": [],
     "prompt_number": 16
    },
    {
     "cell_type": "code",
     "collapsed": false,
     "input": [
      "%timeit reverse_hash(1317985395604951854, 'acdegilmnoprstuw')"
     ],
     "language": "python",
     "metadata": {},
     "outputs": [
      {
       "output_type": "stream",
       "stream": "stdout",
       "text": [
        "10000 loops, best of 3: 49 \u00b5s per loop\n"
       ]
      }
     ],
     "prompt_number": 24
    },
    {
     "cell_type": "code",
     "collapsed": false,
     "input": [],
     "language": "python",
     "metadata": {},
     "outputs": []
    }
   ],
   "metadata": {}
  }
 ]
}