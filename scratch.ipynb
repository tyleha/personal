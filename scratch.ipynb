{
 "cells": [
  {
   "cell_type": "code",
   "execution_count": 6,
   "metadata": {
    "collapsed": true
   },
   "outputs": [],
   "source": [
    "import numpy as np\n",
    "import matplotlib.pyplot as plt"
   ]
  },
  {
   "cell_type": "code",
   "execution_count": 7,
   "metadata": {
    "collapsed": false
   },
   "outputs": [],
   "source": [
    "def distance_on_unit_sphere(lat1, long1, lat2, long2):\n",
    "    # http://www.johndcook.com/python_longitude_latitude.html\n",
    "    # Convert latitude and longitude to spherical coordinates in radians.\n",
    "    degrees_to_radians = np.pi/180.0  \n",
    "    # phi = 90 - latitude\n",
    "    phi1 = (90.0 - lat1)*degrees_to_radians\n",
    "    phi2 = (90.0 - lat2)*degrees_to_radians\n",
    "    # theta = longitude\n",
    "    theta1 = long1*degrees_to_radians\n",
    "    theta2 = long2*degrees_to_radians\n",
    "\n",
    "    cos = (np.sin(phi1)*np.sin(phi2)*np.cos(theta1 - theta2) + \n",
    "           np.cos(phi1)*np.cos(phi2))\n",
    "    arc = np.arccos( cos )\n",
    "    # Remember to multiply arc by the radius of the earth \n",
    "    # in your favorite set of units to get length.\n",
    "    return arc"
   ]
  },
  {
   "cell_type": "code",
   "execution_count": 8,
   "metadata": {
    "collapsed": true
   },
   "outputs": [],
   "source": [
    "r = 3959 # miles"
   ]
  },
  {
   "cell_type": "code",
   "execution_count": 9,
   "metadata": {
    "collapsed": true
   },
   "outputs": [],
   "source": [
    "locs = [\n",
    "    (46.3622666667, -120.9188833333, 111.875),\n",
    "    (48.3376166667, -122.1789166667, 046.460),\n",
    "    (47.0170166667, -122.80575,      050.765),\n",
    "    (48.7724833333, -122.5996833333, 077.227),\n",
    "    (47.0895333333, -121.9150166667, 044.322),\n",
    "    (49.0423833333, -124.2749333333, 130.889),\n",
    "]\n",
    "\n"
   ]
  },
  {
   "cell_type": "code",
   "execution_count": 10,
   "metadata": {
    "collapsed": false
   },
   "outputs": [],
   "source": [
    "def net_difference(lat, lon, loc):\n",
    "    return "
   ]
  },
  {
   "cell_type": "code",
   "execution_count": 191,
   "metadata": {
    "collapsed": false
   },
   "outputs": [
    {
     "name": "stdout",
     "output_type": "stream",
     "text": [
      "net -1.73087916915\n",
      "net -0.115762105225\n",
      "net 1.07359401508\n",
      "net 0.626468320913\n",
      "net -1.18613042982\n",
      "net 1.69853705886\n",
      "total error 6.43137109906\n"
     ]
    }
   ],
   "source": [
    "###### For a given point:\n",
    "lat = 47.669\n",
    "lon = -122.258\n",
    "\n",
    "# lat = 47.67129\n",
    "# lon = -122.3130\n",
    "\n",
    "# For each location we know, \n",
    "def get_abs_diff(lat, lon): \n",
    "    dist = 0\n",
    "    mind = 1e20\n",
    "    for lat_cl, lon_cl, dist_cl in locs:\n",
    "        # compute distance between points\n",
    "        net = distance_on_unit_sphere(lat, lon, lat_cl, lon_cl)*r - dist_cl\n",
    "        if net < mind:\n",
    "            mind = net\n",
    "        dist += abs(net)\n",
    "        print ('net', net)\n",
    "    # return total difference in distance\n",
    "    return dist, mind\n",
    "\n",
    "abs_diff, mind = get_abs_diff(lat, lon)\n",
    "print('total error', abs_diff)"
   ]
  },
  {
   "cell_type": "code",
   "execution_count": 98,
   "metadata": {
    "collapsed": false
   },
   "outputs": [
    {
     "name": "stdout",
     "output_type": "stream",
     "text": [
      "total error 0.310441859115\n"
     ]
    }
   ],
   "source": [
    "abs_diff, mind = get_abs_diff(lat, lon)\n",
    "print('total error', abs_diff)"
   ]
  },
  {
   "cell_type": "code",
   "execution_count": null,
   "metadata": {
    "collapsed": true
   },
   "outputs": [],
   "source": [
    "min_dist = np.sum([d[2] for f in locs])\n",
    "while min_dist > 1:\n",
    "    \n"
   ]
  },
  {
   "cell_type": "code",
   "execution_count": 196,
   "metadata": {
    "collapsed": false
   },
   "outputs": [
    {
     "name": "stdout",
     "output_type": "stream",
     "text": [
      "46.3622666667, -120.9188833333, 180.04536000009676\n",
      "48.3376166667, -122.1789166667, 74.7701222400402\n",
      "47.0170166667, -122.80575, 81.6983481600439\n",
      "48.7724833333, -122.5996833333, 124.28480908806681\n",
      "47.0895333333, -121.9150166667, 71.32934476803834\n",
      "49.0423833333, -124.2749333333, 210.64542681611323\n"
     ]
    }
   ],
   "source": [
    "for loc in locs:\n",
    "    print('' + str(loc[0]) + ', ' + str(loc[1]) + ', ' + str(loc[2]/0.621371192237))"
   ]
  },
  {
   "cell_type": "code",
   "execution_count": 192,
   "metadata": {
    "collapsed": false
   },
   "outputs": [
    {
     "name": "stdout",
     "output_type": "stream",
     "text": [
      "(46.3622666667, -120.9188833333, 111.875)\n",
      "(48.3376166667, -122.1789166667, 46.46)\n",
      "(47.0170166667, -122.80575, 50.765)\n",
      "(48.7724833333, -122.5996833333, 77.227)\n",
      "(47.0895333333, -121.9150166667, 44.322)\n",
      "(49.0423833333, -124.2749333333, 130.889)\n"
     ]
    }
   ],
   "source": [
    "for loc in locs:\n",
    "    print(loc)"
   ]
  },
  {
   "cell_type": "code",
   "execution_count": null,
   "metadata": {
    "collapsed": true
   },
   "outputs": [],
   "source": []
  }
 ],
 "metadata": {
  "kernelspec": {
   "display_name": "Python 3",
   "language": "python",
   "name": "python3"
  },
  "language_info": {
   "codemirror_mode": {
    "name": "ipython",
    "version": 3
   },
   "file_extension": ".py",
   "mimetype": "text/x-python",
   "name": "python",
   "nbconvert_exporter": "python",
   "pygments_lexer": "ipython3",
   "version": "3.5.1"
  }
 },
 "nbformat": 4,
 "nbformat_minor": 0
}
