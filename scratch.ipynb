{
 "metadata": {
  "name": "",
  "signature": "sha256:c8a254310508b78f241dbcb6a7ab75780d5bdfd8751e88574535d2edadef42a5"
 },
 "nbformat": 3,
 "nbformat_minor": 0,
 "worksheets": [
  {
   "cells": [
    {
     "cell_type": "code",
     "collapsed": false,
     "input": [
      "xxx = \"\"\"\n",
      "Int64 hash (String s) {\n",
      "        Int64 h = 7\n",
      "        String letters = \"acdegilmnoprstuw\"\n",
      "        for(Int32 i = 0; i < s.length; i++) {\n",
      "            h = (h * 37 + letters.indexOf(s[i]))\n",
      "        }\n",
      "        return h\n",
      "    }\n",
      "\"\"\""
     ],
     "language": "python",
     "metadata": {},
     "outputs": [],
     "prompt_number": 1
    },
    {
     "cell_type": "code",
     "collapsed": false,
     "input": [
      "import pdb"
     ],
     "language": "python",
     "metadata": {},
     "outputs": [],
     "prompt_number": 2
    },
    {
     "cell_type": "code",
     "collapsed": false,
     "input": [
      "def forward_hash(astring, available_characters):\n",
      "    \"\"\"A python version of the original hash algo\"\"\"\n",
      "    h = 7\n",
      "    for letter in astring:\n",
      "        h = (h*37 + available_characters.index(letter))\n",
      "    return h\n",
      "\n",
      "def reverse_hash(the_hash, available_characters):\n",
      "    \"\"\"The reverse of the forward_hash algorithm\"\"\"\n",
      "    the_word = ''    \n",
      "    iters = 0\n",
      "    # When the hash equals the starting value of 7, you're done.\n",
      "    while the_hash != 7 and iters < 20:\n",
      "\n",
      "        # Iterate through each possible character\n",
      "        for idx, letter in enumerate(available_characters):\n",
      "            \n",
      "            # Here's the important bit - determine if the algorithm can be reversed\n",
      "            # and yet still arrive at an integer value. If not, try the next character.\n",
      "            if (the_hash - idx)%37 == 0:\n",
      "                # Decrement your hash. Don't have to worry about floats because you know 37 is a factor.\n",
      "                the_hash = (the_hash - idx)/37\n",
      "                # Store the correct character\n",
      "                the_word += letter\n",
      "                break\n",
      "            if idx == len(available_characters)-1:\n",
      "                raise UserWarning, \"Either your hash or your algorithm is no good...\"\n",
      "    # We've found our word. Reverse it (as we reversed the algorithm) and return.\n",
      "    return the_word[::-1]\n",
      "\n",
      "\n",
      "    "
     ],
     "language": "python",
     "metadata": {},
     "outputs": [],
     "prompt_number": 28
    },
    {
     "cell_type": "code",
     "collapsed": false,
     "input": [
      "original_hash = 1317985395604951854\n",
      "available_characters = 'acdegilmnoprstuw'\n",
      "\n",
      "the_word = reverse_hash(original_hash, available_characters)\n",
      "new_hash = forward_hash(the_word, available_characters)\n",
      "if original_hash == new_hash:\n",
      "    print 'Great success! The original hashed word is:', the_word\n",
      "else:\n",
      "    print 'Abject failure.'\n",
      "\n"
     ],
     "language": "python",
     "metadata": {},
     "outputs": [
      {
       "output_type": "stream",
       "stream": "stdout",
       "text": [
        "Great success! The original hashed word is: westernista\n"
       ]
      }
     ],
     "prompt_number": 31
    },
    {
     "cell_type": "code",
     "collapsed": false,
     "input": [],
     "language": "python",
     "metadata": {},
     "outputs": []
    }
   ],
   "metadata": {}
  }
 ]
}