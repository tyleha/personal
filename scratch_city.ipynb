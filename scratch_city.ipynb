{
 "metadata": {
  "name": "",
  "signature": "sha256:0efe3681b1e8b9cc44665bb592a52fcaa6a3d043b3defc7a105921872a96a7e0"
 },
 "nbformat": 3,
 "nbformat_minor": 0,
 "worksheets": [
  {
   "cells": [
    {
     "cell_type": "heading",
     "level": 1,
     "metadata": {
      "heading_collapsed": false
     },
     "source": [
      "1. Stuff"
     ]
    },
    {
     "cell_type": "code",
     "collapsed": false,
     "input": [
      "from imaplib import IMAP4_SSL\n",
      "from datetime import date,timedelta,datetime\n",
      "from time import mktime\n",
      "from email.utils import parsedate, parsedate_tz\n",
      "import email\n",
      "from pylab import plot_date,show,xticks,date2num\n",
      "from pylab import figure,hist,num2date\n",
      "from matplotlib.dates import DateFormatter"
     ],
     "language": "python",
     "metadata": {},
     "outputs": [],
     "prompt_number": 4
    },
    {
     "cell_type": "code",
     "collapsed": false,
     "input": [
      "class GmailAccount(IMAP4_SSL):\n",
      "    def __init__(self, username=None, password=None, folder=None):\n",
      "        self.username = username\n",
      "        self.password = password\n",
      "        self.folder = folder\n",
      "        \n",
      "    def login(self):\n",
      "        self.conn = IMAP4_SSL('imap.gmail.com')\n",
      "        response = self.conn.login(self.username, self.password)\n",
      "        return response\n",
      "    \n",
      "    def search(self, folder, query, readonly=False):\n",
      "        self.conn.select(folder, readonly)\n",
      "        resp, data = self.conn.uid('search', None, query)\n",
      "        return data\n",
      "    \n",
      "    def fetch(self, ids, query):\n",
      "        resp, data = self.conn.uid('fetch', ids[0].replace(' ',','), query)\n",
      "        return data"
     ],
     "language": "python",
     "metadata": {},
     "outputs": [],
     "prompt_number": 5
    },
    {
     "cell_type": "code",
     "collapsed": false,
     "input": [
      "tyler = GmailAccount(username='tyleha@gmail.com',password='56741Tlh')\n",
      "out = tyler.login()"
     ],
     "language": "python",
     "metadata": {},
     "outputs": [],
     "prompt_number": 6
    },
    {
     "cell_type": "code",
     "collapsed": false,
     "input": [
      "interval = (date.today() - timedelta(2)).strftime(\"%d-%b-%Y\")\n",
      "ids = tyler.search(\"inbox\", '(SENTSINCE {date})'.format(date=interval), True)"
     ],
     "language": "python",
     "metadata": {},
     "outputs": [],
     "prompt_number": 33
    },
    {
     "cell_type": "code",
     "collapsed": false,
     "input": [
      "body = '(BODY.PEEK[TEXT])'\n",
      "headers = '(BODY.PEEK[HEADER.FIELDS (SUBJECT FROM DATE TO CC)])'\n",
      "data = tyler.fetch(ids, headers)"
     ],
     "language": "python",
     "metadata": {},
     "outputs": [],
     "prompt_number": 69
    },
    {
     "cell_type": "code",
     "collapsed": false,
     "input": [
      "from email.parser import HeaderParser\n",
      "parser = HeaderParser()\n",
      "msg = parser.parsestr(data[0][1])\n",
      "print type(msg)"
     ],
     "language": "python",
     "metadata": {},
     "outputs": [
      {
       "output_type": "stream",
       "stream": "stdout",
       "text": [
        "<type 'instance'>\n"
       ]
      }
     ],
     "prompt_number": 71
    },
    {
     "cell_type": "code",
     "collapsed": false,
     "input": [
      "msg.keys()"
     ],
     "language": "python",
     "metadata": {},
     "outputs": [
      {
       "metadata": {},
       "output_type": "pyout",
       "prompt_number": 72,
       "text": [
        "['From', 'To', 'CC', 'Subject', 'Date']"
       ]
      }
     ],
     "prompt_number": 72
    },
    {
     "cell_type": "code",
     "collapsed": false,
     "input": [
      "import pandas as pd"
     ],
     "language": "python",
     "metadata": {},
     "outputs": [],
     "prompt_number": 1
    },
    {
     "cell_type": "code",
     "collapsed": false,
     "input": [
      "df = pd.DataFrame({'a': [0, 3], 'b': [1, 4], 'c': [2, 5]})\n",
      "df = pd.concat((pd.DataFrame({'a': [10], 'b': [10], 'c': [10]}), df))\n",
      "print df\n",
      "for row, stuff in df.iteritems():\n",
      "    print row\n",
      "    print stuff\n",
      "#df = df*-1\n",
      "#xx = df.cumsum()\n",
      "#xx.fillna(0)\n",
      "#xx =xx- 10\n",
      "#df\n",
      "\n",
      "df.map()"
     ],
     "language": "python",
     "metadata": {},
     "outputs": [
      {
       "output_type": "stream",
       "stream": "stdout",
       "text": [
        "    a   b   c\n",
        "0  10  10  10\n",
        "0   0   1   2\n",
        "1   3   4   5\n",
        "a\n",
        "0    10\n",
        "0     0\n",
        "1     3\n",
        "Name: a, dtype: int64\n",
        "b\n",
        "0    10\n",
        "0     1\n",
        "1     4\n",
        "Name: b, dtype: int64\n",
        "c\n",
        "0    10\n",
        "0     2\n",
        "1     5\n",
        "Name: c, dtype: int64\n"
       ]
      }
     ],
     "prompt_number": 32
    },
    {
     "cell_type": "code",
     "collapsed": false,
     "input": [
      "df.diff()"
     ],
     "language": "python",
     "metadata": {},
     "outputs": [
      {
       "html": [
        "<div style=\"max-height:1000px;max-width:1500px;overflow:auto;\">\n",
        "<table border=\"1\" class=\"dataframe\">\n",
        "  <thead>\n",
        "    <tr style=\"text-align: right;\">\n",
        "      <th></th>\n",
        "      <th>a</th>\n",
        "      <th>b</th>\n",
        "      <th>c</th>\n",
        "    </tr>\n",
        "  </thead>\n",
        "  <tbody>\n",
        "    <tr>\n",
        "      <th>0</th>\n",
        "      <td>NaN</td>\n",
        "      <td>NaN</td>\n",
        "      <td>NaN</td>\n",
        "    </tr>\n",
        "    <tr>\n",
        "      <th>0</th>\n",
        "      <td>-10</td>\n",
        "      <td> -9</td>\n",
        "      <td> -8</td>\n",
        "    </tr>\n",
        "    <tr>\n",
        "      <th>1</th>\n",
        "      <td>  3</td>\n",
        "      <td>  3</td>\n",
        "      <td>  3</td>\n",
        "    </tr>\n",
        "  </tbody>\n",
        "</table>\n",
        "</div>"
       ],
       "metadata": {},
       "output_type": "pyout",
       "prompt_number": 38,
       "text": [
        "    a   b   c\n",
        "0 NaN NaN NaN\n",
        "0 -10  -9  -8\n",
        "1   3   3   3"
       ]
      }
     ],
     "prompt_number": 38
    },
    {
     "cell_type": "code",
     "collapsed": false,
     "input": [
      "df.diff(-1)"
     ],
     "language": "python",
     "metadata": {},
     "outputs": [
      {
       "html": [
        "<div style=\"max-height:1000px;max-width:1500px;overflow:auto;\">\n",
        "<table border=\"1\" class=\"dataframe\">\n",
        "  <thead>\n",
        "    <tr style=\"text-align: right;\">\n",
        "      <th></th>\n",
        "      <th>a</th>\n",
        "      <th>b</th>\n",
        "      <th>c</th>\n",
        "    </tr>\n",
        "  </thead>\n",
        "  <tbody>\n",
        "    <tr>\n",
        "      <th>0</th>\n",
        "      <td> -3</td>\n",
        "      <td> -3</td>\n",
        "      <td> -3</td>\n",
        "    </tr>\n",
        "    <tr>\n",
        "      <th>1</th>\n",
        "      <td>NaN</td>\n",
        "      <td>NaN</td>\n",
        "      <td>NaN</td>\n",
        "    </tr>\n",
        "  </tbody>\n",
        "</table>\n",
        "</div>"
       ],
       "metadata": {},
       "output_type": "pyout",
       "prompt_number": 19,
       "text": [
        "    a   b   c\n",
        "0  -3  -3  -3\n",
        "1 NaN NaN NaN"
       ]
      }
     ],
     "prompt_number": 19
    },
    {
     "cell_type": "code",
     "collapsed": false,
     "input": [
      "Sample DataFrame \n",
      "     a   b   c\n",
      "1    10  10  10\n",
      "0    0   1   2\n",
      "1    3   4   5\n",
      "\n",
      "\n",
      "New DataFrame created\n",
      "     a     b    c\n",
      "0    -10   -9   -8\n",
      "1    -13    5    3"
     ],
     "language": "python",
     "metadata": {},
     "outputs": []
    }
   ],
   "metadata": {}
  }
 ]
}