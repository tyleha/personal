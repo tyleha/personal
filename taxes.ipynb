{
 "metadata": {
  "name": ""
 },
 "nbformat": 3,
 "nbformat_minor": 0,
 "worksheets": [
  {
   "cells": [
    {
     "cell_type": "code",
     "collapsed": false,
     "input": [
      "import matplotlib.pyplot as plt\n",
      "import numpy as np"
     ],
     "language": "python",
     "metadata": {},
     "outputs": [],
     "prompt_number": 1
    },
    {
     "cell_type": "code",
     "collapsed": false,
     "input": [
      "single = [(0.0, 0),\n",
      "    (0.1, 8295),\n",
      "    (0.15, 36250),\n",
      "    (0.25, 87850),\n",
      "    (0.28, 183250),\n",
      "    (0.33, 398350),\n",
      "    (0.35, 400000),\n",
      "    (0.396, 1000000000),\n",
      "    ]\n",
      "\n",
      "married = [(0.0, 0),\n",
      "    (0.1, 17850), \n",
      "    (0.15, 72500), \n",
      "    (0.25, 146400), \n",
      "    (0.28, 223050), \n",
      "    (0.33, 398350),\n",
      "    (0.35, 400000),\n",
      "    (0.396, 1000000000),\n",
      "    ]\n",
      "\n",
      "standard_deduction = 6100\n",
      "personal_ex = 3900\n",
      "\n",
      "def marginal_tax(income, cutoffs):\n",
      "    taxes = 0\n",
      "    rmd = income\n",
      "    for i in range(1, len(cutoffs)):\n",
      "        rate, cutoff = cutoffs[i]\n",
      "        prev_cutoff = cutoffs[i-1][1]\n",
      "        if rmd <= cutoff-prev_cutoff:\n",
      "            taxes += rmd*rate\n",
      "            break\n",
      "            \n",
      "        taxes += (cutoff - prev_cutoff)*rate\n",
      "        rmd = rmd - (cutoff - prev_cutoff)\n",
      "\n",
      "    return taxes \n",
      "\n",
      "def income_tax(income, joint=False, deduction=None):\n",
      "    \n",
      "    if deduction is None and joint is False:\n",
      "        deduction = standard_deduction + personal_ex\n",
      "    elif deduction is None and joint is True:\n",
      "        deduction = (standard_deduction + personal_ex)*2\n",
      "    \n",
      "    if joint:\n",
      "        tax = marginal_tax(income-deduction, married)\n",
      "    else:\n",
      "        tax = marginal_tax(income-deduction, single)\n",
      "    \n",
      "    return tax\n",
      "\n",
      "def income_and_fica(income, joint=False, deduction=None):\n",
      "    tax = income_tax(income, joint, deduction)\n",
      "    tax += 0.0765*income\n",
      "    return tax\n"
     ],
     "language": "python",
     "metadata": {},
     "outputs": [],
     "prompt_number": 2
    },
    {
     "cell_type": "code",
     "collapsed": false,
     "input": [
      "amount = 50000\n",
      "print income_tax(50000, False)/50000\n",
      "print (income_tax(50000, False)+income_tax(50000, False))/100000\n",
      "print income_tax(100000, True)/100000\n"
     ],
     "language": "python",
     "metadata": {},
     "outputs": [
      {
       "output_type": "stream",
       "stream": "stdout",
       "text": [
        "0.120455\n",
        "0.120455\n",
        "0.119825\n"
       ]
      }
     ],
     "prompt_number": 14
    },
    {
     "cell_type": "code",
     "collapsed": false,
     "input": [
      "x = np.array(range(10, 100))*1000\n",
      "sdata = np.array([income_tax(inc, False)*2 for inc in x])\n",
      "mdata = np.array([income_tax(inc, True) for inc in x])\n",
      "\n",
      "# person a: 50k/year, single\n",
      "# couple a: 50k/year each, single\n",
      "# couble b: 50k/year each, married\n",
      "plt.plot(x*2, sdata, 'b')\n",
      "plt.plot(x, mdata, 'r')\n"
     ],
     "language": "python",
     "metadata": {},
     "outputs": [
      {
       "output_type": "pyout",
       "prompt_number": 44,
       "text": [
        "[<matplotlib.lines.Line2D at 0x865f2d0>]"
       ]
      },
      {
       "output_type": "display_data",
       "png": "[encoded data removed]",
       "text": [
        "<matplotlib.figure.Figure at 0x8894170>"
       ]
      }
     ],
     "prompt_number": 44
    },
    {
     "cell_type": "code",
     "collapsed": false,
     "input": [
      "# Compare savings for different types of unmarried vs married couples\n",
      "import matplotlib.cm as cm\n",
      "\n",
      "incomes = np.array(range(0, 100, 2))*1000 \n",
      "grid = np.zeros([len(incomes)]*2)\n",
      "for i in range(len(incomes)):\n",
      "    for j in range(len(incomes)):\n",
      "        inci, incj = incomes[i], incomes[j]\n",
      "        taxi = income_tax(inci, False)\n",
      "        taxj = income_tax(incj, False)\n",
      "        taxtot = income_tax(inci+incj, True)\n",
      "        #raw dollar sum \n",
      "        grid[len(incomes)-i-1,j] = taxtot - taxi - taxj\n",
      "        #grid[len(incomes)-i-1,j] = ((taxi+taxj)/(inci + incj) - taxtot/(inci+incj))*100\n",
      "\n",
      "\n",
      "extent = [incomes[0], incomes[-1], incomes[0], incomes[-1]]\n",
      "fig = plt.figure(figsize=(12,12))\n",
      "ax = fig.add_subplot(111)\n",
      "cmap_range = np.max([np.nanmax(grid), np.abs(np.nanmin(grid))])\n",
      "col = ax.imshow(grid, extent=extent, cmap=cm.seismic, interpolation='none', vmin=-cmap_range, vmax=cmap_range)\n",
      "fig.colorbar(col)\n"
     ],
     "language": "python",
     "metadata": {},
     "outputs": [
      {
       "output_type": "pyout",
       "prompt_number": 129,
       "text": [
        "<matplotlib.colorbar.Colorbar instance at 0x0F777328>"
       ]
      },
      {
       "output_type": "display_data",
       "png": "[encoded data removed]",
       "text": [
        "<matplotlib.figure.Figure at 0xf68f630>"
       ]
      }
     ],
     "prompt_number": 129
    },
    {
     "cell_type": "code",
     "collapsed": false,
     "input": [
      "np.min(grid)"
     ],
     "language": "python",
     "metadata": {},
     "outputs": [
      {
       "output_type": "pyout",
       "prompt_number": 119,
       "text": [
        "nan"
       ]
      }
     ],
     "prompt_number": 119
    },
    {
     "cell_type": "code",
     "collapsed": false,
     "input": [
      "inc = 108500\n",
      "tax = income_tax(inc, joint=True)\n",
      "print tax/inc*82500/24"
     ],
     "language": "python",
     "metadata": {},
     "outputs": [
      {
       "output_type": "stream",
       "stream": "stdout",
       "text": [
        "442.993951613\n"
       ]
      }
     ],
     "prompt_number": 8
    },
    {
     "cell_type": "code",
     "collapsed": false,
     "input": [
      "print tax/inc"
     ],
     "language": "python",
     "metadata": {},
     "outputs": [
      {
       "output_type": "stream",
       "stream": "stdout",
       "text": [
        "0.128870967742\n"
       ]
      }
     ],
     "prompt_number": 9
    },
    {
     "cell_type": "code",
     "collapsed": false,
     "input": [
      "income_tax(82500, joint=True)/82500."
     ],
     "language": "python",
     "metadata": {},
     "outputs": [
      {
       "metadata": {},
       "output_type": "pyout",
       "prompt_number": 7,
       "text": [
        "0.10281818181818182"
       ]
      }
     ],
     "prompt_number": 7
    },
    {
     "cell_type": "code",
     "collapsed": false,
     "input": [
      "(442.993951613-394)*2"
     ],
     "language": "python",
     "metadata": {},
     "outputs": [
      {
       "metadata": {},
       "output_type": "pyout",
       "prompt_number": 13,
       "text": [
        "97.98790322599996"
       ]
      }
     ],
     "prompt_number": 13
    },
    {
     "cell_type": "code",
     "collapsed": false,
     "input": [
      "5152-98"
     ],
     "language": "python",
     "metadata": {},
     "outputs": [
      {
       "metadata": {},
       "output_type": "pyout",
       "prompt_number": 14,
       "text": [
        "5054"
       ]
      }
     ],
     "prompt_number": 14
    },
    {
     "cell_type": "code",
     "collapsed": false,
     "input": [],
     "language": "python",
     "metadata": {},
     "outputs": []
    }
   ],
   "metadata": {}
  }
 ]
}