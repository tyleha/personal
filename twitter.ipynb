{
 "metadata": {
  "name": "twitter"
 },
 "nbformat": 3,
 "nbformat_minor": 0,
 "worksheets": [
  {
   "cells": [
    {
     "cell_type": "code",
     "collapsed": false,
     "input": [
      "import twitter\n",
      "import sys\n",
      "ck = 'kcYojLBeue9QwyMFjX5uWw'\n",
      "cks = 'kckFWuXZ6CEVYuGTxVkgcMtaA3k6phQLHPXc0l3Klg'\n",
      "at = '1126194344-cKj1hD5qzZA01muEilhyFujWcO5gtaRYfoslUI5'\n",
      "ats = 'hPDctySk6tTjrRawDmpwaqFHMBjkbhPiPzlMDMSpI'"
     ],
     "language": "python",
     "metadata": {},
     "outputs": [],
     "prompt_number": 1
    },
    {
     "cell_type": "code",
     "collapsed": false,
     "input": [
      "api = twitter.Api(consumer_key=ck, consumer_secret=cks,access_token_key=at, access_token_secret=ats)"
     ],
     "language": "python",
     "metadata": {},
     "outputs": [],
     "prompt_number": 2
    },
    {
     "cell_type": "code",
     "collapsed": false,
     "input": [
      "print api.VerifyCredentials()"
     ],
     "language": "python",
     "metadata": {},
     "outputs": [
      {
       "output_type": "stream",
       "stream": "stdout",
       "text": [
        "{\"created_at\": \"Sun Jan 27 20:54:47 +0000 2013\", \"friends_count\": 1, \"id\": 1126194344, \"lang\": \"en\", \"name\": \"Tyler Hartley\", \"profile_background_color\": \"C0DEED\", \"profile_background_tile\": false, \"profile_image_url\": \"http://a0.twimg.com/sticky/default_profile_images/default_profile_2_normal.png\", \"profile_link_color\": \"0084B4\", \"profile_sidebar_fill_color\": \"http://a0.twimg.com/images/themes/theme1/bg.png\", \"profile_text_color\": \"333333\", \"protected\": false, \"screen_name\": \"SportsFansWhere\", \"status\": {\"created_at\": \"Sun Jan 27 21:03:53 +0000 2013\", \"favorited\": false, \"id\": 295638280651825152, \"retweeted\": false, \"source\": \"<a href=\\\"http://www.google.com\\\" rel=\\\"nofollow\\\">Baseball Heatmap</a>\", \"text\": \"I love python-twitter!\", \"truncated\": false}, \"statuses_count\": 1}\n"
       ]
      }
     ],
     "prompt_number": 12
    },
    {
     "cell_type": "code",
     "collapsed": false,
     "input": [
      "friends = api.GetFriends(user='Braves')\n",
      "print len(friends)\n"
     ],
     "language": "python",
     "metadata": {},
     "outputs": [
      {
       "output_type": "stream",
       "stream": "stdout",
       "text": [
        "100\n"
       ]
      }
     ],
     "prompt_number": 21
    },
    {
     "cell_type": "code",
     "collapsed": false,
     "input": [
      "for f in friends:\n",
      "    print f.name.strip(), f.followers_count"
     ],
     "language": "python",
     "metadata": {},
     "outputs": [
      {
       "output_type": "stream",
       "stream": "stdout",
       "text": [
        "Mark Wohlers 5010\n",
        "The Front Row 239\n",
        "shane blalock 58\n",
        "Cody Chaffins 34\n",
        "Justin Upton 102032\n",
        "Chris Johnson 44866\n",
        "Erin Brown 59\n",
        "steven perrins 3\n",
        "Maureen Flaherty 837\n",
        "Evan Gattis 2135\n",
        "2013 WBC 32360\n",
        "Tanya Dunne 138\n",
        "exhoopsprguy 4343\n",
        "VAAugusta 385\n",
        "Mike Minor 9540\n",
        "Brendan Robertson 233\n",
        "Craig Kimbrel 23799\n",
        "OT w/ Jim Murray 700\n",
        "MLB Network PR 2222\n",
        "Classic Mommy 1082\n",
        "Whitney Holtzman 1218\n",
        "BJ Upton 97032\n",
        "DaRreLL 2141\n",
        "Stefanie Paupeck 46\n",
        "Google Local Atlanta 676\n",
        "Christopher Rude 2637\n",
        "BigLeagueNews 1428\n",
        "Kyle Payne 64\n",
        "Majestic Athletic 5116\n",
        "Kaley \u26be 1175\n",
        "Joe 96\n",
        "Alex Ritchey 258\n",
        "92.9 The Game 2246\n",
        "AJ Holland 54\n",
        "Tom Glavine 22431\n",
        "Brad Knight 212\n",
        "Rachel Baribeau 5420\n",
        "Sarah Marshall Ryan 5873\n",
        "Davis Love III 109778\n",
        "Jay Adams 11420\n",
        "TerrapinSteve 3425\n",
        "JR Edens 77\n",
        "ARAMARK S&E 612\n",
        "The Whigs 10354\n",
        "Daniel Shirey 318\n",
        "social media sports 2350\n",
        "Andy Gray 81124\n",
        "USA TODAY Sports 70978\n",
        "Strides Atlanta 146\n",
        "Emily Wynn 322\n",
        "Ashley Tomlinson 639\n",
        "Tom Wayne Jones 53\n",
        "Foley's NY 3154\n",
        "Sarah Dillingham 1217\n",
        "Dorie Turner Nolt 4179\n",
        "Harley-Davidson Mus. 8583\n",
        "FSSouth_Girls 1106\n",
        "Matt Ryan 79510\n",
        "Lynyrd Skynyrd 26652\n",
        "Kenny Flores 367\n",
        "Nationals PR 15690\n",
        "Sean Holland 1005\n",
        "Emily Raines 610\n",
        "Mark Price 58\n",
        "ATL Public Relations 891\n",
        "ashgillespie 317\n",
        "Jovita Moore 9804\n",
        "Jennifer Leslie 4873\n",
        "Coy Wire 16621\n",
        "Rachel 608\n",
        "Stone Mountain Park 2029\n",
        "World of Coca-Cola 28119\n",
        "Robert M. 938\n",
        "Jenn Hobby 22293\n",
        "BASEBALL BLUES 127\n",
        "Smash 2017\n",
        "SweetWater Brewery 24209\n",
        "Lynn 1377\n",
        "Kevin_Hinote 540\n",
        "Katie 920\n",
        "Perry Laurentino 603\n",
        "MattyB 343636\n",
        "Ramona Rucker 95\n",
        "Cameron 63\n",
        "Marissa May 8213\n",
        "Ryan Bowers 19908\n",
        "Rancey Sparks 82\n",
        "Tori Broadway 127\n",
        "Braves Talk 663\n",
        "Alex Morrison 419\n",
        "Jessica Fontana 521\n",
        "Derek Dye 738\n",
        "Bridget Marquardt 440576\n",
        "paul maholm 35542\n",
        "Mallory Perkins 1595\n",
        "Ezekiel Spruill 897\n",
        "randall delgado 5272\n",
        "Andrelton  Simmons 22961\n",
        "JetSportsManagement 977\n",
        "Chipper Jones 234892\n"
       ]
      }
     ],
     "prompt_number": 32
    },
    {
     "cell_type": "code",
     "collapsed": false,
     "input": [
      "friends = api.GetFriends(user='Braves')\n",
      "for i in range(3):\n",
      "    friends.append(api.GetFriends(user='Braves', cursor = "
     ],
     "language": "python",
     "metadata": {},
     "outputs": []
    },
    {
     "cell_type": "heading",
     "level": 3,
     "metadata": {},
     "source": [
      "tweepy"
     ]
    },
    {
     "cell_type": "code",
     "collapsed": false,
     "input": [
      "import tweepy\n",
      "\n",
      "auth = tweepy.OAuthHandler(ck, cks)\n",
      "api = tweepy.API(auth)"
     ],
     "language": "python",
     "metadata": {},
     "outputs": [],
     "prompt_number": 2
    },
    {
     "cell_type": "code",
     "collapsed": false,
     "input": [
      "braves = api.get_user('Braves')"
     ],
     "language": "python",
     "metadata": {},
     "outputs": [],
     "prompt_number": 3
    },
    {
     "cell_type": "code",
     "collapsed": false,
     "input": [
      "brave_friends = [friend for friend in braves.friends()]\n",
      "\n",
      "print len(brave_friends)\n",
      "#for f in brave_friends: print f"
     ],
     "language": "python",
     "metadata": {},
     "outputs": [
      {
       "output_type": "stream",
       "stream": "stdout",
       "text": [
        "100\n"
       ]
      }
     ],
     "prompt_number": 5
    },
    {
     "cell_type": "code",
     "collapsed": false,
     "input": [
      "# Iterate through the first 200 statuses in the friends timeline\n",
      "for xx in tweepy.Cursor(api.get_user('Braves').friends()).items(200):\n",
      "    # Process the status here\n",
      "    print xx.screen_name"
     ],
     "language": "python",
     "metadata": {},
     "outputs": [
      {
       "ename": "TweepError",
       "evalue": "This method does not perform pagination",
       "output_type": "pyerr",
       "traceback": [
        "\u001b[1;31m---------------------------------------------------------------------------\u001b[0m\n\u001b[1;31mTweepError\u001b[0m                                Traceback (most recent call last)",
        "\u001b[1;32m<ipython-input-6-e2eae5cf64d0>\u001b[0m in \u001b[0;36m<module>\u001b[1;34m()\u001b[0m\n\u001b[0;32m      1\u001b[0m \u001b[1;31m# Iterate through the first 200 statuses in the friends timeline\u001b[0m\u001b[1;33m\u001b[0m\u001b[1;33m\u001b[0m\u001b[0m\n\u001b[1;32m----> 2\u001b[1;33m \u001b[1;32mfor\u001b[0m \u001b[0mxx\u001b[0m \u001b[1;32min\u001b[0m \u001b[0mtweepy\u001b[0m\u001b[1;33m.\u001b[0m\u001b[0mCursor\u001b[0m\u001b[1;33m(\u001b[0m\u001b[0mapi\u001b[0m\u001b[1;33m.\u001b[0m\u001b[0mget_user\u001b[0m\u001b[1;33m(\u001b[0m\u001b[1;34m'Braves'\u001b[0m\u001b[1;33m)\u001b[0m\u001b[1;33m.\u001b[0m\u001b[0mfriends\u001b[0m\u001b[1;33m(\u001b[0m\u001b[1;33m)\u001b[0m\u001b[1;33m)\u001b[0m\u001b[1;33m.\u001b[0m\u001b[0mitems\u001b[0m\u001b[1;33m(\u001b[0m\u001b[1;36m200\u001b[0m\u001b[1;33m)\u001b[0m\u001b[1;33m:\u001b[0m\u001b[1;33m\u001b[0m\u001b[0m\n\u001b[0m\u001b[0;32m      3\u001b[0m     \u001b[1;31m# Process the status here\u001b[0m\u001b[1;33m\u001b[0m\u001b[1;33m\u001b[0m\u001b[0m\n\u001b[0;32m      4\u001b[0m     \u001b[1;32mprint\u001b[0m \u001b[0mxx\u001b[0m\u001b[1;33m.\u001b[0m\u001b[0mscreen_name\u001b[0m\u001b[1;33m\u001b[0m\u001b[0m\n",
        "\u001b[1;32mC:\\Python27\\lib\\site-packages\\tweepy\\cursor.pyc\u001b[0m in \u001b[0;36m__init__\u001b[1;34m(self, method, *args, **kargs)\u001b[0m\n\u001b[0;32m     15\u001b[0m                 \u001b[0mself\u001b[0m\u001b[1;33m.\u001b[0m\u001b[0miterator\u001b[0m \u001b[1;33m=\u001b[0m \u001b[0mPageIterator\u001b[0m\u001b[1;33m(\u001b[0m\u001b[0mmethod\u001b[0m\u001b[1;33m,\u001b[0m \u001b[0margs\u001b[0m\u001b[1;33m,\u001b[0m \u001b[0mkargs\u001b[0m\u001b[1;33m)\u001b[0m\u001b[1;33m\u001b[0m\u001b[0m\n\u001b[0;32m     16\u001b[0m         \u001b[1;32melse\u001b[0m\u001b[1;33m:\u001b[0m\u001b[1;33m\u001b[0m\u001b[0m\n\u001b[1;32m---> 17\u001b[1;33m             \u001b[1;32mraise\u001b[0m \u001b[0mTweepError\u001b[0m\u001b[1;33m(\u001b[0m\u001b[1;34m'This method does not perform pagination'\u001b[0m\u001b[1;33m)\u001b[0m\u001b[1;33m\u001b[0m\u001b[0m\n\u001b[0m\u001b[0;32m     18\u001b[0m \u001b[1;33m\u001b[0m\u001b[0m\n\u001b[0;32m     19\u001b[0m     \u001b[1;32mdef\u001b[0m \u001b[0mpages\u001b[0m\u001b[1;33m(\u001b[0m\u001b[0mself\u001b[0m\u001b[1;33m,\u001b[0m \u001b[0mlimit\u001b[0m\u001b[1;33m=\u001b[0m\u001b[1;36m0\u001b[0m\u001b[1;33m)\u001b[0m\u001b[1;33m:\u001b[0m\u001b[1;33m\u001b[0m\u001b[0m\n",
        "\u001b[1;31mTweepError\u001b[0m: This method does not perform pagination"
       ]
      }
     ],
     "prompt_number": 6
    },
    {
     "cell_type": "code",
     "collapsed": false,
     "input": [],
     "language": "python",
     "metadata": {},
     "outputs": []
    }
   ],
   "metadata": {}
  }
 ]
}